{
 "cells": [
  {
   "cell_type": "markdown",
   "id": "20d02d60",
   "metadata": {
    "id": "20d02d60"
   },
   "source": [
    "# Feature Engineering. Практическая работа"
   ]
  },
  {
   "cell_type": "markdown",
   "id": "zy6qaMPhyAZd",
   "metadata": {
    "id": "zy6qaMPhyAZd"
   },
   "source": [
    "Сдаётся на проверку."
   ]
  },
  {
   "cell_type": "markdown",
   "id": "df9d0fa3",
   "metadata": {
    "id": "df9d0fa3"
   },
   "source": [
    "## Цели практической работы\n",
    "\n",
    "Научиться: \n",
    "\n",
    "*   генерировать новые признаки; \n",
    "*   нормализовать и кодировать данные с помощью lambda-функций и библиотеки scikit-learn.\n"
   ]
  },
  {
   "cell_type": "markdown",
   "id": "c4a1bdf2",
   "metadata": {
    "id": "c4a1bdf2"
   },
   "source": [
    "## Что входит в практическую работу\n",
    "\n",
    "1. Построить признаки из строк.\n",
    "2. Преобразовать категориальные переменные.\n",
    "3. Стандартизировать данные.\n",
    "4. Использовать MinMaxScaler для нормализации данных.\n",
    "5. Создать признаки на основе дат.\n",
    "6. Сохранить датафрейм для этапа моделирования."
   ]
  },
  {
   "cell_type": "markdown",
   "id": "cefde751",
   "metadata": {
    "id": "cefde751"
   },
   "source": [
    "## Что оценивается\n",
    "- Программа выдаёт верный ответ на заданном наборе данных.\n",
    "- Описаны причины выбранного решения, если требуется.\n",
    "- Код читабелен: переменным даны осмысленные названия, соблюдены отступы и правила расстановки пробелов.\n",
    "- При построении графиков название и оси подписаны, выведена легенда, если требуется. \n",
    "- Репозиторий проекта содержит осмысленные коммиты, содержащие конкретные реализованные фичи, ветки названы согласно назначению, лишние файлы не хранятся в репозитории.\n",
    "- В репозитории проекта соблюдена иерархия директорий согласно списку модулей и содержащихся в них тем.\n",
    "- Репозиторий проекта содержит файлы с данными, полученными в результате выполнения практической работы.\n"
   ]
  },
  {
   "cell_type": "markdown",
   "id": "d8cc2cfd",
   "metadata": {
    "id": "d8cc2cfd"
   },
   "source": [
    "## Как отправить работу на проверку\n",
    "Сдайте практическую работу этого модуля через систему контроля версий Git сервиса Skillbox GitLab. После загрузки работы на проверку напишите об этом в личном кабинете своему проверяющему куратору.\n"
   ]
  },
  {
   "cell_type": "markdown",
   "id": "3092d4ea",
   "metadata": {
    "id": "3092d4ea"
   },
   "source": [
    "## Задача\n",
    "\n",
    "Мы продолжим исследовать и готовить данные для этапа моделирования.\n",
    "\n",
    "Вам предстоит работать с небольшой выборкой из коллекции подержанных автомобилей, выставленных на продажу в Соединённых Штатах, представленной в файле `data/vehicles_dataset_upd.csv`. На этих данных вы построите первую модель классификации, определяющую категорию цены подержанного автомобиля в зависимости от характеристик транспортного средства.\n",
    "\n",
    "В этой практической работе вы продолжите генерировать дополнительные признаки и завершите подготовку датасета для этапа моделирования.\n",
    "\n",
    "## Описание датасета:\n",
    "- `id`— идентификатор записи;\n",
    "- `url`— URL-записи о продаже;\n",
    "- `region`— регион;\n",
    "- `region_url`— URL региона;\n",
    "- `price`— стоимость;\n",
    "- `year`— год выпуска;\n",
    "- `manufacturer`— производитель;\n",
    "- `model`— модель;\n",
    "- `condition`— состояние;\n",
    "- `cylinders`— количество цилиндров;\n",
    "- `fuel`— тип топлива;\n",
    "- `odometer`— количество пройденных миль;\n",
    "- `title_status`— статус;\n",
    "- `transmission`— коробка передач;\n",
    "- `VIN`— идентификационный номер;\n",
    "- `drive`— тип привода;\n",
    "- `size`— размер;\n",
    "- `type`— кузов;\n",
    "- `paint_color`— цвет;\n",
    "- `image_url`— URL изображения;\n",
    "- `description`— указанное описание;\n",
    "- `county`— страна;\n",
    "- `state`— штат;\n",
    "- `lat`— широта;\n",
    "- `long`— долгота;\n",
    "- `posting_date`— дата размещения объявления о продаже;\n",
    "- `price_category`— категория цены.\n"
   ]
  },
  {
   "cell_type": "code",
   "execution_count": null,
   "id": "859c4d2b",
   "metadata": {
    "ExecuteTime": {
     "end_time": "2022-02-23T19:39:15.915860Z",
     "start_time": "2022-02-23T19:39:15.902436Z"
    },
    "id": "859c4d2b"
   },
   "outputs": [],
   "source": [
    "# Импортируйте необходимые библиотеки"
   ]
  },
  {
   "cell_type": "markdown",
   "id": "a98b05f6",
   "metadata": {
    "id": "a98b05f6"
   },
   "source": [
    "### Задача 1. Построение признаков из строк\n",
    "\n",
    "1. Загрузите датасет из `data/vehicles_dataset_upd6.csv`, выведите первые пять записей и список колонок."
   ]
  },
  {
   "cell_type": "code",
   "execution_count": 188,
   "id": "d536ad11",
   "metadata": {
    "ExecuteTime": {
     "end_time": "2022-03-15T22:40:23.588946Z",
     "start_time": "2022-03-15T22:40:23.585461Z"
    },
    "id": "d536ad11"
   },
   "outputs": [
    {
     "data": {
      "text/html": [
       "<div>\n",
       "<style scoped>\n",
       "    .dataframe tbody tr th:only-of-type {\n",
       "        vertical-align: middle;\n",
       "    }\n",
       "\n",
       "    .dataframe tbody tr th {\n",
       "        vertical-align: top;\n",
       "    }\n",
       "\n",
       "    .dataframe thead th {\n",
       "        text-align: right;\n",
       "    }\n",
       "</style>\n",
       "<table border=\"1\" class=\"dataframe\">\n",
       "  <thead>\n",
       "    <tr style=\"text-align: right;\">\n",
       "      <th></th>\n",
       "      <th>id</th>\n",
       "      <th>url</th>\n",
       "      <th>region</th>\n",
       "      <th>region_url</th>\n",
       "      <th>price</th>\n",
       "      <th>year</th>\n",
       "      <th>manufacturer</th>\n",
       "      <th>model</th>\n",
       "      <th>fuel</th>\n",
       "      <th>odometer</th>\n",
       "      <th>...</th>\n",
       "      <th>is_jeep</th>\n",
       "      <th>is_honda</th>\n",
       "      <th>is_nissan</th>\n",
       "      <th>x0_diesel</th>\n",
       "      <th>x0_electric</th>\n",
       "      <th>x0_gas</th>\n",
       "      <th>x0_hybrid</th>\n",
       "      <th>x0_other</th>\n",
       "      <th>std_scaled_odometer</th>\n",
       "      <th>std_scaled_price</th>\n",
       "    </tr>\n",
       "  </thead>\n",
       "  <tbody>\n",
       "    <tr>\n",
       "      <th>0</th>\n",
       "      <td>7308295377</td>\n",
       "      <td>https://chattanooga.craigslist.org/ctd/d/chatt...</td>\n",
       "      <td>chattanooga</td>\n",
       "      <td>https://chattanooga.craigslist.org</td>\n",
       "      <td>54990</td>\n",
       "      <td>2020</td>\n",
       "      <td>ram</td>\n",
       "      <td>2500 crew cab big horn</td>\n",
       "      <td>diesel</td>\n",
       "      <td>27442</td>\n",
       "      <td>...</td>\n",
       "      <td>0</td>\n",
       "      <td>0</td>\n",
       "      <td>0</td>\n",
       "      <td>1.0</td>\n",
       "      <td>0.0</td>\n",
       "      <td>0.0</td>\n",
       "      <td>0.0</td>\n",
       "      <td>0.0</td>\n",
       "      <td>-1.079390</td>\n",
       "      <td>2.958509</td>\n",
       "    </tr>\n",
       "    <tr>\n",
       "      <th>1</th>\n",
       "      <td>7316380095</td>\n",
       "      <td>https://newjersey.craigslist.org/ctd/d/carlsta...</td>\n",
       "      <td>north jersey</td>\n",
       "      <td>https://newjersey.craigslist.org</td>\n",
       "      <td>16942</td>\n",
       "      <td>2016</td>\n",
       "      <td>ford</td>\n",
       "      <td>explorer 4wd 4dr xlt</td>\n",
       "      <td>other</td>\n",
       "      <td>60023</td>\n",
       "      <td>...</td>\n",
       "      <td>0</td>\n",
       "      <td>0</td>\n",
       "      <td>0</td>\n",
       "      <td>0.0</td>\n",
       "      <td>0.0</td>\n",
       "      <td>0.0</td>\n",
       "      <td>0.0</td>\n",
       "      <td>1.0</td>\n",
       "      <td>-0.560115</td>\n",
       "      <td>-0.085826</td>\n",
       "    </tr>\n",
       "    <tr>\n",
       "      <th>2</th>\n",
       "      <td>7313733749</td>\n",
       "      <td>https://reno.craigslist.org/ctd/d/atlanta-2017...</td>\n",
       "      <td>reno / tahoe</td>\n",
       "      <td>https://reno.craigslist.org</td>\n",
       "      <td>35590</td>\n",
       "      <td>2017</td>\n",
       "      <td>volkswagen</td>\n",
       "      <td>golf r hatchback</td>\n",
       "      <td>gas</td>\n",
       "      <td>14048</td>\n",
       "      <td>...</td>\n",
       "      <td>0</td>\n",
       "      <td>0</td>\n",
       "      <td>0</td>\n",
       "      <td>0.0</td>\n",
       "      <td>0.0</td>\n",
       "      <td>1.0</td>\n",
       "      <td>0.0</td>\n",
       "      <td>0.0</td>\n",
       "      <td>-1.292863</td>\n",
       "      <td>1.406256</td>\n",
       "    </tr>\n",
       "    <tr>\n",
       "      <th>3</th>\n",
       "      <td>7308210929</td>\n",
       "      <td>https://fayetteville.craigslist.org/ctd/d/rale...</td>\n",
       "      <td>fayetteville</td>\n",
       "      <td>https://fayetteville.craigslist.org</td>\n",
       "      <td>14500</td>\n",
       "      <td>2013</td>\n",
       "      <td>toyota</td>\n",
       "      <td>rav4</td>\n",
       "      <td>gas</td>\n",
       "      <td>117291</td>\n",
       "      <td>...</td>\n",
       "      <td>0</td>\n",
       "      <td>0</td>\n",
       "      <td>0</td>\n",
       "      <td>0.0</td>\n",
       "      <td>0.0</td>\n",
       "      <td>1.0</td>\n",
       "      <td>0.0</td>\n",
       "      <td>0.0</td>\n",
       "      <td>0.352621</td>\n",
       "      <td>-0.281218</td>\n",
       "    </tr>\n",
       "    <tr>\n",
       "      <th>4</th>\n",
       "      <td>7303797340</td>\n",
       "      <td>https://knoxville.craigslist.org/ctd/d/knoxvil...</td>\n",
       "      <td>knoxville</td>\n",
       "      <td>https://knoxville.craigslist.org</td>\n",
       "      <td>14590</td>\n",
       "      <td>2012</td>\n",
       "      <td>bmw</td>\n",
       "      <td>1 series 128i coupe 2d</td>\n",
       "      <td>other</td>\n",
       "      <td>80465</td>\n",
       "      <td>...</td>\n",
       "      <td>0</td>\n",
       "      <td>0</td>\n",
       "      <td>0</td>\n",
       "      <td>0.0</td>\n",
       "      <td>0.0</td>\n",
       "      <td>0.0</td>\n",
       "      <td>0.0</td>\n",
       "      <td>1.0</td>\n",
       "      <td>-0.234311</td>\n",
       "      <td>-0.274017</td>\n",
       "    </tr>\n",
       "  </tbody>\n",
       "</table>\n",
       "<p>5 rows × 45 columns</p>\n",
       "</div>"
      ],
      "text/plain": [
       "           id                                                url  \\\n",
       "0  7308295377  https://chattanooga.craigslist.org/ctd/d/chatt...   \n",
       "1  7316380095  https://newjersey.craigslist.org/ctd/d/carlsta...   \n",
       "2  7313733749  https://reno.craigslist.org/ctd/d/atlanta-2017...   \n",
       "3  7308210929  https://fayetteville.craigslist.org/ctd/d/rale...   \n",
       "4  7303797340  https://knoxville.craigslist.org/ctd/d/knoxvil...   \n",
       "\n",
       "         region                           region_url  price  year  \\\n",
       "0   chattanooga   https://chattanooga.craigslist.org  54990  2020   \n",
       "1  north jersey     https://newjersey.craigslist.org  16942  2016   \n",
       "2  reno / tahoe          https://reno.craigslist.org  35590  2017   \n",
       "3  fayetteville  https://fayetteville.craigslist.org  14500  2013   \n",
       "4     knoxville     https://knoxville.craigslist.org  14590  2012   \n",
       "\n",
       "  manufacturer                   model    fuel  odometer  ... is_jeep  \\\n",
       "0          ram  2500 crew cab big horn  diesel     27442  ...       0   \n",
       "1         ford    explorer 4wd 4dr xlt   other     60023  ...       0   \n",
       "2   volkswagen        golf r hatchback     gas     14048  ...       0   \n",
       "3       toyota                    rav4     gas    117291  ...       0   \n",
       "4          bmw  1 series 128i coupe 2d   other     80465  ...       0   \n",
       "\n",
       "  is_honda is_nissan x0_diesel x0_electric  x0_gas  x0_hybrid x0_other  \\\n",
       "0        0         0       1.0         0.0     0.0        0.0      0.0   \n",
       "1        0         0       0.0         0.0     0.0        0.0      1.0   \n",
       "2        0         0       0.0         0.0     1.0        0.0      0.0   \n",
       "3        0         0       0.0         0.0     1.0        0.0      0.0   \n",
       "4        0         0       0.0         0.0     0.0        0.0      1.0   \n",
       "\n",
       "  std_scaled_odometer std_scaled_price  \n",
       "0           -1.079390         2.958509  \n",
       "1           -0.560115        -0.085826  \n",
       "2           -1.292863         1.406256  \n",
       "3            0.352621        -0.281218  \n",
       "4           -0.234311        -0.274017  \n",
       "\n",
       "[5 rows x 45 columns]"
      ]
     },
     "execution_count": 188,
     "metadata": {},
     "output_type": "execute_result"
    }
   ],
   "source": [
    "import pandas as pd\n",
    "df = pd.read_csv('data/vehicles_dataset_upd6.csv')\n",
    "df.head()\n"
   ]
  },
  {
   "cell_type": "markdown",
   "id": "c46630e3",
   "metadata": {
    "id": "c46630e3"
   },
   "source": [
    "2. Выведите список значений и количество уникальных значений для модели автомобиля."
   ]
  },
  {
   "cell_type": "code",
   "execution_count": 17,
   "id": "12c123d6",
   "metadata": {
    "ExecuteTime": {
     "end_time": "2022-03-15T22:40:29.330321Z",
     "start_time": "2022-03-15T22:40:29.326988Z"
    },
    "id": "12c123d6"
   },
   "outputs": [
    {
     "name": "stdout",
     "output_type": "stream",
     "text": [
      "model\n",
      "f-150                        145\n",
      "other                        107\n",
      "silverado 1500               105\n",
      "1500                          99\n",
      "camry                         76\n",
      "                            ... \n",
      "sierra1500 crewcab 4x4         1\n",
      "corolla se                     1\n",
      "xc60 t6 inscription sport      1\n",
      "silverado 1500 ls              1\n",
      "a3 2.0t premium plus pzev      1\n",
      "Name: count, Length: 3341, dtype: int64\n"
     ]
    }
   ],
   "source": [
    "print(df['model'].value_counts())"
   ]
  },
  {
   "cell_type": "markdown",
   "id": "bcf1904b",
   "metadata": {
    "id": "bcf1904b"
   },
   "source": [
    "3. Количество уникальных значений велико. Попробуем их сократить, оставив только первое слово в наименовании модели. С помощью lambda-функции и преобразования над строками создайте новый признак `short_model`, содержащий только первое слово из наименования модели, выведите его и количество получившихся уникальных значений."
   ]
  },
  {
   "cell_type": "code",
   "execution_count": 190,
   "id": "6de1d535",
   "metadata": {
    "ExecuteTime": {
     "end_time": "2022-03-15T22:40:30.465505Z",
     "start_time": "2022-03-15T22:40:30.460032Z"
    },
    "id": "6de1d535"
   },
   "outputs": [
    {
     "name": "stdout",
     "output_type": "stream",
     "text": [
      "\n",
      "Количество уникальных сокращенных моделей: 943\n"
     ]
    }
   ],
   "source": [
    "df['short_model'] = df['model'].apply(lambda x: str(x).split(' ')[0])\n",
    "print(\"\\nКоличество уникальных сокращенных моделей:\", df['short_model'].nunique())"
   ]
  },
  {
   "cell_type": "markdown",
   "id": "f8266e27",
   "metadata": {
    "ExecuteTime": {
     "end_time": "2022-01-28T23:12:51.463454Z",
     "start_time": "2022-01-28T23:12:51.458075Z"
    },
    "id": "f8266e27"
   },
   "source": [
    "### Задача 2. Преобразование категориальных переменных\n",
    "\n",
    "1. Для категориальных переменных `short_model`, `transmission`, `region`, `manufacturer`, `state`, `title_status`, `age_category` распечатайте наименование категории и количество уникальных значений в ней.\n"
   ]
  },
  {
   "cell_type": "code",
   "execution_count": 192,
   "id": "a839bd7c",
   "metadata": {
    "ExecuteTime": {
     "end_time": "2022-03-15T22:40:31.559424Z",
     "start_time": "2022-03-15T22:40:31.552170Z"
    },
    "id": "a839bd7c"
   },
   "outputs": [
    {
     "name": "stdout",
     "output_type": "stream",
     "text": [
      "Категория: short_model, количество уникальных значений: 943\n",
      "Категория: transmission, количество уникальных значений: 3\n",
      "Категория: region, количество уникальных значений: 393\n",
      "Категория: manufacturer, количество уникальных значений: 40\n",
      "Категория: state, количество уникальных значений: 51\n",
      "Категория: title_status, количество уникальных значений: 6\n",
      "Категория: age_category, количество уникальных значений: 3\n"
     ]
    }
   ],
   "source": [
    "categorical_features = [\n",
    "    'short_model',\n",
    "    'transmission',\n",
    "    'region',\n",
    "    'manufacturer',\n",
    "    'state',\n",
    "    'title_status',\n",
    "    'age_category',\n",
    "]\n",
    "\n",
    "for feature in categorical_features:\n",
    "    unique_count = df[feature].nunique()\n",
    "    print(f\"Категория: {feature}, количество уникальных значений: {unique_count}\")\n",
    "\n",
    "    "
   ]
  },
  {
   "cell_type": "markdown",
   "id": "6d22ddcd",
   "metadata": {
    "id": "6d22ddcd"
   },
   "source": [
    "2. Создайте датафрейм `data`, содержащий только выбранные категориальные переменные."
   ]
  },
  {
   "cell_type": "code",
   "execution_count": 194,
   "id": "c6fb4d53",
   "metadata": {
    "ExecuteTime": {
     "end_time": "2022-03-15T22:40:32.233510Z",
     "start_time": "2022-03-15T22:40:32.226777Z"
    },
    "id": "c6fb4d53"
   },
   "outputs": [
    {
     "name": "stdout",
     "output_type": "stream",
     "text": [
      "  short_model transmission        region manufacturer state title_status  \\\n",
      "0        2500        other   chattanooga          ram    tn        clean   \n",
      "1    explorer    automatic  north jersey         ford    nj        clean   \n",
      "2        golf        other  reno / tahoe   volkswagen    ca        clean   \n",
      "3        rav4    automatic  fayetteville       toyota    nc        clean   \n",
      "4           1        other     knoxville          bmw    tn        clean   \n",
      "\n",
      "  age_category  \n",
      "0          new  \n",
      "1          new  \n",
      "2          new  \n",
      "3      average  \n",
      "4      average  \n",
      "<class 'pandas.core.frame.DataFrame'>\n",
      "RangeIndex: 9619 entries, 0 to 9618\n",
      "Data columns (total 7 columns):\n",
      " #   Column        Non-Null Count  Dtype \n",
      "---  ------        --------------  ----- \n",
      " 0   short_model   9619 non-null   object\n",
      " 1   transmission  9619 non-null   object\n",
      " 2   region        9619 non-null   object\n",
      " 3   manufacturer  9619 non-null   object\n",
      " 4   state         9619 non-null   object\n",
      " 5   title_status  9619 non-null   object\n",
      " 6   age_category  9619 non-null   object\n",
      "dtypes: object(7)\n",
      "memory usage: 526.2+ KB\n",
      "None\n"
     ]
    }
   ],
   "source": [
    "data = df[categorical_features].copy()\n",
    "print(data.head())\n",
    "print(data.info())"
   ]
  },
  {
   "cell_type": "markdown",
   "id": "cac34814",
   "metadata": {
    "id": "cac34814"
   },
   "source": [
    "3. Создайте объект класса OneHotEncoder, который будет отвечать за преобразование. Уточните, что на выходе должна быть неразреженная матрица."
   ]
  },
  {
   "cell_type": "code",
   "execution_count": 196,
   "id": "5c64ca58",
   "metadata": {
    "ExecuteTime": {
     "end_time": "2022-03-15T22:40:33.034009Z",
     "start_time": "2022-03-15T22:40:33.028764Z"
    },
    "id": "5c64ca58"
   },
   "outputs": [
    {
     "name": "stdout",
     "output_type": "stream",
     "text": [
      "Тип объекта encoder: <class 'sklearn.preprocessing._encoders.OneHotEncoder'>\n"
     ]
    }
   ],
   "source": [
    "from sklearn.preprocessing import OneHotEncoder\n",
    "encoder = OneHotEncoder(sparse_output=False)\n",
    "print(f\"Тип объекта encoder: {type(encoder)}\")"
   ]
  },
  {
   "cell_type": "markdown",
   "id": "26a44ecc",
   "metadata": {
    "id": "26a44ecc"
   },
   "source": [
    "4. Идентифицируйте параметры преобразования на датафрейме с категориальными переменными."
   ]
  },
  {
   "cell_type": "code",
   "execution_count": 198,
   "id": "295f2ffc",
   "metadata": {
    "ExecuteTime": {
     "end_time": "2022-03-15T22:40:33.874311Z",
     "start_time": "2022-03-15T22:40:33.871463Z"
    },
    "id": "295f2ffc"
   },
   "outputs": [
    {
     "name": "stdout",
     "output_type": "stream",
     "text": [
      "Изученные категории:\n",
      " [array(['-benz', '1', '124', '128i', '135i', '1500', '163869', '1928',\n",
      "       '1951', '1954', '1960s', '1966', '1968', '1972', '1977', '1978',\n",
      "       '198.5', '1988', '1994', '1999', '2', '200', '2000', '2002',\n",
      "       '2006', '2007', '2008', '2009', '2012', '2015', '2016', '2017',\n",
      "       '2018', '210', '240', '2500', '2500hd', '280zx', '3', '3-series',\n",
      "       '3-window', '3.2', '300', '300-series', '300c', '300s', '300zx',\n",
      "       '3100', '318i', '320i', '323i', '325ci', '325i', '325is', '325xi',\n",
      "       '328', '328ci', '328d', '328i', '328xi', '330i', '330xi', '335i',\n",
      "       '335xi', '350', '3500', '3500hd', '350z', '370z', '380sl', '3i',\n",
      "       '4', '4-runner', '428', '430i', '435i', '440xi', '4500', '4runner',\n",
      "       '4x4', '5', '5-series', '50', '500', '500c', '500l', '500x',\n",
      "       '525i', '528i', '528xi', '530', '530i', '535i', '535xi', '540i',\n",
      "       '545i', '5500', '5500hd', '550i', '5th', '6', '640', '645ci',\n",
      "       '650i', '650xi', '7', '750', '750i', '750xi', '86', '911', '914',\n",
      "       '928', '944', 'ACURA*', 'ALL', 'AM', 'AMC', 'ASC', 'Acuarea',\n",
      "       'American', 'BUY', 'Bentley', 'Blue', 'Buicks', 'C', 'CHEVORLET',\n",
      "       'CLICK', 'Champion', 'Chevey', 'Chevorlet', 'Comanche', 'Comet',\n",
      "       'D7FH173552', 'DODGE1500', 'Diahatsu', 'E46', 'EASY', 'Eagle',\n",
      "       'Emergency', 'F-250', 'F250', 'FORD*', 'FORD/RANGER',\n",
      "       'FREIGHTLINER', 'FRRV', 'Flexible', 'FordE350', 'Freightliner',\n",
      "       'Frtlner', 'GCM', 'GEHL', 'GMC,', 'GMX', 'GRAND', 'GULF',\n",
      "       'Genesis', 'Gx', 'HINO', 'HUMMER', 'Hino', 'Hobda', 'Hot',\n",
      "       'Hummer', 'IC', 'INTERNATIONAL', 'International', 'Isizu', 'Isuzu',\n",
      "       'JM1BK32F871604924', 'Janesville', 'Jauguar', 'Jayco', 'Kaiser',\n",
      "       'Lotus', 'MASERATI', 'MERCUTY', 'MERDECES', 'MGB', 'MITUSBISHI',\n",
      "       'MV-1', 'Maserati', 'Minin', 'Nascar', 'OLDSMOBILE', 'PLYMOUTH',\n",
      "       'PROGRAMS', 'Peterbilt', 'Pierce', 'Plymouth', 'QX', 'S60',\n",
      "       'SCION', 'SL', 'Saab', 'Scion', 'Sea', 'Sterling', 'Studebaker',\n",
      "       'Suzuki', 'THOMAS', 'Thomas', 'Town', 'Triumph', 'Voltswagon',\n",
      "       'Xx', 'a-class', 'a3', 'a3,', 'a4', 'a5', 'a6', 'a7', 'a8',\n",
      "       'acadia', 'accent', 'accord', 'all', 'allante', 'allroad',\n",
      "       'altima', 'am', 'amc', 'arcadia', 'armada', 'arteon', 'ascent',\n",
      "       'aspen', 'astra', 'astro', 'atlas', 'ats', 'aura', 'autobiography',\n",
      "       'avalanche', 'avalon', 'avanger', 'avenger', 'aveo', 'aviator',\n",
      "       'azera', 'aztek', 'b-class', 'b-series', 'b2200', 'b2300',\n",
      "       'b2600i', 'baja', 'beetle', 'bel', 'belair', 'benz', 'blackwood',\n",
      "       'blazer', 'blue', 'bolt', 'bonanza', 'bonneville', 'boxster',\n",
      "       'bronco', 'brz', 'bug', 'bus', 'c', 'c-10', 'c-7500', 'c-class',\n",
      "       'c-hr', 'c-max', 'c/k', 'c10', 'c250', 'c280', 'c30', 'c300',\n",
      "       'c4500', 'c5500', 'c60', 'c6500', 'c70', 'c8500', 'cabellero',\n",
      "       'cabrio', 'caddilac', 'cadenza', 'caliber', 'camaro', 'camary',\n",
      "       'camero', 'camry', 'canyon', 'capri', 'caprice', 'captiva',\n",
      "       'caravan', 'caravan/grand', 'cargo', 'cascada', 'cavalier',\n",
      "       'cayenne', 'cayman', 'cc', 'cc300', 'cc4500', 'century',\n",
      "       'certified', 'challenger', 'charger', 'cherokee', 'chevelle',\n",
      "       'chevorlet', 'chryler', 'chysler', 'city', 'civic', 'cj-5', 'cj2a',\n",
      "       'cj5', 'cj7', 'cj8', 'cl-class', 'cla', 'cla-class', 'clarity',\n",
      "       'classic', 'classuc', 'clk', 'clk-class', 'clk350', 'cls-class',\n",
      "       'cls550', 'clubman', 'cmax', 'cobalt', 'colbalt', 'colorado',\n",
      "       'comet', 'commander', 'compass', 'concorde', 'conquest',\n",
      "       'continental', 'convertible', 'cooper', 'corolla', 'corsair',\n",
      "       'corvette', 'cougar', 'country', 'countryman', 'coupe', 'cr-v',\n",
      "       'crew', 'crossfire', 'crosstour', 'crosstrek', 'crown', 'cruze',\n",
      "       'crv', 'crz', 'ct', 'ct4', 'ct5', 'ct6', 'cts', 'cts-v', 'cts4',\n",
      "       'cube', 'cvr', 'cx-3', 'cx-5', 'cx-7', 'cx-9', 'cx7', 'cx9', 'd50',\n",
      "       'dakota', 'dart', 'davidson', 'dealer*', 'defender', 'deisel',\n",
      "       'deluxe', 'denali', 'deville', 'diesel', 'discovery', 'dts',\n",
      "       'dump', 'duramax', 'durango', 'durangon', 'e', 'e-150', 'e-250',\n",
      "       'e-350', 'e-450', 'e-class', 'e-golf', 'e-pace', 'e-series',\n",
      "       'e150', 'e250', 'e320', 'e350', 'e450', 'e46', 'e500', 'echo',\n",
      "       'eclipse', 'econoline', 'ecosport', 'edge', 'el', 'elantra',\n",
      "       'elcamino', 'eldorado', 'element', 'enclave', 'encore', 'endeavor',\n",
      "       'envision', 'envoy', 'eos', 'eqinox', 'equinox', 'es', 'es300',\n",
      "       'es330', 'es350', 'escalade', 'escape', 'escape-se,', 'escort',\n",
      "       'eurovan', 'evoque', 'excursion', 'expedition', 'explorer',\n",
      "       'express', 'f', 'f-100', 'f-150', 'f-250', 'f-250sd', 'f-350',\n",
      "       'f-350sd', 'f-450', 'f-450sd', 'f-550', 'f-650', 'f-750', 'f-pace',\n",
      "       'f-type', 'f1', 'f100', 'f150', 'f250', 'f350', 'f450', 'f450sd',\n",
      "       'f50', 'f550', 'f600', 'f650', 'f700', 'f750', 'falcon', 'fe',\n",
      "       'fiero', 'fiesta', 'firebird', 'fit', 'five', 'fj', 'fj40',\n",
      "       'fleetmaster', 'fleetwood', 'flex', 'focus', 'fords', 'forester',\n",
      "       'forte', 'forte5', 'foxbody', 'freestar', 'freestyle',\n",
      "       'freightliner', 'frontier', 'fusion', 'fuso', 'fx35', 'fx45', 'g',\n",
      "       'g-class', 'g.', 'g20', 'g30', 'g35', 'g35x', 'g37', 'g37s',\n",
      "       'g37x', 'g4500', 'g5', 'g6', 'g8', 'galant', 'genesis', 'ghia',\n",
      "       'gl', 'gl-class', 'gl450', 'gla', 'gla-class', 'gladiator', 'glc',\n",
      "       'glc-class', 'gle', 'gle-class', 'glk', 'glk-class', 'glk350',\n",
      "       'gls', 'gmc/chev', 'gmce', 'gmt-400', 'golf', 'gr', 'grand',\n",
      "       'grandville', 'grumman', 'gs', 'gs350', 'gs430', 'gt', 'gt-r',\n",
      "       'gti', 'gto', 'gx', 'gx460', 'gx470', 'hardbody', 'hardtop',\n",
      "       'hearse', 'hhr', 'hiace', 'high', 'highlander', 'hr-v', 'hse',\n",
      "       'hummer', 'hyndai', 'i-miev', 'i3', 'i30', 'i35', 'ilx', 'impala',\n",
      "       'impreza', 'insight', 'international', 'ion', 'ioniq', 'is',\n",
      "       'is250', 'is300', 'isf', 'isuzu', 'jeepster', 'jetta', 'jimmy',\n",
      "       'jouney', 'journey', 'juke', 'jx35', 'k10', 'k20', 'k30', 'k5',\n",
      "       'k900', 'kicks', 'kodiak', 'l', 'l300', 'lacrosse', 'lancer',\n",
      "       'land', 'landcruiser', 'leaf', 'legacy', 'legend', 'lemans',\n",
      "       'lesabre', 'liberty', 'lifted', 'lightning', 'limousine', 'long',\n",
      "       'lr2', 'lr3', 'lr4', 'ls', 'ltd', 'lucerne', 'lx', 'lx450', 'm',\n",
      "       'm-class', 'm3', 'm35', 'm35s', 'm5', 'macan', 'magnum', 'malibu',\n",
      "       'mallinia', 'marineer,premier', 'mariner', 'mark', 'maserati',\n",
      "       'matrix', 'maxima', 'maximum', 'mazda2', 'mazda3', 'mazda5',\n",
      "       'mazda6', 'mazda6i', 'md-x', 'mdx', 'mercades', 'mercedes-amg',\n",
      "       'metris', 'mg', 'miata', 'milan', 'mirage', 'mkc', 'mks', 'mkt',\n",
      "       'mkx', 'mkz', 'ml', 'ml350', 'ml500', 'model', 'monte', 'montero',\n",
      "       'mountaineer', 'mpv', 'mr2', 'murano', 'mustang', 'mx-5',\n",
      "       'nautilus', 'navigator', 'neon', 'new', 'newport', 'niro', 'nitro',\n",
      "       'nova', 'nv', 'nv1500', 'nv200', 'nv2500', 'nv2500hd', 'nx',\n",
      "       'nx300', 'oddyssey', 'odyssey', 'oldsmobile', 'optima', 'optimia',\n",
      "       'other', 'outback', 'outlander', 'outlook', 'paceman', 'pacifica',\n",
      "       'panamera', 'panel', 'park', 'passat', 'passport', 'pathfinder',\n",
      "       'patriot', 'phaeton', 'pick', 'pickup', 'pilot', 'plymouth',\n",
      "       'pontaic', 'prelude', 'prius', 'prizm', 'promaster', 'protege',\n",
      "       'pt', 'putback', 'q3', 'q5', 'q50', 'q60', 'q7', 'q70', 'quattro',\n",
      "       'quest', 'qx50', 'qx56', 'qx60', 'qx70', 'qx80', 'r-class', 'r32',\n",
      "       'rabbit', 'rainier', 'ram1500', 'ram2500', 'ramcharger', 'range',\n",
      "       'ranger', 'rat', 'rav', 'rav4', 'rc', 'rdx', 'reatta', 'rebel',\n",
      "       'regal', 'rendezvous', 'renegade', 'replica', 'ridgeline', 'rio',\n",
      "       'rivera', 'riviera', 'rl', 'rlx', 'roadmaster', 'roadster',\n",
      "       'rogue', 'romeo', 'rondo', 'rouge', 'routan', 'rs', 'rsx', 'rx',\n",
      "       'rx-8', 'rx300', 'rx330', 'rx350', 'rx400h', 'rx7', 'rx8', 's',\n",
      "       's-10', 's-class', 's/w', 's10', 's2000', 's3', 's320', 's4',\n",
      "       's40', 's430', 's5', 's500', 's6', 's60', 's7', 's70', 's8', 's90',\n",
      "       'saab', 'sable', 'santa', 'sante', 'savana', 'sc', 'sc2', 'sc300',\n",
      "       'school', 'scion', 'sebring', 'sedan', 'sedona', 'seirra',\n",
      "       'sentra', 'sequioa', 'sequoia', 'seville', 'shelby', 'sienna',\n",
      "       'sierra', 'sierra1500', 'silverado', 'sky', 'skylark', 'sl-class',\n",
      "       'sl2', 'sl500', 'sl55', 'sl550', 'slc', 'sle', 'slk', 'slk-class',\n",
      "       'slt', 'smart', 'solara', 'solstice', 'sonata', 'sonic', 'sonoma',\n",
      "       'sorento', 'sorrento', 'soul', 'soul+', 'spark', 'spectra',\n",
      "       'sport', 'sportage', 'sprinter', 'srx', 'srx-v6', 'srx4',\n",
      "       'srx~awesome', 'ss', 'ssr', 'starcraft', 'step-van', 'stinger',\n",
      "       'stratus', 'sts', 'studebaker', 'suburban', 'super', 'supra',\n",
      "       'suv', 'suzuki', 'svx', 't', 't-350', 't-bucket', 'tacoma',\n",
      "       'tahoe', 'tarsus', 'taurus', 'tc5500', 'telluride', 'tercel',\n",
      "       'terrain', 'thing', 'thomas', 'thrift', 'thunderbird', 'tiguan',\n",
      "       'titan', 'tl', 'tlx', 'torrent', 'touareg', 'town', 'tracker',\n",
      "       'tractor', 'trailblazer', 'trans', 'transit', 'traverse', 'trax',\n",
      "       'tribeca', 'tribute', 'triumph', 'truck', 'tsx', 'tt', 'tucson',\n",
      "       'tudor', 'tundra', 'uplander', 'utility', 'ux', 'v50', 'v6', 'v60',\n",
      "       'v90', 'van', 'vanagon', 'vandura', 'velar', 'veloster', 'venture',\n",
      "       'venza', 'veracruz', 'verano', 'versa', 'vibe', 'villager', 'vnl',\n",
      "       'volt', 'voyager', 'vtx1300c', 'vue', 'w350', 'willys', 'windstar',\n",
      "       'wrangler', 'wrx', 'x-3', 'x-type', 'x1', 'x2', 'x3', 'x4', 'x5',\n",
      "       'x6', 'xc', 'xc40', 'xc60', 'xc70', 'xc90', 'xe', 'xf', 'xj',\n",
      "       'xj-series', 'xj8', 'xk8', 'xt4', 'xt5', 'xt6', 'xterra', 'xts',\n",
      "       'xv', 'yaris', 'yukon', 'z', 'z3', 'z4', 'zephyr', 'zx2'],\n",
      "      dtype=object), array(['automatic', 'manual', 'other'], dtype=object), array(['SF bay area', 'abilene', 'akron / canton', 'albany',\n",
      "       'albuquerque', 'altoona-johnstown', 'amarillo', 'ames',\n",
      "       'anchorage / mat-su', 'ann arbor', 'annapolis',\n",
      "       'appleton-oshkosh-FDL', 'asheville', 'ashtabula', 'athens',\n",
      "       'atlanta', 'auburn', 'augusta', 'austin', 'bakersfield',\n",
      "       'baltimore', 'baton rouge', 'battle creek',\n",
      "       'beaumont / port arthur', 'bellingham', 'bemidji', 'bend',\n",
      "       'billings', 'binghamton', 'birmingham', 'bismarck', 'bloomington',\n",
      "       'bloomington-normal', 'boise', 'boone', 'boston', 'boulder',\n",
      "       'bowling green', 'bozeman', 'brainerd', 'brownsville', 'brunswick',\n",
      "       'buffalo', 'butte', 'cape cod / islands', 'catskills',\n",
      "       'cedar rapids', 'central NJ', 'central louisiana',\n",
      "       'central michigan', 'champaign urbana', 'charleston', 'charlotte',\n",
      "       'charlottesville', 'chattanooga', 'chautauqua', 'chicago', 'chico',\n",
      "       'chillicothe', 'cincinnati', 'clarksville', 'cleveland',\n",
      "       'clovis / portales', 'college station', 'colorado springs',\n",
      "       'columbia', 'columbia / jeff city', 'columbus', 'corpus christi',\n",
      "       'corvallis/albany', 'cumberland valley', 'dallas / fort worth',\n",
      "       'danville', 'dayton / springfield', 'daytona beach', 'decatur',\n",
      "       'del rio / eagle pass', 'delaware', 'denver', 'des moines',\n",
      "       'detroit metro', 'dothan', 'dubuque', 'duluth / superior',\n",
      "       'east idaho', 'east oregon', 'eastern CO', 'eastern CT',\n",
      "       'eastern NC', 'eastern kentucky', 'eastern montana',\n",
      "       'eastern panhandle', 'eastern shore', 'eau claire', 'el paso',\n",
      "       'elko', 'elmira-corning', 'erie', 'eugene', 'evansville',\n",
      "       'fairbanks', 'fargo / moorhead', 'farmington', 'fayetteville',\n",
      "       'finger lakes', 'flagstaff / sedona', 'flint', 'florence',\n",
      "       'florence / muscle shoals', 'florida keys',\n",
      "       'fort collins / north CO', 'fort dodge', 'fort smith',\n",
      "       'fort wayne', 'frederick', 'fredericksburg', 'fresno / madera',\n",
      "       'ft myers / SW florida', 'gadsden-anniston', 'gainesville',\n",
      "       'galveston', 'glens falls', 'gold country', 'grand forks',\n",
      "       'grand island', 'grand rapids', 'great falls', 'green bay',\n",
      "       'greensboro', 'greenville / upstate', 'gulfport / biloxi',\n",
      "       'hanford-corcoran', 'harrisburg', 'harrisonburg', 'hartford',\n",
      "       'hattiesburg', 'hawaii', 'heartland florida', 'helena',\n",
      "       'hickory / lenoir', 'high rockies', 'hilton head', 'holland',\n",
      "       'houma', 'houston', 'hudson valley', 'humboldt county',\n",
      "       'huntington-ashland', 'huntsville / decatur', 'imperial county',\n",
      "       'indianapolis', 'inland empire', 'iowa city', 'ithaca', 'jackson',\n",
      "       'jacksonville', 'janesville', 'jersey shore', 'jonesboro',\n",
      "       'joplin', 'kalamazoo', 'kalispell', 'kansas city, MO',\n",
      "       'kenai peninsula', 'kennewick-pasco-richland', 'kenosha-racine',\n",
      "       'killeen / temple / ft hood', 'kirksville', 'klamath falls',\n",
      "       'knoxville', 'kokomo', 'la crosse', 'la salle co', 'lafayette',\n",
      "       'lafayette / west lafayette', 'lake charles', 'lake of the ozarks',\n",
      "       'lakeland', 'lancaster', 'lansing', 'laredo', 'las cruces',\n",
      "       'las vegas', 'lawrence', 'lawton', 'lehigh valley',\n",
      "       'lewiston / clarkston', 'lexington', 'lima / findlay', 'lincoln',\n",
      "       'little rock', 'logan', 'long island', 'los angeles', 'louisville',\n",
      "       'lubbock', 'lynchburg', 'macon / warner robins', 'madison',\n",
      "       'maine', 'manhattan', 'mankato', 'mansfield', 'mason city',\n",
      "       'mattoon-charleston', 'mcallen / edinburg', 'meadville',\n",
      "       'medford-ashland', 'memphis', 'mendocino county', 'merced',\n",
      "       'milwaukee', 'minneapolis / st paul', 'missoula', 'mobile',\n",
      "       'modesto', 'mohave county', 'monroe', 'monterey bay', 'montgomery',\n",
      "       'morgantown', 'moses lake', 'muncie / anderson', 'muskegon',\n",
      "       'myrtle beach', 'nashville', 'new hampshire', 'new haven',\n",
      "       'new orleans', 'new river valley', 'new york city',\n",
      "       'norfolk / hampton roads', 'north central FL', 'north dakota',\n",
      "       'north jersey', 'north mississippi', 'north platte',\n",
      "       'northeast SD', 'northern WI', 'northern michigan',\n",
      "       'northern panhandle', 'northwest CT', 'northwest GA',\n",
      "       'northwest KS', 'northwest OK', 'ocala', 'odessa / midland',\n",
      "       'ogden-clearfield', 'okaloosa / walton', 'oklahoma city',\n",
      "       'olympic peninsula', 'omaha / council bluffs', 'oneonta',\n",
      "       'orange county', 'oregon coast', 'orlando', 'outer banks',\n",
      "       'owensboro', 'palm springs', 'panama city', 'parkersburg-marietta',\n",
      "       'pensacola', 'peoria', 'philadelphia', 'phoenix',\n",
      "       'pierre / central SD', 'pittsburgh', 'plattsburgh-adirondacks',\n",
      "       'poconos', 'port huron', 'portland', 'potsdam-canton-massena',\n",
      "       'prescott', 'pueblo', 'pullman / moscow', 'quad cities, IA/IL',\n",
      "       'raleigh / durham / CH', 'rapid city / west SD', 'reading',\n",
      "       'redding', 'reno / tahoe', 'rhode island', 'richmond', 'roanoke',\n",
      "       'rochester', 'rockford', 'roseburg', 'roswell / carlsbad',\n",
      "       'sacramento', 'saginaw-midland-baycity', 'salem', 'salina',\n",
      "       'salt lake city', 'san angelo', 'san antonio', 'san diego',\n",
      "       'san luis obispo', 'san marcos', 'sandusky', 'santa barbara',\n",
      "       'santa fe / taos', 'santa maria', 'sarasota-bradenton',\n",
      "       'savannah / hinesville', 'scottsbluff / panhandle',\n",
      "       'scranton / wilkes-barre', 'seattle-tacoma', 'sheboygan',\n",
      "       'show low', 'shreveport', 'sierra vista', 'sioux city',\n",
      "       'sioux falls / SE SD', 'siskiyou county', 'skagit / island / SJI',\n",
      "       'south bend / michiana', 'south coast', 'south dakota',\n",
      "       'south florida', 'south jersey', 'southeast IA',\n",
      "       'southeast alaska', 'southeast missouri', 'southern WV',\n",
      "       'southern illinois', 'southern maryland', 'southwest KS',\n",
      "       'southwest MN', 'southwest MS', 'southwest VA',\n",
      "       'southwest michigan', 'space coast', \"spokane / coeur d'alene\",\n",
      "       'springfield', 'st augustine', 'st cloud', 'st george',\n",
      "       'st joseph', 'st louis, MO', 'state college', 'statesboro',\n",
      "       'stillwater', 'stockton', 'susanville', 'syracuse', 'tallahassee',\n",
      "       'tampa bay area', 'terre haute', 'texarkana', 'texoma',\n",
      "       'the thumb', 'toledo', 'topeka', 'treasure coast', 'tri-cities',\n",
      "       'tucson', 'tulsa', 'tuscaloosa', 'tuscarawas co', 'twin falls',\n",
      "       'twin tiers NY/PA', 'tyler / east TX', 'upper peninsula',\n",
      "       'utica-rome-oneida', 'valdosta', 'ventura county', 'vermont',\n",
      "       'victoria', 'visalia-tulare', 'waco', 'washington, DC',\n",
      "       'waterloo / cedar falls', 'watertown', 'wausau', 'wenatchee',\n",
      "       'western KY', 'western maryland', 'western massachusetts',\n",
      "       'western slope', 'wichita', 'wichita falls', 'williamsport',\n",
      "       'wilmington', 'winchester', 'winston-salem',\n",
      "       'worcester / central MA', 'wyoming', 'yakima', 'york',\n",
      "       'youngstown', 'yuba-sutter', 'yuma', 'zanesville / cambridge'],\n",
      "      dtype=object), array(['acura', 'alfa-romeo', 'audi', 'bmw', 'buick', 'cadillac',\n",
      "       'chevrolet', 'chrysler', 'datsun', 'dodge', 'ferrari', 'fiat',\n",
      "       'ford', 'gmc', 'harley-davidson', 'honda', 'hyundai', 'infiniti',\n",
      "       'jaguar', 'jeep', 'kia', 'lexus', 'lincoln', 'mazda',\n",
      "       'mercedes-benz', 'mercury', 'mini', 'mitsubishi', 'nissan',\n",
      "       'other', 'pontiac', 'porsche', 'ram', 'rover', 'saturn', 'subaru',\n",
      "       'tesla', 'toyota', 'volkswagen', 'volvo'], dtype=object), array(['ak', 'al', 'ar', 'az', 'ca', 'co', 'ct', 'dc', 'de', 'fl', 'ga',\n",
      "       'hi', 'ia', 'id', 'il', 'in', 'ks', 'ky', 'la', 'ma', 'md', 'me',\n",
      "       'mi', 'mn', 'mo', 'ms', 'mt', 'nc', 'nd', 'ne', 'nh', 'nj', 'nm',\n",
      "       'nv', 'ny', 'oh', 'ok', 'or', 'pa', 'ri', 'sc', 'sd', 'tn', 'tx',\n",
      "       'ut', 'va', 'vt', 'wa', 'wi', 'wv', 'wy'], dtype=object), array(['clean', 'lien', 'missing', 'parts only', 'rebuilt', 'salvage'],\n",
      "      dtype=object), array(['average', 'new', 'old'], dtype=object)]\n"
     ]
    }
   ],
   "source": [
    "encoder.fit(data)\n",
    "\n",
    "print(\"Изученные категории:\\n\", encoder.categories_)"
   ]
  },
  {
   "cell_type": "markdown",
   "id": "e5504b8d",
   "metadata": {
    "id": "e5504b8d"
   },
   "source": [
    "5. Примените преобразование для датафрейма с категориальными переменными и сохраните в новую переменную, распечатайте получившуюся матрицу и её размерность."
   ]
  },
  {
   "cell_type": "code",
   "execution_count": 200,
   "id": "10d8356c",
   "metadata": {
    "ExecuteTime": {
     "end_time": "2022-03-15T22:40:34.519702Z",
     "start_time": "2022-03-15T22:40:34.516796Z"
    },
    "id": "10d8356c"
   },
   "outputs": [
    {
     "name": "stdout",
     "output_type": "stream",
     "text": [
      "Преобразованная матрица:\n",
      " [[0. 0. 0. ... 0. 1. 0.]\n",
      " [0. 0. 0. ... 0. 1. 0.]\n",
      " [0. 0. 0. ... 0. 1. 0.]\n",
      " ...\n",
      " [0. 0. 0. ... 1. 0. 0.]\n",
      " [0. 0. 0. ... 0. 1. 0.]\n",
      " [0. 0. 0. ... 0. 1. 0.]]\n",
      "Размерность матрицы: (9619, 1439)\n"
     ]
    }
   ],
   "source": [
    "data_encoded = encoder.transform(data)\n",
    "print(\"Преобразованная матрица:\\n\", data_encoded)\n",
    "print(\"Размерность матрицы:\", data_encoded.shape)"
   ]
  },
  {
   "cell_type": "markdown",
   "id": "490cf3fa",
   "metadata": {
    "id": "490cf3fa"
   },
   "source": [
    "6. Выведите новые наименования признаков с помощью метода `get_feature_names_out`."
   ]
  },
  {
   "cell_type": "code",
   "execution_count": 202,
   "id": "a5ee48ea",
   "metadata": {
    "ExecuteTime": {
     "end_time": "2022-03-15T22:40:35.296004Z",
     "start_time": "2022-03-15T22:40:35.291879Z"
    },
    "id": "a5ee48ea"
   },
   "outputs": [
    {
     "name": "stdout",
     "output_type": "stream",
     "text": [
      "Наименования новых признаков:\n",
      " ['short_model_-benz' 'short_model_1' 'short_model_124' ...\n",
      " 'age_category_average' 'age_category_new' 'age_category_old']\n"
     ]
    }
   ],
   "source": [
    "feature_names = encoder.get_feature_names_out(input_features=categorical_features)\n",
    "\n",
    "print(\"Наименования новых признаков:\\n\", feature_names)"
   ]
  },
  {
   "cell_type": "markdown",
   "id": "115aed73",
   "metadata": {
    "id": "115aed73"
   },
   "source": [
    "7. Добавьте в исходный датафрейм получившиеся новые признаки, выведите первые пять записей датафрейма и список колонок."
   ]
  },
  {
   "cell_type": "code",
   "execution_count": 204,
   "id": "0062ac07",
   "metadata": {
    "ExecuteTime": {
     "end_time": "2022-03-15T22:40:35.978083Z",
     "start_time": "2022-03-15T22:40:35.970249Z"
    },
    "id": "0062ac07"
   },
   "outputs": [
    {
     "name": "stdout",
     "output_type": "stream",
     "text": [
      "Первые 5 строк объединенного DataFrame:\n",
      "           id                                                url  \\\n",
      "0  7308295377  https://chattanooga.craigslist.org/ctd/d/chatt...   \n",
      "1  7316380095  https://newjersey.craigslist.org/ctd/d/carlsta...   \n",
      "2  7313733749  https://reno.craigslist.org/ctd/d/atlanta-2017...   \n",
      "3  7308210929  https://fayetteville.craigslist.org/ctd/d/rale...   \n",
      "4  7303797340  https://knoxville.craigslist.org/ctd/d/knoxvil...   \n",
      "\n",
      "         region                           region_url  price  year  \\\n",
      "0   chattanooga   https://chattanooga.craigslist.org  54990  2020   \n",
      "1  north jersey     https://newjersey.craigslist.org  16942  2016   \n",
      "2  reno / tahoe          https://reno.craigslist.org  35590  2017   \n",
      "3  fayetteville  https://fayetteville.craigslist.org  14500  2013   \n",
      "4     knoxville     https://knoxville.craigslist.org  14590  2012   \n",
      "\n",
      "  manufacturer                   model    fuel  odometer  ... state_wy  \\\n",
      "0          ram  2500 crew cab big horn  diesel     27442  ...      0.0   \n",
      "1         ford    explorer 4wd 4dr xlt   other     60023  ...      0.0   \n",
      "2   volkswagen        golf r hatchback     gas     14048  ...      0.0   \n",
      "3       toyota                    rav4     gas    117291  ...      0.0   \n",
      "4          bmw  1 series 128i coupe 2d   other     80465  ...      0.0   \n",
      "\n",
      "  title_status_clean title_status_lien title_status_missing  \\\n",
      "0                1.0               0.0                  0.0   \n",
      "1                1.0               0.0                  0.0   \n",
      "2                1.0               0.0                  0.0   \n",
      "3                1.0               0.0                  0.0   \n",
      "4                1.0               0.0                  0.0   \n",
      "\n",
      "  title_status_parts only  title_status_rebuilt  title_status_salvage  \\\n",
      "0                     0.0                   0.0                   0.0   \n",
      "1                     0.0                   0.0                   0.0   \n",
      "2                     0.0                   0.0                   0.0   \n",
      "3                     0.0                   0.0                   0.0   \n",
      "4                     0.0                   0.0                   0.0   \n",
      "\n",
      "  age_category_average age_category_new age_category_old  \n",
      "0                  0.0              1.0              0.0  \n",
      "1                  0.0              1.0              0.0  \n",
      "2                  0.0              1.0              0.0  \n",
      "3                  1.0              0.0              0.0  \n",
      "4                  1.0              0.0              0.0  \n",
      "\n",
      "[5 rows x 1485 columns]\n",
      "\n",
      "Список колонок:\n",
      "['id', 'url', 'region', 'region_url', 'price', 'year', 'manufacturer', 'model', 'fuel', 'odometer', 'title_status', 'transmission', 'image_url', 'description', 'state', 'lat', 'long', 'posting_date', 'price_category', 'date', 'odometer_km', 'odometer/price', 'region_new', 'region_corrected', 'manufacturer_model', 'desc_len', 'model_in_desc', 'price_k$', 'age_category', 'model_len', 'model_word_count', 'is_audi', 'is_ford', 'is_chevrolet', 'is_toyota', 'is_jeep', 'is_honda', 'is_nissan', 'x0_diesel', 'x0_electric', 'x0_gas', 'x0_hybrid', 'x0_other', 'std_scaled_odometer', 'std_scaled_price', 'short_model', 'short_model_-benz', 'short_model_1', 'short_model_124', 'short_model_128i', 'short_model_135i', 'short_model_1500', 'short_model_163869', 'short_model_1928', 'short_model_1951', 'short_model_1954', 'short_model_1960s', 'short_model_1966', 'short_model_1968', 'short_model_1972', 'short_model_1977', 'short_model_1978', 'short_model_198.5', 'short_model_1988', 'short_model_1994', 'short_model_1999', 'short_model_2', 'short_model_200', 'short_model_2000', 'short_model_2002', 'short_model_2006', 'short_model_2007', 'short_model_2008', 'short_model_2009', 'short_model_2012', 'short_model_2015', 'short_model_2016', 'short_model_2017', 'short_model_2018', 'short_model_210', 'short_model_240', 'short_model_2500', 'short_model_2500hd', 'short_model_280zx', 'short_model_3', 'short_model_3-series', 'short_model_3-window', 'short_model_3.2', 'short_model_300', 'short_model_300-series', 'short_model_300c', 'short_model_300s', 'short_model_300zx', 'short_model_3100', 'short_model_318i', 'short_model_320i', 'short_model_323i', 'short_model_325ci', 'short_model_325i', 'short_model_325is', 'short_model_325xi', 'short_model_328', 'short_model_328ci', 'short_model_328d', 'short_model_328i', 'short_model_328xi', 'short_model_330i', 'short_model_330xi', 'short_model_335i', 'short_model_335xi', 'short_model_350', 'short_model_3500', 'short_model_3500hd', 'short_model_350z', 'short_model_370z', 'short_model_380sl', 'short_model_3i', 'short_model_4', 'short_model_4-runner', 'short_model_428', 'short_model_430i', 'short_model_435i', 'short_model_440xi', 'short_model_4500', 'short_model_4runner', 'short_model_4x4', 'short_model_5', 'short_model_5-series', 'short_model_50', 'short_model_500', 'short_model_500c', 'short_model_500l', 'short_model_500x', 'short_model_525i', 'short_model_528i', 'short_model_528xi', 'short_model_530', 'short_model_530i', 'short_model_535i', 'short_model_535xi', 'short_model_540i', 'short_model_545i', 'short_model_5500', 'short_model_5500hd', 'short_model_550i', 'short_model_5th', 'short_model_6', 'short_model_640', 'short_model_645ci', 'short_model_650i', 'short_model_650xi', 'short_model_7', 'short_model_750', 'short_model_750i', 'short_model_750xi', 'short_model_86', 'short_model_911', 'short_model_914', 'short_model_928', 'short_model_944', 'short_model_ACURA*', 'short_model_ALL', 'short_model_AM', 'short_model_AMC', 'short_model_ASC', 'short_model_Acuarea', 'short_model_American', 'short_model_BUY', 'short_model_Bentley', 'short_model_Blue', 'short_model_Buicks', 'short_model_C', 'short_model_CHEVORLET', 'short_model_CLICK', 'short_model_Champion', 'short_model_Chevey', 'short_model_Chevorlet', 'short_model_Comanche', 'short_model_Comet', 'short_model_D7FH173552', 'short_model_DODGE1500', 'short_model_Diahatsu', 'short_model_E46', 'short_model_EASY', 'short_model_Eagle', 'short_model_Emergency', 'short_model_F-250', 'short_model_F250', 'short_model_FORD*', 'short_model_FORD/RANGER', 'short_model_FREIGHTLINER', 'short_model_FRRV', 'short_model_Flexible', 'short_model_FordE350', 'short_model_Freightliner', 'short_model_Frtlner', 'short_model_GCM', 'short_model_GEHL', 'short_model_GMC,', 'short_model_GMX', 'short_model_GRAND', 'short_model_GULF', 'short_model_Genesis', 'short_model_Gx', 'short_model_HINO', 'short_model_HUMMER', 'short_model_Hino', 'short_model_Hobda', 'short_model_Hot', 'short_model_Hummer', 'short_model_IC', 'short_model_INTERNATIONAL', 'short_model_International', 'short_model_Isizu', 'short_model_Isuzu', 'short_model_JM1BK32F871604924', 'short_model_Janesville', 'short_model_Jauguar', 'short_model_Jayco', 'short_model_Kaiser', 'short_model_Lotus', 'short_model_MASERATI', 'short_model_MERCUTY', 'short_model_MERDECES', 'short_model_MGB', 'short_model_MITUSBISHI', 'short_model_MV-1', 'short_model_Maserati', 'short_model_Minin', 'short_model_Nascar', 'short_model_OLDSMOBILE', 'short_model_PLYMOUTH', 'short_model_PROGRAMS', 'short_model_Peterbilt', 'short_model_Pierce', 'short_model_Plymouth', 'short_model_QX', 'short_model_S60', 'short_model_SCION', 'short_model_SL', 'short_model_Saab', 'short_model_Scion', 'short_model_Sea', 'short_model_Sterling', 'short_model_Studebaker', 'short_model_Suzuki', 'short_model_THOMAS', 'short_model_Thomas', 'short_model_Town', 'short_model_Triumph', 'short_model_Voltswagon', 'short_model_Xx', 'short_model_a-class', 'short_model_a3', 'short_model_a3,', 'short_model_a4', 'short_model_a5', 'short_model_a6', 'short_model_a7', 'short_model_a8', 'short_model_acadia', 'short_model_accent', 'short_model_accord', 'short_model_all', 'short_model_allante', 'short_model_allroad', 'short_model_altima', 'short_model_am', 'short_model_amc', 'short_model_arcadia', 'short_model_armada', 'short_model_arteon', 'short_model_ascent', 'short_model_aspen', 'short_model_astra', 'short_model_astro', 'short_model_atlas', 'short_model_ats', 'short_model_aura', 'short_model_autobiography', 'short_model_avalanche', 'short_model_avalon', 'short_model_avanger', 'short_model_avenger', 'short_model_aveo', 'short_model_aviator', 'short_model_azera', 'short_model_aztek', 'short_model_b-class', 'short_model_b-series', 'short_model_b2200', 'short_model_b2300', 'short_model_b2600i', 'short_model_baja', 'short_model_beetle', 'short_model_bel', 'short_model_belair', 'short_model_benz', 'short_model_blackwood', 'short_model_blazer', 'short_model_blue', 'short_model_bolt', 'short_model_bonanza', 'short_model_bonneville', 'short_model_boxster', 'short_model_bronco', 'short_model_brz', 'short_model_bug', 'short_model_bus', 'short_model_c', 'short_model_c-10', 'short_model_c-7500', 'short_model_c-class', 'short_model_c-hr', 'short_model_c-max', 'short_model_c/k', 'short_model_c10', 'short_model_c250', 'short_model_c280', 'short_model_c30', 'short_model_c300', 'short_model_c4500', 'short_model_c5500', 'short_model_c60', 'short_model_c6500', 'short_model_c70', 'short_model_c8500', 'short_model_cabellero', 'short_model_cabrio', 'short_model_caddilac', 'short_model_cadenza', 'short_model_caliber', 'short_model_camaro', 'short_model_camary', 'short_model_camero', 'short_model_camry', 'short_model_canyon', 'short_model_capri', 'short_model_caprice', 'short_model_captiva', 'short_model_caravan', 'short_model_caravan/grand', 'short_model_cargo', 'short_model_cascada', 'short_model_cavalier', 'short_model_cayenne', 'short_model_cayman', 'short_model_cc', 'short_model_cc300', 'short_model_cc4500', 'short_model_century', 'short_model_certified', 'short_model_challenger', 'short_model_charger', 'short_model_cherokee', 'short_model_chevelle', 'short_model_chevorlet', 'short_model_chryler', 'short_model_chysler', 'short_model_city', 'short_model_civic', 'short_model_cj-5', 'short_model_cj2a', 'short_model_cj5', 'short_model_cj7', 'short_model_cj8', 'short_model_cl-class', 'short_model_cla', 'short_model_cla-class', 'short_model_clarity', 'short_model_classic', 'short_model_classuc', 'short_model_clk', 'short_model_clk-class', 'short_model_clk350', 'short_model_cls-class', 'short_model_cls550', 'short_model_clubman', 'short_model_cmax', 'short_model_cobalt', 'short_model_colbalt', 'short_model_colorado', 'short_model_comet', 'short_model_commander', 'short_model_compass', 'short_model_concorde', 'short_model_conquest', 'short_model_continental', 'short_model_convertible', 'short_model_cooper', 'short_model_corolla', 'short_model_corsair', 'short_model_corvette', 'short_model_cougar', 'short_model_country', 'short_model_countryman', 'short_model_coupe', 'short_model_cr-v', 'short_model_crew', 'short_model_crossfire', 'short_model_crosstour', 'short_model_crosstrek', 'short_model_crown', 'short_model_cruze', 'short_model_crv', 'short_model_crz', 'short_model_ct', 'short_model_ct4', 'short_model_ct5', 'short_model_ct6', 'short_model_cts', 'short_model_cts-v', 'short_model_cts4', 'short_model_cube', 'short_model_cvr', 'short_model_cx-3', 'short_model_cx-5', 'short_model_cx-7', 'short_model_cx-9', 'short_model_cx7', 'short_model_cx9', 'short_model_d50', 'short_model_dakota', 'short_model_dart', 'short_model_davidson', 'short_model_dealer*', 'short_model_defender', 'short_model_deisel', 'short_model_deluxe', 'short_model_denali', 'short_model_deville', 'short_model_diesel', 'short_model_discovery', 'short_model_dts', 'short_model_dump', 'short_model_duramax', 'short_model_durango', 'short_model_durangon', 'short_model_e', 'short_model_e-150', 'short_model_e-250', 'short_model_e-350', 'short_model_e-450', 'short_model_e-class', 'short_model_e-golf', 'short_model_e-pace', 'short_model_e-series', 'short_model_e150', 'short_model_e250', 'short_model_e320', 'short_model_e350', 'short_model_e450', 'short_model_e46', 'short_model_e500', 'short_model_echo', 'short_model_eclipse', 'short_model_econoline', 'short_model_ecosport', 'short_model_edge', 'short_model_el', 'short_model_elantra', 'short_model_elcamino', 'short_model_eldorado', 'short_model_element', 'short_model_enclave', 'short_model_encore', 'short_model_endeavor', 'short_model_envision', 'short_model_envoy', 'short_model_eos', 'short_model_eqinox', 'short_model_equinox', 'short_model_es', 'short_model_es300', 'short_model_es330', 'short_model_es350', 'short_model_escalade', 'short_model_escape', 'short_model_escape-se,', 'short_model_escort', 'short_model_eurovan', 'short_model_evoque', 'short_model_excursion', 'short_model_expedition', 'short_model_explorer', 'short_model_express', 'short_model_f', 'short_model_f-100', 'short_model_f-150', 'short_model_f-250', 'short_model_f-250sd', 'short_model_f-350', 'short_model_f-350sd', 'short_model_f-450', 'short_model_f-450sd', 'short_model_f-550', 'short_model_f-650', 'short_model_f-750', 'short_model_f-pace', 'short_model_f-type', 'short_model_f1', 'short_model_f100', 'short_model_f150', 'short_model_f250', 'short_model_f350', 'short_model_f450', 'short_model_f450sd', 'short_model_f50', 'short_model_f550', 'short_model_f600', 'short_model_f650', 'short_model_f700', 'short_model_f750', 'short_model_falcon', 'short_model_fe', 'short_model_fiero', 'short_model_fiesta', 'short_model_firebird', 'short_model_fit', 'short_model_five', 'short_model_fj', 'short_model_fj40', 'short_model_fleetmaster', 'short_model_fleetwood', 'short_model_flex', 'short_model_focus', 'short_model_fords', 'short_model_forester', 'short_model_forte', 'short_model_forte5', 'short_model_foxbody', 'short_model_freestar', 'short_model_freestyle', 'short_model_freightliner', 'short_model_frontier', 'short_model_fusion', 'short_model_fuso', 'short_model_fx35', 'short_model_fx45', 'short_model_g', 'short_model_g-class', 'short_model_g.', 'short_model_g20', 'short_model_g30', 'short_model_g35', 'short_model_g35x', 'short_model_g37', 'short_model_g37s', 'short_model_g37x', 'short_model_g4500', 'short_model_g5', 'short_model_g6', 'short_model_g8', 'short_model_galant', 'short_model_genesis', 'short_model_ghia', 'short_model_gl', 'short_model_gl-class', 'short_model_gl450', 'short_model_gla', 'short_model_gla-class', 'short_model_gladiator', 'short_model_glc', 'short_model_glc-class', 'short_model_gle', 'short_model_gle-class', 'short_model_glk', 'short_model_glk-class', 'short_model_glk350', 'short_model_gls', 'short_model_gmc/chev', 'short_model_gmce', 'short_model_gmt-400', 'short_model_golf', 'short_model_gr', 'short_model_grand', 'short_model_grandville', 'short_model_grumman', 'short_model_gs', 'short_model_gs350', 'short_model_gs430', 'short_model_gt', 'short_model_gt-r', 'short_model_gti', 'short_model_gto', 'short_model_gx', 'short_model_gx460', 'short_model_gx470', 'short_model_hardbody', 'short_model_hardtop', 'short_model_hearse', 'short_model_hhr', 'short_model_hiace', 'short_model_high', 'short_model_highlander', 'short_model_hr-v', 'short_model_hse', 'short_model_hummer', 'short_model_hyndai', 'short_model_i-miev', 'short_model_i3', 'short_model_i30', 'short_model_i35', 'short_model_ilx', 'short_model_impala', 'short_model_impreza', 'short_model_insight', 'short_model_international', 'short_model_ion', 'short_model_ioniq', 'short_model_is', 'short_model_is250', 'short_model_is300', 'short_model_isf', 'short_model_isuzu', 'short_model_jeepster', 'short_model_jetta', 'short_model_jimmy', 'short_model_jouney', 'short_model_journey', 'short_model_juke', 'short_model_jx35', 'short_model_k10', 'short_model_k20', 'short_model_k30', 'short_model_k5', 'short_model_k900', 'short_model_kicks', 'short_model_kodiak', 'short_model_l', 'short_model_l300', 'short_model_lacrosse', 'short_model_lancer', 'short_model_land', 'short_model_landcruiser', 'short_model_leaf', 'short_model_legacy', 'short_model_legend', 'short_model_lemans', 'short_model_lesabre', 'short_model_liberty', 'short_model_lifted', 'short_model_lightning', 'short_model_limousine', 'short_model_long', 'short_model_lr2', 'short_model_lr3', 'short_model_lr4', 'short_model_ls', 'short_model_ltd', 'short_model_lucerne', 'short_model_lx', 'short_model_lx450', 'short_model_m', 'short_model_m-class', 'short_model_m3', 'short_model_m35', 'short_model_m35s', 'short_model_m5', 'short_model_macan', 'short_model_magnum', 'short_model_malibu', 'short_model_mallinia', 'short_model_marineer,premier', 'short_model_mariner', 'short_model_mark', 'short_model_maserati', 'short_model_matrix', 'short_model_maxima', 'short_model_maximum', 'short_model_mazda2', 'short_model_mazda3', 'short_model_mazda5', 'short_model_mazda6', 'short_model_mazda6i', 'short_model_md-x', 'short_model_mdx', 'short_model_mercades', 'short_model_mercedes-amg', 'short_model_metris', 'short_model_mg', 'short_model_miata', 'short_model_milan', 'short_model_mirage', 'short_model_mkc', 'short_model_mks', 'short_model_mkt', 'short_model_mkx', 'short_model_mkz', 'short_model_ml', 'short_model_ml350', 'short_model_ml500', 'short_model_model', 'short_model_monte', 'short_model_montero', 'short_model_mountaineer', 'short_model_mpv', 'short_model_mr2', 'short_model_murano', 'short_model_mustang', 'short_model_mx-5', 'short_model_nautilus', 'short_model_navigator', 'short_model_neon', 'short_model_new', 'short_model_newport', 'short_model_niro', 'short_model_nitro', 'short_model_nova', 'short_model_nv', 'short_model_nv1500', 'short_model_nv200', 'short_model_nv2500', 'short_model_nv2500hd', 'short_model_nx', 'short_model_nx300', 'short_model_oddyssey', 'short_model_odyssey', 'short_model_oldsmobile', 'short_model_optima', 'short_model_optimia', 'short_model_other', 'short_model_outback', 'short_model_outlander', 'short_model_outlook', 'short_model_paceman', 'short_model_pacifica', 'short_model_panamera', 'short_model_panel', 'short_model_park', 'short_model_passat', 'short_model_passport', 'short_model_pathfinder', 'short_model_patriot', 'short_model_phaeton', 'short_model_pick', 'short_model_pickup', 'short_model_pilot', 'short_model_plymouth', 'short_model_pontaic', 'short_model_prelude', 'short_model_prius', 'short_model_prizm', 'short_model_promaster', 'short_model_protege', 'short_model_pt', 'short_model_putback', 'short_model_q3', 'short_model_q5', 'short_model_q50', 'short_model_q60', 'short_model_q7', 'short_model_q70', 'short_model_quattro', 'short_model_quest', 'short_model_qx50', 'short_model_qx56', 'short_model_qx60', 'short_model_qx70', 'short_model_qx80', 'short_model_r-class', 'short_model_r32', 'short_model_rabbit', 'short_model_rainier', 'short_model_ram1500', 'short_model_ram2500', 'short_model_ramcharger', 'short_model_range', 'short_model_ranger', 'short_model_rat', 'short_model_rav', 'short_model_rav4', 'short_model_rc', 'short_model_rdx', 'short_model_reatta', 'short_model_rebel', 'short_model_regal', 'short_model_rendezvous', 'short_model_renegade', 'short_model_replica', 'short_model_ridgeline', 'short_model_rio', 'short_model_rivera', 'short_model_riviera', 'short_model_rl', 'short_model_rlx', 'short_model_roadmaster', 'short_model_roadster', 'short_model_rogue', 'short_model_romeo', 'short_model_rondo', 'short_model_rouge', 'short_model_routan', 'short_model_rs', 'short_model_rsx', 'short_model_rx', 'short_model_rx-8', 'short_model_rx300', 'short_model_rx330', 'short_model_rx350', 'short_model_rx400h', 'short_model_rx7', 'short_model_rx8', 'short_model_s', 'short_model_s-10', 'short_model_s-class', 'short_model_s/w', 'short_model_s10', 'short_model_s2000', 'short_model_s3', 'short_model_s320', 'short_model_s4', 'short_model_s40', 'short_model_s430', 'short_model_s5', 'short_model_s500', 'short_model_s6', 'short_model_s60', 'short_model_s7', 'short_model_s70', 'short_model_s8', 'short_model_s90', 'short_model_saab', 'short_model_sable', 'short_model_santa', 'short_model_sante', 'short_model_savana', 'short_model_sc', 'short_model_sc2', 'short_model_sc300', 'short_model_school', 'short_model_scion', 'short_model_sebring', 'short_model_sedan', 'short_model_sedona', 'short_model_seirra', 'short_model_sentra', 'short_model_sequioa', 'short_model_sequoia', 'short_model_seville', 'short_model_shelby', 'short_model_sienna', 'short_model_sierra', 'short_model_sierra1500', 'short_model_silverado', 'short_model_sky', 'short_model_skylark', 'short_model_sl-class', 'short_model_sl2', 'short_model_sl500', 'short_model_sl55', 'short_model_sl550', 'short_model_slc', 'short_model_sle', 'short_model_slk', 'short_model_slk-class', 'short_model_slt', 'short_model_smart', 'short_model_solara', 'short_model_solstice', 'short_model_sonata', 'short_model_sonic', 'short_model_sonoma', 'short_model_sorento', 'short_model_sorrento', 'short_model_soul', 'short_model_soul+', 'short_model_spark', 'short_model_spectra', 'short_model_sport', 'short_model_sportage', 'short_model_sprinter', 'short_model_srx', 'short_model_srx-v6', 'short_model_srx4', 'short_model_srx~awesome', 'short_model_ss', 'short_model_ssr', 'short_model_starcraft', 'short_model_step-van', 'short_model_stinger', 'short_model_stratus', 'short_model_sts', 'short_model_studebaker', 'short_model_suburban', 'short_model_super', 'short_model_supra', 'short_model_suv', 'short_model_suzuki', 'short_model_svx', 'short_model_t', 'short_model_t-350', 'short_model_t-bucket', 'short_model_tacoma', 'short_model_tahoe', 'short_model_tarsus', 'short_model_taurus', 'short_model_tc5500', 'short_model_telluride', 'short_model_tercel', 'short_model_terrain', 'short_model_thing', 'short_model_thomas', 'short_model_thrift', 'short_model_thunderbird', 'short_model_tiguan', 'short_model_titan', 'short_model_tl', 'short_model_tlx', 'short_model_torrent', 'short_model_touareg', 'short_model_town', 'short_model_tracker', 'short_model_tractor', 'short_model_trailblazer', 'short_model_trans', 'short_model_transit', 'short_model_traverse', 'short_model_trax', 'short_model_tribeca', 'short_model_tribute', 'short_model_triumph', 'short_model_truck', 'short_model_tsx', 'short_model_tt', 'short_model_tucson', 'short_model_tudor', 'short_model_tundra', 'short_model_uplander', 'short_model_utility', 'short_model_ux', 'short_model_v50', 'short_model_v6', 'short_model_v60', 'short_model_v90', 'short_model_van', 'short_model_vanagon', 'short_model_vandura', 'short_model_velar', 'short_model_veloster', 'short_model_venture', 'short_model_venza', 'short_model_veracruz', 'short_model_verano', 'short_model_versa', 'short_model_vibe', 'short_model_villager', 'short_model_vnl', 'short_model_volt', 'short_model_voyager', 'short_model_vtx1300c', 'short_model_vue', 'short_model_w350', 'short_model_willys', 'short_model_windstar', 'short_model_wrangler', 'short_model_wrx', 'short_model_x-3', 'short_model_x-type', 'short_model_x1', 'short_model_x2', 'short_model_x3', 'short_model_x4', 'short_model_x5', 'short_model_x6', 'short_model_xc', 'short_model_xc40', 'short_model_xc60', 'short_model_xc70', 'short_model_xc90', 'short_model_xe', 'short_model_xf', 'short_model_xj', 'short_model_xj-series', 'short_model_xj8', 'short_model_xk8', 'short_model_xt4', 'short_model_xt5', 'short_model_xt6', 'short_model_xterra', 'short_model_xts', 'short_model_xv', 'short_model_yaris', 'short_model_yukon', 'short_model_z', 'short_model_z3', 'short_model_z4', 'short_model_zephyr', 'short_model_zx2', 'transmission_automatic', 'transmission_manual', 'transmission_other', 'region_SF bay area', 'region_abilene', 'region_akron / canton', 'region_albany', 'region_albuquerque', 'region_altoona-johnstown', 'region_amarillo', 'region_ames', 'region_anchorage / mat-su', 'region_ann arbor', 'region_annapolis', 'region_appleton-oshkosh-FDL', 'region_asheville', 'region_ashtabula', 'region_athens', 'region_atlanta', 'region_auburn', 'region_augusta', 'region_austin', 'region_bakersfield', 'region_baltimore', 'region_baton rouge', 'region_battle creek', 'region_beaumont / port arthur', 'region_bellingham', 'region_bemidji', 'region_bend', 'region_billings', 'region_binghamton', 'region_birmingham', 'region_bismarck', 'region_bloomington', 'region_bloomington-normal', 'region_boise', 'region_boone', 'region_boston', 'region_boulder', 'region_bowling green', 'region_bozeman', 'region_brainerd', 'region_brownsville', 'region_brunswick', 'region_buffalo', 'region_butte', 'region_cape cod / islands', 'region_catskills', 'region_cedar rapids', 'region_central NJ', 'region_central louisiana', 'region_central michigan', 'region_champaign urbana', 'region_charleston', 'region_charlotte', 'region_charlottesville', 'region_chattanooga', 'region_chautauqua', 'region_chicago', 'region_chico', 'region_chillicothe', 'region_cincinnati', 'region_clarksville', 'region_cleveland', 'region_clovis / portales', 'region_college station', 'region_colorado springs', 'region_columbia', 'region_columbia / jeff city', 'region_columbus', 'region_corpus christi', 'region_corvallis/albany', 'region_cumberland valley', 'region_dallas / fort worth', 'region_danville', 'region_dayton / springfield', 'region_daytona beach', 'region_decatur', 'region_del rio / eagle pass', 'region_delaware', 'region_denver', 'region_des moines', 'region_detroit metro', 'region_dothan', 'region_dubuque', 'region_duluth / superior', 'region_east idaho', 'region_east oregon', 'region_eastern CO', 'region_eastern CT', 'region_eastern NC', 'region_eastern kentucky', 'region_eastern montana', 'region_eastern panhandle', 'region_eastern shore', 'region_eau claire', 'region_el paso', 'region_elko', 'region_elmira-corning', 'region_erie', 'region_eugene', 'region_evansville', 'region_fairbanks', 'region_fargo / moorhead', 'region_farmington', 'region_fayetteville', 'region_finger lakes', 'region_flagstaff / sedona', 'region_flint', 'region_florence', 'region_florence / muscle shoals', 'region_florida keys', 'region_fort collins / north CO', 'region_fort dodge', 'region_fort smith', 'region_fort wayne', 'region_frederick', 'region_fredericksburg', 'region_fresno / madera', 'region_ft myers / SW florida', 'region_gadsden-anniston', 'region_gainesville', 'region_galveston', 'region_glens falls', 'region_gold country', 'region_grand forks', 'region_grand island', 'region_grand rapids', 'region_great falls', 'region_green bay', 'region_greensboro', 'region_greenville / upstate', 'region_gulfport / biloxi', 'region_hanford-corcoran', 'region_harrisburg', 'region_harrisonburg', 'region_hartford', 'region_hattiesburg', 'region_hawaii', 'region_heartland florida', 'region_helena', 'region_hickory / lenoir', 'region_high rockies', 'region_hilton head', 'region_holland', 'region_houma', 'region_houston', 'region_hudson valley', 'region_humboldt county', 'region_huntington-ashland', 'region_huntsville / decatur', 'region_imperial county', 'region_indianapolis', 'region_inland empire', 'region_iowa city', 'region_ithaca', 'region_jackson', 'region_jacksonville', 'region_janesville', 'region_jersey shore', 'region_jonesboro', 'region_joplin', 'region_kalamazoo', 'region_kalispell', 'region_kansas city, MO', 'region_kenai peninsula', 'region_kennewick-pasco-richland', 'region_kenosha-racine', 'region_killeen / temple / ft hood', 'region_kirksville', 'region_klamath falls', 'region_knoxville', 'region_kokomo', 'region_la crosse', 'region_la salle co', 'region_lafayette', 'region_lafayette / west lafayette', 'region_lake charles', 'region_lake of the ozarks', 'region_lakeland', 'region_lancaster', 'region_lansing', 'region_laredo', 'region_las cruces', 'region_las vegas', 'region_lawrence', 'region_lawton', 'region_lehigh valley', 'region_lewiston / clarkston', 'region_lexington', 'region_lima / findlay', 'region_lincoln', 'region_little rock', 'region_logan', 'region_long island', 'region_los angeles', 'region_louisville', 'region_lubbock', 'region_lynchburg', 'region_macon / warner robins', 'region_madison', 'region_maine', 'region_manhattan', 'region_mankato', 'region_mansfield', 'region_mason city', 'region_mattoon-charleston', 'region_mcallen / edinburg', 'region_meadville', 'region_medford-ashland', 'region_memphis', 'region_mendocino county', 'region_merced', 'region_milwaukee', 'region_minneapolis / st paul', 'region_missoula', 'region_mobile', 'region_modesto', 'region_mohave county', 'region_monroe', 'region_monterey bay', 'region_montgomery', 'region_morgantown', 'region_moses lake', 'region_muncie / anderson', 'region_muskegon', 'region_myrtle beach', 'region_nashville', 'region_new hampshire', 'region_new haven', 'region_new orleans', 'region_new river valley', 'region_new york city', 'region_norfolk / hampton roads', 'region_north central FL', 'region_north dakota', 'region_north jersey', 'region_north mississippi', 'region_north platte', 'region_northeast SD', 'region_northern WI', 'region_northern michigan', 'region_northern panhandle', 'region_northwest CT', 'region_northwest GA', 'region_northwest KS', 'region_northwest OK', 'region_ocala', 'region_odessa / midland', 'region_ogden-clearfield', 'region_okaloosa / walton', 'region_oklahoma city', 'region_olympic peninsula', 'region_omaha / council bluffs', 'region_oneonta', 'region_orange county', 'region_oregon coast', 'region_orlando', 'region_outer banks', 'region_owensboro', 'region_palm springs', 'region_panama city', 'region_parkersburg-marietta', 'region_pensacola', 'region_peoria', 'region_philadelphia', 'region_phoenix', 'region_pierre / central SD', 'region_pittsburgh', 'region_plattsburgh-adirondacks', 'region_poconos', 'region_port huron', 'region_portland', 'region_potsdam-canton-massena', 'region_prescott', 'region_pueblo', 'region_pullman / moscow', 'region_quad cities, IA/IL', 'region_raleigh / durham / CH', 'region_rapid city / west SD', 'region_reading', 'region_redding', 'region_reno / tahoe', 'region_rhode island', 'region_richmond', 'region_roanoke', 'region_rochester', 'region_rockford', 'region_roseburg', 'region_roswell / carlsbad', 'region_sacramento', 'region_saginaw-midland-baycity', 'region_salem', 'region_salina', 'region_salt lake city', 'region_san angelo', 'region_san antonio', 'region_san diego', 'region_san luis obispo', 'region_san marcos', 'region_sandusky', 'region_santa barbara', 'region_santa fe / taos', 'region_santa maria', 'region_sarasota-bradenton', 'region_savannah / hinesville', 'region_scottsbluff / panhandle', 'region_scranton / wilkes-barre', 'region_seattle-tacoma', 'region_sheboygan', 'region_show low', 'region_shreveport', 'region_sierra vista', 'region_sioux city', 'region_sioux falls / SE SD', 'region_siskiyou county', 'region_skagit / island / SJI', 'region_south bend / michiana', 'region_south coast', 'region_south dakota', 'region_south florida', 'region_south jersey', 'region_southeast IA', 'region_southeast alaska', 'region_southeast missouri', 'region_southern WV', 'region_southern illinois', 'region_southern maryland', 'region_southwest KS', 'region_southwest MN', 'region_southwest MS', 'region_southwest VA', 'region_southwest michigan', 'region_space coast', \"region_spokane / coeur d'alene\", 'region_springfield', 'region_st augustine', 'region_st cloud', 'region_st george', 'region_st joseph', 'region_st louis, MO', 'region_state college', 'region_statesboro', 'region_stillwater', 'region_stockton', 'region_susanville', 'region_syracuse', 'region_tallahassee', 'region_tampa bay area', 'region_terre haute', 'region_texarkana', 'region_texoma', 'region_the thumb', 'region_toledo', 'region_topeka', 'region_treasure coast', 'region_tri-cities', 'region_tucson', 'region_tulsa', 'region_tuscaloosa', 'region_tuscarawas co', 'region_twin falls', 'region_twin tiers NY/PA', 'region_tyler / east TX', 'region_upper peninsula', 'region_utica-rome-oneida', 'region_valdosta', 'region_ventura county', 'region_vermont', 'region_victoria', 'region_visalia-tulare', 'region_waco', 'region_washington, DC', 'region_waterloo / cedar falls', 'region_watertown', 'region_wausau', 'region_wenatchee', 'region_western KY', 'region_western maryland', 'region_western massachusetts', 'region_western slope', 'region_wichita', 'region_wichita falls', 'region_williamsport', 'region_wilmington', 'region_winchester', 'region_winston-salem', 'region_worcester / central MA', 'region_wyoming', 'region_yakima', 'region_york', 'region_youngstown', 'region_yuba-sutter', 'region_yuma', 'region_zanesville / cambridge', 'manufacturer_acura', 'manufacturer_alfa-romeo', 'manufacturer_audi', 'manufacturer_bmw', 'manufacturer_buick', 'manufacturer_cadillac', 'manufacturer_chevrolet', 'manufacturer_chrysler', 'manufacturer_datsun', 'manufacturer_dodge', 'manufacturer_ferrari', 'manufacturer_fiat', 'manufacturer_ford', 'manufacturer_gmc', 'manufacturer_harley-davidson', 'manufacturer_honda', 'manufacturer_hyundai', 'manufacturer_infiniti', 'manufacturer_jaguar', 'manufacturer_jeep', 'manufacturer_kia', 'manufacturer_lexus', 'manufacturer_lincoln', 'manufacturer_mazda', 'manufacturer_mercedes-benz', 'manufacturer_mercury', 'manufacturer_mini', 'manufacturer_mitsubishi', 'manufacturer_nissan', 'manufacturer_other', 'manufacturer_pontiac', 'manufacturer_porsche', 'manufacturer_ram', 'manufacturer_rover', 'manufacturer_saturn', 'manufacturer_subaru', 'manufacturer_tesla', 'manufacturer_toyota', 'manufacturer_volkswagen', 'manufacturer_volvo', 'state_ak', 'state_al', 'state_ar', 'state_az', 'state_ca', 'state_co', 'state_ct', 'state_dc', 'state_de', 'state_fl', 'state_ga', 'state_hi', 'state_ia', 'state_id', 'state_il', 'state_in', 'state_ks', 'state_ky', 'state_la', 'state_ma', 'state_md', 'state_me', 'state_mi', 'state_mn', 'state_mo', 'state_ms', 'state_mt', 'state_nc', 'state_nd', 'state_ne', 'state_nh', 'state_nj', 'state_nm', 'state_nv', 'state_ny', 'state_oh', 'state_ok', 'state_or', 'state_pa', 'state_ri', 'state_sc', 'state_sd', 'state_tn', 'state_tx', 'state_ut', 'state_va', 'state_vt', 'state_wa', 'state_wi', 'state_wv', 'state_wy', 'title_status_clean', 'title_status_lien', 'title_status_missing', 'title_status_parts only', 'title_status_rebuilt', 'title_status_salvage', 'age_category_average', 'age_category_new', 'age_category_old']\n"
     ]
    }
   ],
   "source": [
    "encoded_df = pd.DataFrame(data_encoded, columns=feature_names)\n",
    "df = pd.concat([df.reset_index(drop=True), encoded_df.reset_index(drop=True)], axis=1)\n",
    "print(\"Первые 5 строк объединенного DataFrame:\")\n",
    "print(df.head())\n",
    "print(\"\\nСписок колонок:\")\n",
    "print(df.columns.tolist())"
   ]
  },
  {
   "cell_type": "markdown",
   "id": "4eddeddb",
   "metadata": {
    "id": "4eddeddb"
   },
   "source": [
    "8. Посмотрите на результат обратного преобразования получившейся матрицы в исходные признаки, используйте `inverse_transform`."
   ]
  },
  {
   "cell_type": "code",
   "execution_count": 206,
   "id": "0f2613e6",
   "metadata": {
    "ExecuteTime": {
     "end_time": "2022-03-15T22:40:45.647004Z",
     "start_time": "2022-03-15T22:40:45.641686Z"
    },
    "id": "0f2613e6"
   },
   "outputs": [
    {
     "name": "stdout",
     "output_type": "stream",
     "text": [
      "Результат обратного преобразования:\n",
      " [['2500' 'other' 'chattanooga' ... 'tn' 'clean' 'new']\n",
      " ['explorer' 'automatic' 'north jersey' ... 'nj' 'clean' 'new']\n",
      " ['golf' 'other' 'reno / tahoe' ... 'ca' 'clean' 'new']\n",
      " ...\n",
      " ['a3' 'automatic' 'salem' ... 'or' 'clean' 'average']\n",
      " ['cayenne' 'automatic' 'madison' ... 'wi' 'clean' 'new']\n",
      " ['1500' 'other' 'norfolk / hampton roads' ... 'va' 'clean' 'new']]\n",
      "\n",
      "Результат обратного преобразования в DataFrame:\n",
      "      short_model transmission                   region manufacturer state  \\\n",
      "0           2500        other              chattanooga          ram    tn   \n",
      "1       explorer    automatic             north jersey         ford    nj   \n",
      "2           golf        other             reno / tahoe   volkswagen    ca   \n",
      "3           rav4    automatic             fayetteville       toyota    nc   \n",
      "4              1        other                knoxville          bmw    tn   \n",
      "...          ...          ...                      ...          ...   ...   \n",
      "9614        rav4    automatic               chautauqua       toyota    ny   \n",
      "9615    wrangler        other               binghamton         jeep    ny   \n",
      "9616          a3    automatic                    salem         audi    or   \n",
      "9617     cayenne    automatic                  madison      porsche    wi   \n",
      "9618        1500        other  norfolk / hampton roads          ram    va   \n",
      "\n",
      "     title_status age_category  \n",
      "0           clean          new  \n",
      "1           clean          new  \n",
      "2           clean          new  \n",
      "3           clean      average  \n",
      "4           clean      average  \n",
      "...           ...          ...  \n",
      "9614        clean          old  \n",
      "9615        clean      average  \n",
      "9616        clean      average  \n",
      "9617        clean          new  \n",
      "9618        clean          new  \n",
      "\n",
      "[9619 rows x 7 columns]\n"
     ]
    }
   ],
   "source": [
    "data_inverse = encoder.inverse_transform(data_encoded)\n",
    "print(\"Результат обратного преобразования:\\n\", data_inverse)\n",
    "\n",
    "df_inverse = pd.DataFrame(data_inverse, columns=categorical_features)\n",
    "print(\"\\nРезультат обратного преобразования в DataFrame:\\n\", df_inverse)"
   ]
  },
  {
   "cell_type": "markdown",
   "id": "29bad2c6",
   "metadata": {
    "id": "29bad2c6"
   },
   "source": [
    "### Задача 3. Стандартизация данных\n",
    "\n",
    "1. Создайте переменную под количественные переменные `lat`, `long`, `year`, `odometer/price`, `desc_len`, `model_in_desc`, `model_len`, `model_word_count` и создайте датафрейм `data`, содержащий только выбранные количественные переменные.\n"
   ]
  },
  {
   "cell_type": "code",
   "execution_count": 208,
   "id": "ad704812",
   "metadata": {
    "ExecuteTime": {
     "end_time": "2022-03-15T22:40:45.881773Z",
     "start_time": "2022-03-15T22:40:45.875957Z"
    },
    "id": "ad704812"
   },
   "outputs": [
    {
     "name": "stdout",
     "output_type": "stream",
     "text": [
      "         lat       long  year  odometer/price  desc_len  model_in_desc  \\\n",
      "0  35.060000 -85.250000  2020        0.499036      4482              0   \n",
      "1  40.821805 -74.061962  2016        3.542852       968              0   \n",
      "2  33.779214 -84.411811  2017        0.394718      4286              0   \n",
      "3  35.715954 -78.655304  2013        8.089034      3241              1   \n",
      "4  35.970000 -83.940000  2012        5.515079      4851              0   \n",
      "\n",
      "   model_len  model_word_count  \n",
      "0         22                 5  \n",
      "1         20                 4  \n",
      "2         16                 3  \n",
      "3          4                 1  \n",
      "4         22                 5  \n"
     ]
    }
   ],
   "source": [
    "df['odometer/price'] = df['odometer'] / df['price']\n",
    "df['desc_len'] = df['description'].str.len()\n",
    "df['model_in_desc'] = df.apply(lambda row: 1 if row['model'].lower() in row['description'].lower() else 0, axis=1)\n",
    "df['model_len'] = df['model'].str.len()\n",
    "df['model_word_count'] = df['model'].str.split().str.len()\n",
    "quantitative_features = ['lat', 'long', 'year', 'odometer/price', 'desc_len', 'model_in_desc', 'model_len', 'model_word_count']\n",
    "data = df[quantitative_features].copy()\n",
    "print(data.head())"
   ]
  },
  {
   "cell_type": "markdown",
   "id": "3e3704a7",
   "metadata": {
    "id": "3e3704a7"
   },
   "source": [
    "2. Создайте объект `std_scaler` класса StandardScaler с параметрами по умолчанию, который будет отвечать за стандартизацию."
   ]
  },
  {
   "cell_type": "code",
   "execution_count": 217,
   "id": "7b8ab72c",
   "metadata": {
    "ExecuteTime": {
     "end_time": "2022-03-15T22:40:46.294618Z",
     "start_time": "2022-03-15T22:40:46.288462Z"
    },
    "id": "7b8ab72c"
   },
   "outputs": [],
   "source": [
    "from sklearn.preprocessing import StandardScaler\n",
    "std_scaler = StandardScaler()"
   ]
  },
  {
   "cell_type": "markdown",
   "id": "1630cfa2",
   "metadata": {
    "id": "1630cfa2"
   },
   "source": [
    "3. Идентифицируйте параметры преобразования на датафрейме с количественными переменными."
   ]
  },
  {
   "cell_type": "code",
   "execution_count": 212,
   "id": "0cc2c08b",
   "metadata": {
    "ExecuteTime": {
     "end_time": "2022-03-15T22:40:46.338630Z",
     "start_time": "2022-03-15T22:40:46.333793Z"
    },
    "id": "0cc2c08b"
   },
   "outputs": [
    {
     "name": "stdout",
     "output_type": "stream",
     "text": [
      "Средние значения (means):\n",
      "[ 3.86020949e+01 -9.38968752e+01  2.01155588e+03  1.49164223e+01\n",
      "  2.74520511e+03  5.91537582e-01  1.19280590e+01  2.16872856e+00]\n",
      "\n",
      "Стандартные отклонения (stds):\n",
      "[5.72069171e+00 1.78564235e+01 6.38548159e+00 2.82259761e+01\n",
      " 2.74776799e+03 4.91549459e-01 8.66006927e+00 1.48153389e+00]\n"
     ]
    }
   ],
   "source": [
    "scaled_data = std_scaler.fit_transform(data)\n",
    "means = std_scaler.mean_\n",
    "stds = std_scaler.scale_\n",
    "print(\"Средние значения (means):\")\n",
    "print(means)\n",
    "print(\"\\nСтандартные отклонения (stds):\")\n",
    "print(stds)"
   ]
  },
  {
   "cell_type": "markdown",
   "id": "9ef7ff55",
   "metadata": {
    "id": "9ef7ff55"
   },
   "source": [
    "4. Примените преобразование для датафрейма с количественными переменными и сохраните в новую переменную, распечатайте получившуюся матрицу и её размерность."
   ]
  },
  {
   "cell_type": "code",
   "execution_count": 215,
   "id": "cd141505",
   "metadata": {
    "ExecuteTime": {
     "end_time": "2022-03-15T22:40:46.389565Z",
     "start_time": "2022-03-15T22:40:46.380037Z"
    },
    "id": "cd141505"
   },
   "outputs": [
    {
     "name": "stdout",
     "output_type": "stream",
     "text": [
      "\n",
      "Первые строки DataFrame с преобразованными данными:\n",
      "        lat      long      year  odometer/price  desc_len  model_in_desc  \\\n",
      "0 -0.619172  0.484245  1.322394       -0.510784  0.632075      -1.203414   \n",
      "1  0.388014  1.110800  0.695973       -0.402947 -0.646781      -1.203414   \n",
      "2 -0.843059  0.531185  0.852578       -0.514480  0.560744      -1.203414   \n",
      "3 -0.504509  0.853562  0.226157       -0.241883  0.180435       0.830969   \n",
      "4 -0.460101  0.557607  0.069552       -0.333074  0.766366      -1.203414   \n",
      "\n",
      "   model_len  model_word_count  \n",
      "0   1.163032          1.911041  \n",
      "1   0.932087          1.236064  \n",
      "2   0.470197          0.561088  \n",
      "3  -0.915473         -0.788864  \n",
      "4   1.163032          1.911041  \n"
     ]
    }
   ],
   "source": [
    "scaled_data_df = pd.DataFrame(scaled_data, columns=data.columns)\n",
    "print(\"\\nПервые строки DataFrame с преобразованными данными:\")\n",
    "print(scaled_data_df.head())"
   ]
  },
  {
   "cell_type": "markdown",
   "id": "68d44f88",
   "metadata": {
    "ExecuteTime": {
     "end_time": "2022-03-13T11:12:57.421096Z",
     "start_time": "2022-03-13T11:12:57.414865Z"
    },
    "id": "68d44f88"
   },
   "source": [
    "5. Создайте наименования новых признаков по шаблону: `lat_std` для `lat` и так далее."
   ]
  },
  {
   "cell_type": "code",
   "execution_count": 219,
   "id": "013e66f2",
   "metadata": {
    "ExecuteTime": {
     "end_time": "2022-03-15T22:40:46.483299Z",
     "start_time": "2022-03-15T22:40:46.475050Z"
    },
    "id": "013e66f2"
   },
   "outputs": [
    {
     "name": "stdout",
     "output_type": "stream",
     "text": [
      "Список новых наименований признаков:\n",
      "['lat_std', 'long_std', 'year_std', 'odometer/price_std', 'desc_len_std', 'model_in_desc_std', 'model_len_std', 'model_word_count_std']\n"
     ]
    }
   ],
   "source": [
    "new_feature_names = [f'{col}_std' for col in data.columns]\n",
    "print(\"Список новых наименований признаков:\")\n",
    "print(new_feature_names)"
   ]
  },
  {
   "cell_type": "markdown",
   "id": "490925bb",
   "metadata": {
    "ExecuteTime": {
     "end_time": "2022-03-13T11:13:15.167251Z",
     "start_time": "2022-03-13T11:13:15.161293Z"
    },
    "id": "490925bb"
   },
   "source": [
    "6. Добавьте в исходный датафрейм получившиеся новые признаки, выведите первые пять записей датафрейма и список колонок."
   ]
  },
  {
   "cell_type": "code",
   "execution_count": 221,
   "id": "6eb7c0dd",
   "metadata": {
    "ExecuteTime": {
     "end_time": "2022-03-15T22:40:46.528674Z",
     "start_time": "2022-03-15T22:40:46.520688Z"
    },
    "id": "6eb7c0dd"
   },
   "outputs": [
    {
     "name": "stdout",
     "output_type": "stream",
     "text": [
      "\n",
      "Список колонок DataFrame:\n",
      "['lat', 'long', 'year', 'odometer/price', 'desc_len', 'model_in_desc', 'model_len', 'model_word_count', 'lat_std', 'long_std', 'year_std', 'odometer/price_std', 'desc_len_std', 'model_in_desc_std', 'model_len_std', 'model_word_count_std']\n"
     ]
    }
   ],
   "source": [
    "new_features = data.copy()\n",
    "new_features.columns = new_feature_names\n",
    "\n",
    "data = pd.concat([data, new_features], axis=1)\n",
    "print(\"\\nСписок колонок DataFrame:\")\n",
    "print(data.columns.tolist())"
   ]
  },
  {
   "cell_type": "markdown",
   "id": "0a3146dd",
   "metadata": {
    "ExecuteTime": {
     "end_time": "2022-03-13T11:16:52.292837Z",
     "start_time": "2022-03-13T11:16:52.286868Z"
    },
    "id": "0a3146dd"
   },
   "source": [
    "### Задача 4. MinMax-нормализация данных\n",
    "\n",
    "1. Импортируйте MinMaxScaler из `sklearn.preprocessing`."
   ]
  },
  {
   "cell_type": "code",
   "execution_count": 223,
   "id": "3db8afba",
   "metadata": {
    "ExecuteTime": {
     "end_time": "2022-03-15T22:40:46.701361Z",
     "start_time": "2022-03-15T22:40:46.695192Z"
    },
    "id": "3db8afba"
   },
   "outputs": [],
   "source": [
    "from sklearn.preprocessing import MinMaxScaler"
   ]
  },
  {
   "cell_type": "markdown",
   "id": "d471557f",
   "metadata": {
    "id": "d471557f"
   },
   "source": [
    "2. Создайте датафрейм, содержащий переменные `lat` и `long`."
   ]
  },
  {
   "cell_type": "code",
   "execution_count": 225,
   "id": "13859501",
   "metadata": {
    "ExecuteTime": {
     "end_time": "2022-03-15T22:40:46.732137Z",
     "start_time": "2022-03-15T22:40:46.725228Z"
    },
    "id": "13859501"
   },
   "outputs": [
    {
     "name": "stdout",
     "output_type": "stream",
     "text": [
      "\n",
      "Список колонок нового DataFrame:\n",
      "['lat', 'long']\n"
     ]
    }
   ],
   "source": [
    "selected_columns = ['lat', 'long']\n",
    "lat_long_df = df[selected_columns].copy()\n",
    "print(\"\\nСписок колонок нового DataFrame:\")\n",
    "print(lat_long_df.columns.tolist())"
   ]
  },
  {
   "cell_type": "markdown",
   "id": "0599fc35",
   "metadata": {
    "id": "0599fc35"
   },
   "source": [
    "3. Повторите действия пунктов 2–6 из задачи 3 для добавления в исходный датафрейм признаков `lat_mm` и `long_mm`. Выведите получившийся датафрейм."
   ]
  },
  {
   "cell_type": "code",
   "execution_count": 227,
   "id": "26f2c546",
   "metadata": {
    "ExecuteTime": {
     "end_time": "2022-03-15T22:40:47.159782Z",
     "start_time": "2022-03-15T22:40:47.148971Z"
    },
    "id": "26f2c546"
   },
   "outputs": [
    {
     "name": "stdout",
     "output_type": "stream",
     "text": [
      "DataFrame с новыми признаками:\n",
      "              id                                                url  \\\n",
      "0     7308295377  https://chattanooga.craigslist.org/ctd/d/chatt...   \n",
      "1     7316380095  https://newjersey.craigslist.org/ctd/d/carlsta...   \n",
      "2     7313733749  https://reno.craigslist.org/ctd/d/atlanta-2017...   \n",
      "3     7308210929  https://fayetteville.craigslist.org/ctd/d/rale...   \n",
      "4     7303797340  https://knoxville.craigslist.org/ctd/d/knoxvil...   \n",
      "...          ...                                                ...   \n",
      "9614  7304876387  https://chautauqua.craigslist.org/ctd/d/falcon...   \n",
      "9615  7316152972  https://binghamton.craigslist.org/ctd/d/roches...   \n",
      "9616  7310993818  https://salem.craigslist.org/ctd/d/salem-2011-...   \n",
      "9617  7306637427  https://madison.craigslist.org/ctd/d/madison-2...   \n",
      "9618  7311960763  https://norfolk.craigslist.org/ctd/d/chesapeak...   \n",
      "\n",
      "                       region                           region_url  price  \\\n",
      "0                 chattanooga   https://chattanooga.craigslist.org  54990   \n",
      "1                north jersey     https://newjersey.craigslist.org  16942   \n",
      "2                reno / tahoe          https://reno.craigslist.org  35590   \n",
      "3                fayetteville  https://fayetteville.craigslist.org  14500   \n",
      "4                   knoxville     https://knoxville.craigslist.org  14590   \n",
      "...                       ...                                  ...    ...   \n",
      "9614               chautauqua    https://chautauqua.craigslist.org   4495   \n",
      "9615               binghamton    https://binghamton.craigslist.org  14495   \n",
      "9616                    salem         https://salem.craigslist.org   8995   \n",
      "9617                  madison       https://madison.craigslist.org  31900   \n",
      "9618  norfolk / hampton roads       https://norfolk.craigslist.org  31990   \n",
      "\n",
      "      year manufacturer                      model    fuel  odometer  ...  \\\n",
      "0     2020          ram     2500 crew cab big horn  diesel     27442  ...   \n",
      "1     2016         ford       explorer 4wd 4dr xlt   other     60023  ...   \n",
      "2     2017   volkswagen           golf r hatchback     gas     14048  ...   \n",
      "3     2013       toyota                       rav4     gas    117291  ...   \n",
      "4     2012          bmw     1 series 128i coupe 2d   other     80465  ...   \n",
      "...    ...          ...                        ...     ...       ...  ...   \n",
      "9614  2002       toyota                       rav4     gas    150000  ...   \n",
      "9615  2008         jeep                   wrangler     gas    113573  ...   \n",
      "9616  2011         audi  a3 2.0t premium plus pzev     gas    150184  ...   \n",
      "9617  2015      porsche                    cayenne  hybrid     61943  ...   \n",
      "9618  2017          ram     1500 crew cab big horn     gas     35921  ...   \n",
      "\n",
      "     title_status_lien title_status_missing title_status_parts only  \\\n",
      "0                  0.0                  0.0                     0.0   \n",
      "1                  0.0                  0.0                     0.0   \n",
      "2                  0.0                  0.0                     0.0   \n",
      "3                  0.0                  0.0                     0.0   \n",
      "4                  0.0                  0.0                     0.0   \n",
      "...                ...                  ...                     ...   \n",
      "9614               0.0                  0.0                     0.0   \n",
      "9615               0.0                  0.0                     0.0   \n",
      "9616               0.0                  0.0                     0.0   \n",
      "9617               0.0                  0.0                     0.0   \n",
      "9618               0.0                  0.0                     0.0   \n",
      "\n",
      "     title_status_rebuilt title_status_salvage  age_category_average  \\\n",
      "0                     0.0                  0.0                   0.0   \n",
      "1                     0.0                  0.0                   0.0   \n",
      "2                     0.0                  0.0                   0.0   \n",
      "3                     0.0                  0.0                   1.0   \n",
      "4                     0.0                  0.0                   1.0   \n",
      "...                   ...                  ...                   ...   \n",
      "9614                  0.0                  0.0                   0.0   \n",
      "9615                  0.0                  0.0                   1.0   \n",
      "9616                  0.0                  0.0                   1.0   \n",
      "9617                  0.0                  0.0                   0.0   \n",
      "9618                  0.0                  0.0                   0.0   \n",
      "\n",
      "      age_category_new age_category_old    lat_mm   long_mm  \n",
      "0                  1.0              0.0  0.341769  0.288699  \n",
      "1                  1.0              0.0  0.468665  0.333055  \n",
      "2                  1.0              0.0  0.313561  0.292022  \n",
      "3                  0.0              0.0  0.356215  0.314844  \n",
      "4                  0.0              0.0  0.361810  0.293893  \n",
      "...                ...              ...       ...       ...  \n",
      "9614               0.0              1.0  0.497341  0.312727  \n",
      "9615               0.0              0.0  0.521415  0.318411  \n",
      "9616               0.0              0.0  0.559052  0.139104  \n",
      "9617               1.0              0.0  0.517287  0.272255  \n",
      "9618               1.0              0.0  0.377227  0.324182  \n",
      "\n",
      "[9619 rows x 1487 columns]\n"
     ]
    }
   ],
   "source": [
    "from sklearn.preprocessing import MinMaxScaler\n",
    "lat_long_df = df[['lat', 'long']].copy()\n",
    "mm_scaler = MinMaxScaler()\n",
    "lat_long_scaled = mm_scaler.fit_transform(lat_long_df)\n",
    "lat_long_scaled_df = pd.DataFrame(lat_long_scaled, columns=['lat_mm', 'long_mm'])\n",
    "df = pd.concat([df, lat_long_scaled_df], axis=1)\n",
    "print(\"DataFrame с новыми признаками:\")\n",
    "print(df)"
   ]
  },
  {
   "cell_type": "markdown",
   "id": "71044c34",
   "metadata": {
    "id": "71044c34"
   },
   "source": [
    "4. Создайте переменную под географические признаки `lat`, `lat_std`, `lat_mm`, `long`, `long_std`, `long_mm` и выведите их. Посмотрите на различия в значениях для исходных признаков и нормализованных с помощью стандартизации и MinMax-преобразования. "
   ]
  },
  {
   "cell_type": "code",
   "execution_count": 229,
   "id": "27642284",
   "metadata": {
    "ExecuteTime": {
     "end_time": "2022-03-15T22:40:47.408669Z",
     "start_time": "2022-03-15T22:40:47.402057Z"
    },
    "id": "27642284"
   },
   "outputs": [
    {
     "name": "stdout",
     "output_type": "stream",
     "text": [
      "Географические признаки:\n",
      "\n",
      "         lat   lat_std    lat_mm    lat_mm       long  long_std   long_mm  \\\n",
      "0  35.060000 -0.619172  0.341769  0.341769 -85.250000  0.484245  0.288699   \n",
      "1  40.821805  0.388014  0.468665  0.468665 -74.061962  1.110800  0.333055   \n",
      "2  33.779214 -0.843059  0.313561  0.313561 -84.411811  0.531185  0.292022   \n",
      "3  35.715954 -0.504509  0.356215  0.356215 -78.655304  0.853562  0.314844   \n",
      "4  35.970000 -0.460101  0.361810  0.361810 -83.940000  0.557607  0.293893   \n",
      "\n",
      "    long_mm  \n",
      "0  0.288699  \n",
      "1  0.333055  \n",
      "2  0.292022  \n",
      "3  0.314844  \n",
      "4  0.293893  \n",
      "\n",
      "Описательная статистика:\n",
      "               lat       lat_std       lat_mm       lat_mm         long  \\\n",
      "count  9619.000000  9.619000e+03  9619.000000  9619.000000  9619.000000   \n",
      "mean     38.602095  2.105257e-16     0.419779     0.419779   -93.896875   \n",
      "std       5.720989  1.000052e+00     0.125997     0.125997    17.857352   \n",
      "min      19.541726 -3.331829e+00     0.000000     0.000000  -158.069300   \n",
      "25%      34.920000 -6.436450e-01     0.338685     0.338685  -106.944340   \n",
      "50%      39.300000  1.219966e-01     0.435149     0.435149   -87.845800   \n",
      "75%      42.382100  6.607601e-01     0.503028     0.503028   -80.678711   \n",
      "max      64.947500  4.605283e+00     1.000000     1.000000    94.163200   \n",
      "\n",
      "           long_std      long_mm      long_mm  \n",
      "count  9.619000e+03  9619.000000  9619.000000  \n",
      "mean  -4.498602e-16     0.254418     0.254418  \n",
      "std    1.000052e+00     0.070797     0.070797  \n",
      "min   -3.593801e+00     0.000000     0.000000  \n",
      "25%   -7.306875e-01     0.202690     0.202690  \n",
      "50%    3.388739e-01     0.278408     0.278408  \n",
      "75%    7.402470e-01     0.306822     0.306822  \n",
      "max    1.053179e+01     1.000000     1.000000  \n"
     ]
    }
   ],
   "source": [
    "lat_long_df = df[['lat', 'long']].copy()\n",
    "mm_scaler = MinMaxScaler()\n",
    "lat_long_scaled = mm_scaler.fit_transform(lat_long_df)\n",
    "lat_long_scaled_df = pd.DataFrame(lat_long_scaled, columns=['lat_mm', 'long_mm'])\n",
    "df = pd.concat([df, lat_long_scaled_df], axis=1)\n",
    "\n",
    "std_scaler = StandardScaler()\n",
    "scaled_data = std_scaler.fit_transform(df[['lat', 'long']])\n",
    "scaled_data_df = pd.DataFrame(scaled_data, columns=['lat_std', 'long_std'])\n",
    "df = pd.concat([df, scaled_data_df], axis=1)\n",
    "\n",
    "geo_features = ['lat', 'lat_std', 'lat_mm', 'long', 'long_std', 'long_mm']\n",
    "\n",
    "print(\"Географические признаки:\\n\")\n",
    "print(df[geo_features].head())\n",
    "\n",
    "print(\"\\nОписательная статистика:\")\n",
    "print(df[geo_features].describe())"
   ]
  },
  {
   "cell_type": "markdown",
   "id": "ef219d5f",
   "metadata": {
    "id": "ef219d5f"
   },
   "source": [
    "5. Выведите описательные статистики для всех географических признаков. Посмотрите на различия в статистиках для исходных признаков и нормализованных с помощью стандартизации и MinMax-преобразования."
   ]
  },
  {
   "cell_type": "code",
   "execution_count": 231,
   "id": "453b92ff",
   "metadata": {
    "ExecuteTime": {
     "end_time": "2022-03-15T22:40:47.738681Z",
     "start_time": "2022-03-15T22:40:47.730698Z"
    },
    "id": "453b92ff"
   },
   "outputs": [
    {
     "name": "stdout",
     "output_type": "stream",
     "text": [
      "Описательная статистика для географических признаков:\n",
      "\n",
      "               lat       lat_std       lat_mm       lat_mm         long  \\\n",
      "count  9619.000000  9.619000e+03  9619.000000  9619.000000  9619.000000   \n",
      "mean     38.602095  2.105257e-16     0.419779     0.419779   -93.896875   \n",
      "std       5.720989  1.000052e+00     0.125997     0.125997    17.857352   \n",
      "min      19.541726 -3.331829e+00     0.000000     0.000000  -158.069300   \n",
      "25%      34.920000 -6.436450e-01     0.338685     0.338685  -106.944340   \n",
      "50%      39.300000  1.219966e-01     0.435149     0.435149   -87.845800   \n",
      "75%      42.382100  6.607601e-01     0.503028     0.503028   -80.678711   \n",
      "max      64.947500  4.605283e+00     1.000000     1.000000    94.163200   \n",
      "\n",
      "           long_std      long_mm      long_mm  \n",
      "count  9.619000e+03  9619.000000  9619.000000  \n",
      "mean  -4.498602e-16     0.254418     0.254418  \n",
      "std    1.000052e+00     0.070797     0.070797  \n",
      "min   -3.593801e+00     0.000000     0.000000  \n",
      "25%   -7.306875e-01     0.202690     0.202690  \n",
      "50%    3.388739e-01     0.278408     0.278408  \n",
      "75%    7.402470e-01     0.306822     0.306822  \n",
      "max    1.053179e+01     1.000000     1.000000  \n"
     ]
    }
   ],
   "source": [
    "geo_features = ['lat', 'lat_std', 'lat_mm', 'long', 'long_std', 'long_mm']\n",
    "print(\"Описательная статистика для географических признаков:\\n\")\n",
    "print(df[geo_features].describe())"
   ]
  },
  {
   "cell_type": "markdown",
   "id": "efac5751",
   "metadata": {
    "id": "efac5751"
   },
   "source": [
    "6. Выведите матрицу корреляций для всех географических признаков, чтобы убедиться, что нормализация признаков сохранила свойства исходных признаков."
   ]
  },
  {
   "cell_type": "code",
   "execution_count": 233,
   "id": "10bcd5c8",
   "metadata": {
    "ExecuteTime": {
     "end_time": "2022-03-15T22:40:47.841822Z",
     "start_time": "2022-03-15T22:40:47.835737Z"
    },
    "id": "10bcd5c8"
   },
   "outputs": [
    {
     "name": "stdout",
     "output_type": "stream",
     "text": [
      "Матрица корреляций для географических признаков:\n",
      "\n",
      "               lat   lat_std    lat_mm    lat_mm      long  long_std  \\\n",
      "lat       1.000000  1.000000  1.000000  1.000000 -0.134596 -0.134596   \n",
      "lat_std   1.000000  1.000000  1.000000  1.000000 -0.134596 -0.134596   \n",
      "lat_mm    1.000000  1.000000  1.000000  1.000000 -0.134596 -0.134596   \n",
      "lat_mm    1.000000  1.000000  1.000000  1.000000 -0.134596 -0.134596   \n",
      "long     -0.134596 -0.134596 -0.134596 -0.134596  1.000000  1.000000   \n",
      "long_std -0.134596 -0.134596 -0.134596 -0.134596  1.000000  1.000000   \n",
      "long_mm  -0.134596 -0.134596 -0.134596 -0.134596  1.000000  1.000000   \n",
      "long_mm  -0.134596 -0.134596 -0.134596 -0.134596  1.000000  1.000000   \n",
      "\n",
      "           long_mm   long_mm  \n",
      "lat      -0.134596 -0.134596  \n",
      "lat_std  -0.134596 -0.134596  \n",
      "lat_mm   -0.134596 -0.134596  \n",
      "lat_mm   -0.134596 -0.134596  \n",
      "long      1.000000  1.000000  \n",
      "long_std  1.000000  1.000000  \n",
      "long_mm   1.000000  1.000000  \n",
      "long_mm   1.000000  1.000000  \n"
     ]
    }
   ],
   "source": [
    "print(\"Матрица корреляций для географических признаков:\\n\")\n",
    "print(df[geo_features].corr())"
   ]
  },
  {
   "cell_type": "markdown",
   "id": "f87792e8",
   "metadata": {
    "ExecuteTime": {
     "end_time": "2022-03-13T12:00:09.641795Z",
     "start_time": "2022-03-13T12:00:09.636474Z"
    },
    "id": "f87792e8"
   },
   "source": [
    "### Задача 5. Признаки на основе дат\n",
    "\n",
    "1. Выведите по отдельности колонки `posting_date` и `date`. "
   ]
  },
  {
   "cell_type": "code",
   "execution_count": 235,
   "id": "1cf0cc30",
   "metadata": {
    "ExecuteTime": {
     "end_time": "2022-03-15T22:40:48.879395Z",
     "start_time": "2022-03-15T22:40:48.875098Z"
    },
    "id": "1cf0cc30"
   },
   "outputs": [
    {
     "name": "stdout",
     "output_type": "stream",
     "text": [
      "\n",
      "Список колонок нового DataFrame:\n",
      "['posting_date', 'date']\n"
     ]
    }
   ],
   "source": [
    "selected_columns = ['posting_date', 'date']\n",
    "lat_long_df = df[selected_columns].copy()\n",
    "print(\"\\nСписок колонок нового DataFrame:\")\n",
    "print(lat_long_df.columns.tolist())"
   ]
  },
  {
   "cell_type": "markdown",
   "id": "a154545f",
   "metadata": {
    "id": "a154545f"
   },
   "source": [
    "2. Ранее преобразованная колонка `date` после сохранения в файл и загрузки из него содержит данные в строковом формате, поэтому измените её тип c помощью `pd.to_datetime`."
   ]
  },
  {
   "cell_type": "code",
   "execution_count": 237,
   "id": "a196635b",
   "metadata": {
    "ExecuteTime": {
     "end_time": "2022-03-15T22:49:02.356258Z",
     "start_time": "2022-03-15T22:49:02.315893Z"
    },
    "id": "a196635b"
   },
   "outputs": [
    {
     "name": "stdout",
     "output_type": "stream",
     "text": [
      "\n",
      "Колонка date (после преобразования):\n",
      "\n",
      "0      2021-04-17 16:30:50+00:00\n",
      "1      2021-05-03 19:40:21+00:00\n",
      "2      2021-04-28 10:52:20+00:00\n",
      "3      2021-04-17 14:08:57+00:00\n",
      "4      2021-04-08 19:10:56+00:00\n",
      "                  ...           \n",
      "9614   2021-04-10 20:33:57+00:00\n",
      "9615   2021-05-03 13:36:30+00:00\n",
      "9616   2021-04-22 19:14:01+00:00\n",
      "9617   2021-04-14 14:14:42+00:00\n",
      "9618   2021-04-24 17:50:49+00:00\n",
      "Name: date, Length: 9619, dtype: datetime64[ns, UTC]\n",
      "\n",
      "Тип данных date после преобразования: datetime64[ns, UTC]\n",
      "\n"
     ]
    }
   ],
   "source": [
    "df['date'] = pd.to_datetime(df['date'])\n",
    "print(\"\\nКолонка date (после преобразования):\\n\")\n",
    "print(df['date'])\n",
    "print(f'\\nТип данных date после преобразования: {df[\"date\"].dtype}\\n')"
   ]
  },
  {
   "cell_type": "markdown",
   "id": "c9b3e6f1",
   "metadata": {
    "id": "c9b3e6f1"
   },
   "source": [
    "3. Несколькими способами извлеките номер месяца продажи автомобиля.\n",
    "\n",
    "3.1. Из переменной `posting_date` с помощью lambda-функции и операций над строками."
   ]
  },
  {
   "cell_type": "code",
   "execution_count": 239,
   "id": "7fb35f85",
   "metadata": {
    "ExecuteTime": {
     "end_time": "2022-03-15T22:40:51.380851Z",
     "start_time": "2022-03-15T22:40:51.369103Z"
    },
    "id": "7fb35f85"
   },
   "outputs": [
    {
     "data": {
      "text/plain": [
       "0       4\n",
       "1       5\n",
       "2       4\n",
       "3       4\n",
       "4       4\n",
       "       ..\n",
       "9614    4\n",
       "9615    5\n",
       "9616    4\n",
       "9617    4\n",
       "9618    4\n",
       "Name: month_lambda, Length: 9619, dtype: int64"
      ]
     },
     "execution_count": 239,
     "metadata": {},
     "output_type": "execute_result"
    }
   ],
   "source": [
    "df['month_lambda'] = df['posting_date'].apply(lambda x: int(x.split('-')[1]))\n",
    "df['month_lambda']"
   ]
  },
  {
   "cell_type": "markdown",
   "id": "3218fd7e",
   "metadata": {
    "id": "3218fd7e"
   },
   "source": [
    "3.2. Из переменной `date` с помощью lambda-функции и метода `month`."
   ]
  },
  {
   "cell_type": "code",
   "execution_count": 241,
   "id": "4fd839cb",
   "metadata": {
    "ExecuteTime": {
     "end_time": "2022-03-15T22:40:54.064285Z",
     "start_time": "2022-03-15T22:40:54.057551Z"
    },
    "id": "4fd839cb"
   },
   "outputs": [
    {
     "name": "stdout",
     "output_type": "stream",
     "text": [
      "0       4\n",
      "1       5\n",
      "2       4\n",
      "3       4\n",
      "4       4\n",
      "       ..\n",
      "9614    4\n",
      "9615    5\n",
      "9616    4\n",
      "9617    4\n",
      "9618    4\n",
      "Name: month_lambda_dt, Length: 9619, dtype: int64\n"
     ]
    }
   ],
   "source": [
    "df['month_lambda_dt'] = df['date'].apply(lambda x: x.month if pd.notnull(x) else None)\n",
    "print(df['month_lambda_dt'])"
   ]
  },
  {
   "cell_type": "markdown",
   "id": "4000edd6",
   "metadata": {
    "ExecuteTime": {
     "end_time": "2022-03-13T12:25:21.228094Z",
     "start_time": "2022-03-13T12:25:21.223060Z"
    },
    "id": "4000edd6"
   },
   "source": [
    "3.3. Из переменной `date` с помощью `dt` и метода `month`."
   ]
  },
  {
   "cell_type": "code",
   "execution_count": 243,
   "id": "b4112009",
   "metadata": {
    "ExecuteTime": {
     "end_time": "2022-03-15T22:40:55.768506Z",
     "start_time": "2022-03-15T22:40:55.764567Z"
    },
    "id": "b4112009"
   },
   "outputs": [
    {
     "name": "stdout",
     "output_type": "stream",
     "text": [
      "0       4\n",
      "1       5\n",
      "2       4\n",
      "3       4\n",
      "4       4\n",
      "       ..\n",
      "9614    4\n",
      "9615    5\n",
      "9616    4\n",
      "9617    4\n",
      "9618    4\n",
      "Name: month_dt, Length: 9619, dtype: int32\n"
     ]
    }
   ],
   "source": [
    "df['month_dt'] = df['date'].dt.month\n",
    "print(df['month_dt'])"
   ]
  },
  {
   "cell_type": "markdown",
   "id": "4c79c093",
   "metadata": {
    "id": "4c79c093"
   },
   "source": [
    "4. Создайте любым из способов (3.2 или 3.3) признак `month`, обозначающий номер месяца размещения объявления о продаже автомобиля, и распечатайте его."
   ]
  },
  {
   "cell_type": "code",
   "execution_count": 245,
   "id": "a6f217a1",
   "metadata": {
    "ExecuteTime": {
     "end_time": "2022-03-15T22:40:55.808808Z",
     "start_time": "2022-03-15T22:40:55.801804Z"
    },
    "id": "a6f217a1"
   },
   "outputs": [
    {
     "name": "stdout",
     "output_type": "stream",
     "text": [
      "\n",
      "Признак 'month':\n",
      "0       4\n",
      "1       5\n",
      "2       4\n",
      "3       4\n",
      "4       4\n",
      "       ..\n",
      "9614    4\n",
      "9615    5\n",
      "9616    4\n",
      "9617    4\n",
      "9618    4\n",
      "Name: month, Length: 9619, dtype: int64\n"
     ]
    },
    {
     "name": "stderr",
     "output_type": "stream",
     "text": [
      "C:\\Users\\Exkeil\\AppData\\Local\\Temp\\ipykernel_4768\\2799392459.py:1: FutureWarning: In a future version of pandas, parsing datetimes with mixed time zones will raise an error unless `utc=True`. Please specify `utc=True` to opt in to the new behaviour and silence this warning. To create a `Series` with mixed offsets and `object` dtype, please use `apply` and `datetime.datetime.strptime`\n",
      "  df['date'] = pd.to_datetime(df['posting_date'], errors='coerce')\n"
     ]
    }
   ],
   "source": [
    "df['date'] = pd.to_datetime(df['posting_date'], errors='coerce')\n",
    "df['month'] = df['date'].apply(lambda x: x.month if pd.notnull(x) else None)\n",
    "print(\"\\nПризнак 'month':\")\n",
    "print(df['month'])"
   ]
  },
  {
   "cell_type": "markdown",
   "id": "c855e481",
   "metadata": {
    "id": "c855e481"
   },
   "source": [
    "5. Создайте признак `dayofweek`, обозначающий день недели размещения объявления о продаже автомобиля, и распечатайте его."
   ]
  },
  {
   "cell_type": "code",
   "execution_count": 247,
   "id": "ceda59b0",
   "metadata": {
    "ExecuteTime": {
     "end_time": "2022-03-15T22:40:55.838752Z",
     "start_time": "2022-03-15T22:40:55.833582Z"
    },
    "id": "ceda59b0"
   },
   "outputs": [
    {
     "name": "stdout",
     "output_type": "stream",
     "text": [
      "\n",
      "Признак 'dayofweek':\n",
      "0       5\n",
      "1       0\n",
      "2       2\n",
      "3       5\n",
      "4       3\n",
      "       ..\n",
      "9614    5\n",
      "9615    0\n",
      "9616    3\n",
      "9617    2\n",
      "9618    5\n",
      "Name: dayofweek, Length: 9619, dtype: int64\n"
     ]
    },
    {
     "name": "stderr",
     "output_type": "stream",
     "text": [
      "C:\\Users\\Exkeil\\AppData\\Local\\Temp\\ipykernel_4768\\1471844700.py:1: FutureWarning: In a future version of pandas, parsing datetimes with mixed time zones will raise an error unless `utc=True`. Please specify `utc=True` to opt in to the new behaviour and silence this warning. To create a `Series` with mixed offsets and `object` dtype, please use `apply` and `datetime.datetime.strptime`\n",
      "  df['date'] = pd.to_datetime(df['posting_date'], errors='coerce')\n"
     ]
    }
   ],
   "source": [
    "df['date'] = pd.to_datetime(df['posting_date'], errors='coerce')\n",
    "df['dayofweek'] = df['date'].apply(lambda x: x.dayofweek if pd.notnull(x) else None)\n",
    "\n",
    "print(\"\\nПризнак 'dayofweek':\")\n",
    "print(df['dayofweek'])"
   ]
  },
  {
   "cell_type": "markdown",
   "id": "53253b00",
   "metadata": {
    "id": "53253b00"
   },
   "source": [
    "6. Создайте признак `diff_years`, обозначающий количество лет между годом производства автомобиля и годом размещения объявления о продаже автомобиля, и распечатайте его. Дополнительные корректировки не применяйте."
   ]
  },
  {
   "cell_type": "code",
   "execution_count": 251,
   "id": "c5b0ec88",
   "metadata": {
    "ExecuteTime": {
     "end_time": "2022-03-15T22:40:56.791095Z",
     "start_time": "2022-03-15T22:40:56.787550Z"
    },
    "id": "c5b0ec88"
   },
   "outputs": [
    {
     "name": "stdout",
     "output_type": "stream",
     "text": [
      "              id                                                url  \\\n",
      "0     7308295377  https://chattanooga.craigslist.org/ctd/d/chatt...   \n",
      "1     7316380095  https://newjersey.craigslist.org/ctd/d/carlsta...   \n",
      "2     7313733749  https://reno.craigslist.org/ctd/d/atlanta-2017...   \n",
      "3     7308210929  https://fayetteville.craigslist.org/ctd/d/rale...   \n",
      "4     7303797340  https://knoxville.craigslist.org/ctd/d/knoxvil...   \n",
      "...          ...                                                ...   \n",
      "9614  7304876387  https://chautauqua.craigslist.org/ctd/d/falcon...   \n",
      "9615  7316152972  https://binghamton.craigslist.org/ctd/d/roches...   \n",
      "9616  7310993818  https://salem.craigslist.org/ctd/d/salem-2011-...   \n",
      "9617  7306637427  https://madison.craigslist.org/ctd/d/madison-2...   \n",
      "9618  7311960763  https://norfolk.craigslist.org/ctd/d/chesapeak...   \n",
      "\n",
      "                       region                           region_url  price  \\\n",
      "0                 chattanooga   https://chattanooga.craigslist.org  54990   \n",
      "1                north jersey     https://newjersey.craigslist.org  16942   \n",
      "2                reno / tahoe          https://reno.craigslist.org  35590   \n",
      "3                fayetteville  https://fayetteville.craigslist.org  14500   \n",
      "4                   knoxville     https://knoxville.craigslist.org  14590   \n",
      "...                       ...                                  ...    ...   \n",
      "9614               chautauqua    https://chautauqua.craigslist.org   4495   \n",
      "9615               binghamton    https://binghamton.craigslist.org  14495   \n",
      "9616                    salem         https://salem.craigslist.org   8995   \n",
      "9617                  madison       https://madison.craigslist.org  31900   \n",
      "9618  norfolk / hampton roads       https://norfolk.craigslist.org  31990   \n",
      "\n",
      "      year manufacturer                      model    fuel  odometer  ...  \\\n",
      "0     2020          ram     2500 crew cab big horn  diesel     27442  ...   \n",
      "1     2016         ford       explorer 4wd 4dr xlt   other     60023  ...   \n",
      "2     2017   volkswagen           golf r hatchback     gas     14048  ...   \n",
      "3     2013       toyota                       rav4     gas    117291  ...   \n",
      "4     2012          bmw     1 series 128i coupe 2d   other     80465  ...   \n",
      "...    ...          ...                        ...     ...       ...  ...   \n",
      "9614  2002       toyota                       rav4     gas    150000  ...   \n",
      "9615  2008         jeep                   wrangler     gas    113573  ...   \n",
      "9616  2011         audi  a3 2.0t premium plus pzev     gas    150184  ...   \n",
      "9617  2015      porsche                    cayenne  hybrid     61943  ...   \n",
      "9618  2017          ram     1500 crew cab big horn     gas     35921  ...   \n",
      "\n",
      "        lat_mm   long_mm   lat_std  long_std month_lambda  month_lambda_dt  \\\n",
      "0     0.341769  0.288699 -0.619172  0.484245            4                4   \n",
      "1     0.468665  0.333055  0.388014  1.110800            5                5   \n",
      "2     0.313561  0.292022 -0.843059  0.531185            4                4   \n",
      "3     0.356215  0.314844 -0.504509  0.853562            4                4   \n",
      "4     0.361810  0.293893 -0.460101  0.557607            4                4   \n",
      "...        ...       ...       ...       ...          ...              ...   \n",
      "9614  0.497341  0.312727  0.615626  0.823646            4                4   \n",
      "9615  0.521415  0.318411  0.806702  0.903947            5                5   \n",
      "9616  0.559052  0.139104  1.105428 -1.628875            4                4   \n",
      "9617  0.517287  0.272255  0.773939  0.251959            4                4   \n",
      "9618  0.377227  0.324182 -0.337738  0.985465            4                4   \n",
      "\n",
      "      month_dt month dayofweek diff_years  \n",
      "0            4     4         5          1  \n",
      "1            5     5         0          5  \n",
      "2            4     4         2          4  \n",
      "3            4     4         5          8  \n",
      "4            4     4         3          9  \n",
      "...        ...   ...       ...        ...  \n",
      "9614         4     4         5         19  \n",
      "9615         5     5         0         13  \n",
      "9616         4     4         3         10  \n",
      "9617         4     4         2          6  \n",
      "9618         4     4         5          4  \n",
      "\n",
      "[9619 rows x 1497 columns]\n",
      "\n",
      "Признак 'diff_years':\n",
      "0        1\n",
      "1        5\n",
      "2        4\n",
      "3        8\n",
      "4        9\n",
      "        ..\n",
      "9614    19\n",
      "9615    13\n",
      "9616    10\n",
      "9617     6\n",
      "9618     4\n",
      "Name: diff_years, Length: 9619, dtype: int64\n"
     ]
    }
   ],
   "source": [
    "df['date'] = pd.to_datetime(df['posting_date'], errors='coerce', utc=True)\n",
    "df['diff_years'] = df.apply(lambda row: (row['date'].year - row['year']) if (pd.notnull(row['date']) and pd.notnull(row['year'])) else None, axis=1)\n",
    "print(df)\n",
    "print(\"\\nПризнак 'diff_years':\")\n",
    "print(df['diff_years'])"
   ]
  },
  {
   "cell_type": "markdown",
   "id": "d3a54316",
   "metadata": {
    "id": "d3a54316"
   },
   "source": [
    "7. Примените стандартизацию к новым признаками и сохраните результат в новые признаки вида `month_std`."
   ]
  },
  {
   "cell_type": "code",
   "execution_count": 255,
   "id": "8b2c2e19",
   "metadata": {
    "ExecuteTime": {
     "end_time": "2022-03-15T22:40:57.928930Z",
     "start_time": "2022-03-15T22:40:57.925925Z"
    },
    "id": "8b2c2e19"
   },
   "outputs": [
    {
     "name": "stdout",
     "output_type": "stream",
     "text": [
      "\n",
      "Стандартизированные признаки:\n",
      "\n",
      "Признак month_std:\n",
      "0      -0.599647\n",
      "1       1.667649\n",
      "2      -0.599647\n",
      "3      -0.599647\n",
      "4      -0.599647\n",
      "          ...   \n",
      "9614   -0.599647\n",
      "9615    1.667649\n",
      "9616   -0.599647\n",
      "9617   -0.599647\n",
      "9618   -0.599647\n",
      "Name: month_std, Length: 9619, dtype: float64\n",
      "\n",
      "Признак dayofweek_std:\n",
      "0       1.127935\n",
      "1      -1.365196\n",
      "2      -0.367944\n",
      "3       1.127935\n",
      "4       0.130683\n",
      "          ...   \n",
      "9614    1.127935\n",
      "9615   -1.365196\n",
      "9616    0.130683\n",
      "9617   -0.367944\n",
      "9618    1.127935\n",
      "Name: dayofweek_std, Length: 9619, dtype: float64\n",
      "\n",
      "Признак diff_years_std:\n",
      "0      -1.322394\n",
      "1      -0.695973\n",
      "2      -0.852578\n",
      "3      -0.226157\n",
      "4      -0.069552\n",
      "          ...   \n",
      "9614    1.496501\n",
      "9615    0.556869\n",
      "9616    0.087054\n",
      "9617   -0.539367\n",
      "9618   -0.852578\n",
      "Name: diff_years_std, Length: 9619, dtype: float64\n"
     ]
    }
   ],
   "source": [
    "features_to_standardize = ['month', 'dayofweek', 'diff_years']\n",
    "\n",
    "scaler = StandardScaler()\n",
    "\n",
    "df[features_to_standardize] = df[features_to_standardize].fillna(value=pd.NA)\n",
    "df[[f'{feature}_std' for feature in features_to_standardize]] = \\\n",
    "    pd.DataFrame(scaler.fit_transform(df[features_to_standardize].dropna()),\n",
    "                 index=df[features_to_standardize].dropna().index,\n",
    "                 columns=[f'{feature}_std' for feature in features_to_standardize])\n",
    "print(\"\\nСтандартизированные признаки:\")\n",
    "for feature in features_to_standardize:\n",
    "     print(f\"\\nПризнак {feature}_std:\")\n",
    "     print(df[f'{feature}_std'])"
   ]
  },
  {
   "cell_type": "markdown",
   "id": "aba80393",
   "metadata": {
    "ExecuteTime": {
     "end_time": "2022-03-13T12:36:22.108423Z",
     "start_time": "2022-03-13T12:36:22.103687Z"
    },
    "id": "aba80393"
   },
   "source": [
    "### Задача 6. Сохранение датафрейма для этапа моделирования\n",
    "\n",
    "1. Удалите колонки, которые были исходными для формирования признаков, а также новые признаки, которые были добавлены с целью обучения.  Сохраните новый датафрейм в переменную `df_prepared`."
   ]
  },
  {
   "cell_type": "code",
   "execution_count": 260,
   "id": "58ab4836",
   "metadata": {
    "ExecuteTime": {
     "end_time": "2022-03-15T22:41:00.072365Z",
     "start_time": "2022-03-15T22:41:00.064841Z"
    },
    "id": "58ab4836"
   },
   "outputs": [
    {
     "name": "stdout",
     "output_type": "stream",
     "text": [
      "DataFrame после удаления лишних колонок:\n",
      "              id  price price_category  is_audi  is_ford  is_chevrolet  \\\n",
      "0     7308295377  54990           high        0        0             0   \n",
      "1     7316380095  16942         medium        0        1             0   \n",
      "2     7313733749  35590           high        0        0             0   \n",
      "3     7308210929  14500         medium        0        0             0   \n",
      "4     7303797340  14590         medium        0        0             0   \n",
      "...          ...    ...            ...      ...      ...           ...   \n",
      "9614  7304876387   4495            low        0        0             0   \n",
      "9615  7316152972  14495         medium        0        0             0   \n",
      "9616  7310993818   8995            low        1        0             0   \n",
      "9617  7306637427  31900           high        0        0             0   \n",
      "9618  7311960763  31990           high        0        0             0   \n",
      "\n",
      "      is_toyota  is_jeep  is_honda  is_nissan  ...  age_category_new  \\\n",
      "0             0        0         0          0  ...               1.0   \n",
      "1             0        0         0          0  ...               1.0   \n",
      "2             0        0         0          0  ...               1.0   \n",
      "3             1        0         0          0  ...               0.0   \n",
      "4             0        0         0          0  ...               0.0   \n",
      "...         ...      ...       ...        ...  ...               ...   \n",
      "9614          1        0         0          0  ...               0.0   \n",
      "9615          0        1         0          0  ...               0.0   \n",
      "9616          0        0         0          0  ...               0.0   \n",
      "9617          0        0         0          0  ...               1.0   \n",
      "9618          0        0         0          0  ...               1.0   \n",
      "\n",
      "      age_category_old   lat_std  long_std  month_lambda  month_lambda_dt  \\\n",
      "0                  0.0 -0.619172  0.484245             4                4   \n",
      "1                  0.0  0.388014  1.110800             5                5   \n",
      "2                  0.0 -0.843059  0.531185             4                4   \n",
      "3                  0.0 -0.504509  0.853562             4                4   \n",
      "4                  0.0 -0.460101  0.557607             4                4   \n",
      "...                ...       ...       ...           ...              ...   \n",
      "9614               1.0  0.615626  0.823646             4                4   \n",
      "9615               0.0  0.806702  0.903947             5                5   \n",
      "9616               0.0  1.105428 -1.628875             4                4   \n",
      "9617               0.0  0.773939  0.251959             4                4   \n",
      "9618               0.0 -0.337738  0.985465             4                4   \n",
      "\n",
      "      month_dt  month_std  dayofweek_std  diff_years_std  \n",
      "0            4  -0.599647       1.127935       -1.322394  \n",
      "1            5   1.667649      -1.365196       -0.695973  \n",
      "2            4  -0.599647      -0.367944       -0.852578  \n",
      "3            4  -0.599647       1.127935       -0.226157  \n",
      "4            4  -0.599647       0.130683       -0.069552  \n",
      "...        ...        ...            ...             ...  \n",
      "9614         4  -0.599647       1.127935        1.496501  \n",
      "9615         5   1.667649      -1.365196        0.556869  \n",
      "9616         4  -0.599647       0.130683        0.087054  \n",
      "9617         4  -0.599647      -0.367944       -0.539367  \n",
      "9618         4  -0.599647       1.127935       -0.852578  \n",
      "\n",
      "[9619 rows x 1463 columns]\n"
     ]
    }
   ],
   "source": [
    "columns_for_drop = ['year', 'url', 'region', 'region_url', 'manufacturer',\n",
    "                    'model', 'fuel', 'odometer', 'title_status', 'transmission',\n",
    "                    'image_url', 'description', 'state', 'lat', 'long', 'posting_date',\n",
    "                    'odometer_km', 'odometer/price', 'region_new', 'region_corrected', 'manufacturer_model',\n",
    "                    'desc_len', 'model_in_desc', 'price_k$', 'age_category', 'model_len', 'model_word_count',\n",
    "                    'short_model', 'lat_mm', 'long_mm', 'date', 'std_scaled_price',\n",
    "                    'month', 'dayofweek', 'diff_years',\n",
    "                    'odometer/price_std']\n",
    "df_prepared = df.drop(columns=columns_for_drop, errors='ignore')\n",
    "print(\"DataFrame после удаления лишних колонок:\")\n",
    "print(df_prepared)"
   ]
  },
  {
   "cell_type": "markdown",
   "id": "f120eaaa",
   "metadata": {
    "id": "f120eaaa"
   },
   "source": [
    "2. Распечатайте оставшийся список колонок и размерность финального датафрейма."
   ]
  },
  {
   "cell_type": "code",
   "execution_count": 264,
   "id": "13fb36c3",
   "metadata": {
    "ExecuteTime": {
     "end_time": "2022-03-15T22:41:03.176389Z",
     "start_time": "2022-03-15T22:41:03.172474Z"
    },
    "id": "13fb36c3"
   },
   "outputs": [
    {
     "name": "stdout",
     "output_type": "stream",
     "text": [
      "Оставшиеся колонки:\n",
      "['id', 'price', 'price_category', 'is_audi', 'is_ford', 'is_chevrolet', 'is_toyota', 'is_jeep', 'is_honda', 'is_nissan', 'x0_diesel', 'x0_electric', 'x0_gas', 'x0_hybrid', 'x0_other', 'std_scaled_odometer', 'short_model_-benz', 'short_model_1', 'short_model_124', 'short_model_128i', 'short_model_135i', 'short_model_1500', 'short_model_163869', 'short_model_1928', 'short_model_1951', 'short_model_1954', 'short_model_1960s', 'short_model_1966', 'short_model_1968', 'short_model_1972', 'short_model_1977', 'short_model_1978', 'short_model_198.5', 'short_model_1988', 'short_model_1994', 'short_model_1999', 'short_model_2', 'short_model_200', 'short_model_2000', 'short_model_2002', 'short_model_2006', 'short_model_2007', 'short_model_2008', 'short_model_2009', 'short_model_2012', 'short_model_2015', 'short_model_2016', 'short_model_2017', 'short_model_2018', 'short_model_210', 'short_model_240', 'short_model_2500', 'short_model_2500hd', 'short_model_280zx', 'short_model_3', 'short_model_3-series', 'short_model_3-window', 'short_model_3.2', 'short_model_300', 'short_model_300-series', 'short_model_300c', 'short_model_300s', 'short_model_300zx', 'short_model_3100', 'short_model_318i', 'short_model_320i', 'short_model_323i', 'short_model_325ci', 'short_model_325i', 'short_model_325is', 'short_model_325xi', 'short_model_328', 'short_model_328ci', 'short_model_328d', 'short_model_328i', 'short_model_328xi', 'short_model_330i', 'short_model_330xi', 'short_model_335i', 'short_model_335xi', 'short_model_350', 'short_model_3500', 'short_model_3500hd', 'short_model_350z', 'short_model_370z', 'short_model_380sl', 'short_model_3i', 'short_model_4', 'short_model_4-runner', 'short_model_428', 'short_model_430i', 'short_model_435i', 'short_model_440xi', 'short_model_4500', 'short_model_4runner', 'short_model_4x4', 'short_model_5', 'short_model_5-series', 'short_model_50', 'short_model_500', 'short_model_500c', 'short_model_500l', 'short_model_500x', 'short_model_525i', 'short_model_528i', 'short_model_528xi', 'short_model_530', 'short_model_530i', 'short_model_535i', 'short_model_535xi', 'short_model_540i', 'short_model_545i', 'short_model_5500', 'short_model_5500hd', 'short_model_550i', 'short_model_5th', 'short_model_6', 'short_model_640', 'short_model_645ci', 'short_model_650i', 'short_model_650xi', 'short_model_7', 'short_model_750', 'short_model_750i', 'short_model_750xi', 'short_model_86', 'short_model_911', 'short_model_914', 'short_model_928', 'short_model_944', 'short_model_ACURA*', 'short_model_ALL', 'short_model_AM', 'short_model_AMC', 'short_model_ASC', 'short_model_Acuarea', 'short_model_American', 'short_model_BUY', 'short_model_Bentley', 'short_model_Blue', 'short_model_Buicks', 'short_model_C', 'short_model_CHEVORLET', 'short_model_CLICK', 'short_model_Champion', 'short_model_Chevey', 'short_model_Chevorlet', 'short_model_Comanche', 'short_model_Comet', 'short_model_D7FH173552', 'short_model_DODGE1500', 'short_model_Diahatsu', 'short_model_E46', 'short_model_EASY', 'short_model_Eagle', 'short_model_Emergency', 'short_model_F-250', 'short_model_F250', 'short_model_FORD*', 'short_model_FORD/RANGER', 'short_model_FREIGHTLINER', 'short_model_FRRV', 'short_model_Flexible', 'short_model_FordE350', 'short_model_Freightliner', 'short_model_Frtlner', 'short_model_GCM', 'short_model_GEHL', 'short_model_GMC,', 'short_model_GMX', 'short_model_GRAND', 'short_model_GULF', 'short_model_Genesis', 'short_model_Gx', 'short_model_HINO', 'short_model_HUMMER', 'short_model_Hino', 'short_model_Hobda', 'short_model_Hot', 'short_model_Hummer', 'short_model_IC', 'short_model_INTERNATIONAL', 'short_model_International', 'short_model_Isizu', 'short_model_Isuzu', 'short_model_JM1BK32F871604924', 'short_model_Janesville', 'short_model_Jauguar', 'short_model_Jayco', 'short_model_Kaiser', 'short_model_Lotus', 'short_model_MASERATI', 'short_model_MERCUTY', 'short_model_MERDECES', 'short_model_MGB', 'short_model_MITUSBISHI', 'short_model_MV-1', 'short_model_Maserati', 'short_model_Minin', 'short_model_Nascar', 'short_model_OLDSMOBILE', 'short_model_PLYMOUTH', 'short_model_PROGRAMS', 'short_model_Peterbilt', 'short_model_Pierce', 'short_model_Plymouth', 'short_model_QX', 'short_model_S60', 'short_model_SCION', 'short_model_SL', 'short_model_Saab', 'short_model_Scion', 'short_model_Sea', 'short_model_Sterling', 'short_model_Studebaker', 'short_model_Suzuki', 'short_model_THOMAS', 'short_model_Thomas', 'short_model_Town', 'short_model_Triumph', 'short_model_Voltswagon', 'short_model_Xx', 'short_model_a-class', 'short_model_a3', 'short_model_a3,', 'short_model_a4', 'short_model_a5', 'short_model_a6', 'short_model_a7', 'short_model_a8', 'short_model_acadia', 'short_model_accent', 'short_model_accord', 'short_model_all', 'short_model_allante', 'short_model_allroad', 'short_model_altima', 'short_model_am', 'short_model_amc', 'short_model_arcadia', 'short_model_armada', 'short_model_arteon', 'short_model_ascent', 'short_model_aspen', 'short_model_astra', 'short_model_astro', 'short_model_atlas', 'short_model_ats', 'short_model_aura', 'short_model_autobiography', 'short_model_avalanche', 'short_model_avalon', 'short_model_avanger', 'short_model_avenger', 'short_model_aveo', 'short_model_aviator', 'short_model_azera', 'short_model_aztek', 'short_model_b-class', 'short_model_b-series', 'short_model_b2200', 'short_model_b2300', 'short_model_b2600i', 'short_model_baja', 'short_model_beetle', 'short_model_bel', 'short_model_belair', 'short_model_benz', 'short_model_blackwood', 'short_model_blazer', 'short_model_blue', 'short_model_bolt', 'short_model_bonanza', 'short_model_bonneville', 'short_model_boxster', 'short_model_bronco', 'short_model_brz', 'short_model_bug', 'short_model_bus', 'short_model_c', 'short_model_c-10', 'short_model_c-7500', 'short_model_c-class', 'short_model_c-hr', 'short_model_c-max', 'short_model_c/k', 'short_model_c10', 'short_model_c250', 'short_model_c280', 'short_model_c30', 'short_model_c300', 'short_model_c4500', 'short_model_c5500', 'short_model_c60', 'short_model_c6500', 'short_model_c70', 'short_model_c8500', 'short_model_cabellero', 'short_model_cabrio', 'short_model_caddilac', 'short_model_cadenza', 'short_model_caliber', 'short_model_camaro', 'short_model_camary', 'short_model_camero', 'short_model_camry', 'short_model_canyon', 'short_model_capri', 'short_model_caprice', 'short_model_captiva', 'short_model_caravan', 'short_model_caravan/grand', 'short_model_cargo', 'short_model_cascada', 'short_model_cavalier', 'short_model_cayenne', 'short_model_cayman', 'short_model_cc', 'short_model_cc300', 'short_model_cc4500', 'short_model_century', 'short_model_certified', 'short_model_challenger', 'short_model_charger', 'short_model_cherokee', 'short_model_chevelle', 'short_model_chevorlet', 'short_model_chryler', 'short_model_chysler', 'short_model_city', 'short_model_civic', 'short_model_cj-5', 'short_model_cj2a', 'short_model_cj5', 'short_model_cj7', 'short_model_cj8', 'short_model_cl-class', 'short_model_cla', 'short_model_cla-class', 'short_model_clarity', 'short_model_classic', 'short_model_classuc', 'short_model_clk', 'short_model_clk-class', 'short_model_clk350', 'short_model_cls-class', 'short_model_cls550', 'short_model_clubman', 'short_model_cmax', 'short_model_cobalt', 'short_model_colbalt', 'short_model_colorado', 'short_model_comet', 'short_model_commander', 'short_model_compass', 'short_model_concorde', 'short_model_conquest', 'short_model_continental', 'short_model_convertible', 'short_model_cooper', 'short_model_corolla', 'short_model_corsair', 'short_model_corvette', 'short_model_cougar', 'short_model_country', 'short_model_countryman', 'short_model_coupe', 'short_model_cr-v', 'short_model_crew', 'short_model_crossfire', 'short_model_crosstour', 'short_model_crosstrek', 'short_model_crown', 'short_model_cruze', 'short_model_crv', 'short_model_crz', 'short_model_ct', 'short_model_ct4', 'short_model_ct5', 'short_model_ct6', 'short_model_cts', 'short_model_cts-v', 'short_model_cts4', 'short_model_cube', 'short_model_cvr', 'short_model_cx-3', 'short_model_cx-5', 'short_model_cx-7', 'short_model_cx-9', 'short_model_cx7', 'short_model_cx9', 'short_model_d50', 'short_model_dakota', 'short_model_dart', 'short_model_davidson', 'short_model_dealer*', 'short_model_defender', 'short_model_deisel', 'short_model_deluxe', 'short_model_denali', 'short_model_deville', 'short_model_diesel', 'short_model_discovery', 'short_model_dts', 'short_model_dump', 'short_model_duramax', 'short_model_durango', 'short_model_durangon', 'short_model_e', 'short_model_e-150', 'short_model_e-250', 'short_model_e-350', 'short_model_e-450', 'short_model_e-class', 'short_model_e-golf', 'short_model_e-pace', 'short_model_e-series', 'short_model_e150', 'short_model_e250', 'short_model_e320', 'short_model_e350', 'short_model_e450', 'short_model_e46', 'short_model_e500', 'short_model_echo', 'short_model_eclipse', 'short_model_econoline', 'short_model_ecosport', 'short_model_edge', 'short_model_el', 'short_model_elantra', 'short_model_elcamino', 'short_model_eldorado', 'short_model_element', 'short_model_enclave', 'short_model_encore', 'short_model_endeavor', 'short_model_envision', 'short_model_envoy', 'short_model_eos', 'short_model_eqinox', 'short_model_equinox', 'short_model_es', 'short_model_es300', 'short_model_es330', 'short_model_es350', 'short_model_escalade', 'short_model_escape', 'short_model_escape-se,', 'short_model_escort', 'short_model_eurovan', 'short_model_evoque', 'short_model_excursion', 'short_model_expedition', 'short_model_explorer', 'short_model_express', 'short_model_f', 'short_model_f-100', 'short_model_f-150', 'short_model_f-250', 'short_model_f-250sd', 'short_model_f-350', 'short_model_f-350sd', 'short_model_f-450', 'short_model_f-450sd', 'short_model_f-550', 'short_model_f-650', 'short_model_f-750', 'short_model_f-pace', 'short_model_f-type', 'short_model_f1', 'short_model_f100', 'short_model_f150', 'short_model_f250', 'short_model_f350', 'short_model_f450', 'short_model_f450sd', 'short_model_f50', 'short_model_f550', 'short_model_f600', 'short_model_f650', 'short_model_f700', 'short_model_f750', 'short_model_falcon', 'short_model_fe', 'short_model_fiero', 'short_model_fiesta', 'short_model_firebird', 'short_model_fit', 'short_model_five', 'short_model_fj', 'short_model_fj40', 'short_model_fleetmaster', 'short_model_fleetwood', 'short_model_flex', 'short_model_focus', 'short_model_fords', 'short_model_forester', 'short_model_forte', 'short_model_forte5', 'short_model_foxbody', 'short_model_freestar', 'short_model_freestyle', 'short_model_freightliner', 'short_model_frontier', 'short_model_fusion', 'short_model_fuso', 'short_model_fx35', 'short_model_fx45', 'short_model_g', 'short_model_g-class', 'short_model_g.', 'short_model_g20', 'short_model_g30', 'short_model_g35', 'short_model_g35x', 'short_model_g37', 'short_model_g37s', 'short_model_g37x', 'short_model_g4500', 'short_model_g5', 'short_model_g6', 'short_model_g8', 'short_model_galant', 'short_model_genesis', 'short_model_ghia', 'short_model_gl', 'short_model_gl-class', 'short_model_gl450', 'short_model_gla', 'short_model_gla-class', 'short_model_gladiator', 'short_model_glc', 'short_model_glc-class', 'short_model_gle', 'short_model_gle-class', 'short_model_glk', 'short_model_glk-class', 'short_model_glk350', 'short_model_gls', 'short_model_gmc/chev', 'short_model_gmce', 'short_model_gmt-400', 'short_model_golf', 'short_model_gr', 'short_model_grand', 'short_model_grandville', 'short_model_grumman', 'short_model_gs', 'short_model_gs350', 'short_model_gs430', 'short_model_gt', 'short_model_gt-r', 'short_model_gti', 'short_model_gto', 'short_model_gx', 'short_model_gx460', 'short_model_gx470', 'short_model_hardbody', 'short_model_hardtop', 'short_model_hearse', 'short_model_hhr', 'short_model_hiace', 'short_model_high', 'short_model_highlander', 'short_model_hr-v', 'short_model_hse', 'short_model_hummer', 'short_model_hyndai', 'short_model_i-miev', 'short_model_i3', 'short_model_i30', 'short_model_i35', 'short_model_ilx', 'short_model_impala', 'short_model_impreza', 'short_model_insight', 'short_model_international', 'short_model_ion', 'short_model_ioniq', 'short_model_is', 'short_model_is250', 'short_model_is300', 'short_model_isf', 'short_model_isuzu', 'short_model_jeepster', 'short_model_jetta', 'short_model_jimmy', 'short_model_jouney', 'short_model_journey', 'short_model_juke', 'short_model_jx35', 'short_model_k10', 'short_model_k20', 'short_model_k30', 'short_model_k5', 'short_model_k900', 'short_model_kicks', 'short_model_kodiak', 'short_model_l', 'short_model_l300', 'short_model_lacrosse', 'short_model_lancer', 'short_model_land', 'short_model_landcruiser', 'short_model_leaf', 'short_model_legacy', 'short_model_legend', 'short_model_lemans', 'short_model_lesabre', 'short_model_liberty', 'short_model_lifted', 'short_model_lightning', 'short_model_limousine', 'short_model_long', 'short_model_lr2', 'short_model_lr3', 'short_model_lr4', 'short_model_ls', 'short_model_ltd', 'short_model_lucerne', 'short_model_lx', 'short_model_lx450', 'short_model_m', 'short_model_m-class', 'short_model_m3', 'short_model_m35', 'short_model_m35s', 'short_model_m5', 'short_model_macan', 'short_model_magnum', 'short_model_malibu', 'short_model_mallinia', 'short_model_marineer,premier', 'short_model_mariner', 'short_model_mark', 'short_model_maserati', 'short_model_matrix', 'short_model_maxima', 'short_model_maximum', 'short_model_mazda2', 'short_model_mazda3', 'short_model_mazda5', 'short_model_mazda6', 'short_model_mazda6i', 'short_model_md-x', 'short_model_mdx', 'short_model_mercades', 'short_model_mercedes-amg', 'short_model_metris', 'short_model_mg', 'short_model_miata', 'short_model_milan', 'short_model_mirage', 'short_model_mkc', 'short_model_mks', 'short_model_mkt', 'short_model_mkx', 'short_model_mkz', 'short_model_ml', 'short_model_ml350', 'short_model_ml500', 'short_model_model', 'short_model_monte', 'short_model_montero', 'short_model_mountaineer', 'short_model_mpv', 'short_model_mr2', 'short_model_murano', 'short_model_mustang', 'short_model_mx-5', 'short_model_nautilus', 'short_model_navigator', 'short_model_neon', 'short_model_new', 'short_model_newport', 'short_model_niro', 'short_model_nitro', 'short_model_nova', 'short_model_nv', 'short_model_nv1500', 'short_model_nv200', 'short_model_nv2500', 'short_model_nv2500hd', 'short_model_nx', 'short_model_nx300', 'short_model_oddyssey', 'short_model_odyssey', 'short_model_oldsmobile', 'short_model_optima', 'short_model_optimia', 'short_model_other', 'short_model_outback', 'short_model_outlander', 'short_model_outlook', 'short_model_paceman', 'short_model_pacifica', 'short_model_panamera', 'short_model_panel', 'short_model_park', 'short_model_passat', 'short_model_passport', 'short_model_pathfinder', 'short_model_patriot', 'short_model_phaeton', 'short_model_pick', 'short_model_pickup', 'short_model_pilot', 'short_model_plymouth', 'short_model_pontaic', 'short_model_prelude', 'short_model_prius', 'short_model_prizm', 'short_model_promaster', 'short_model_protege', 'short_model_pt', 'short_model_putback', 'short_model_q3', 'short_model_q5', 'short_model_q50', 'short_model_q60', 'short_model_q7', 'short_model_q70', 'short_model_quattro', 'short_model_quest', 'short_model_qx50', 'short_model_qx56', 'short_model_qx60', 'short_model_qx70', 'short_model_qx80', 'short_model_r-class', 'short_model_r32', 'short_model_rabbit', 'short_model_rainier', 'short_model_ram1500', 'short_model_ram2500', 'short_model_ramcharger', 'short_model_range', 'short_model_ranger', 'short_model_rat', 'short_model_rav', 'short_model_rav4', 'short_model_rc', 'short_model_rdx', 'short_model_reatta', 'short_model_rebel', 'short_model_regal', 'short_model_rendezvous', 'short_model_renegade', 'short_model_replica', 'short_model_ridgeline', 'short_model_rio', 'short_model_rivera', 'short_model_riviera', 'short_model_rl', 'short_model_rlx', 'short_model_roadmaster', 'short_model_roadster', 'short_model_rogue', 'short_model_romeo', 'short_model_rondo', 'short_model_rouge', 'short_model_routan', 'short_model_rs', 'short_model_rsx', 'short_model_rx', 'short_model_rx-8', 'short_model_rx300', 'short_model_rx330', 'short_model_rx350', 'short_model_rx400h', 'short_model_rx7', 'short_model_rx8', 'short_model_s', 'short_model_s-10', 'short_model_s-class', 'short_model_s/w', 'short_model_s10', 'short_model_s2000', 'short_model_s3', 'short_model_s320', 'short_model_s4', 'short_model_s40', 'short_model_s430', 'short_model_s5', 'short_model_s500', 'short_model_s6', 'short_model_s60', 'short_model_s7', 'short_model_s70', 'short_model_s8', 'short_model_s90', 'short_model_saab', 'short_model_sable', 'short_model_santa', 'short_model_sante', 'short_model_savana', 'short_model_sc', 'short_model_sc2', 'short_model_sc300', 'short_model_school', 'short_model_scion', 'short_model_sebring', 'short_model_sedan', 'short_model_sedona', 'short_model_seirra', 'short_model_sentra', 'short_model_sequioa', 'short_model_sequoia', 'short_model_seville', 'short_model_shelby', 'short_model_sienna', 'short_model_sierra', 'short_model_sierra1500', 'short_model_silverado', 'short_model_sky', 'short_model_skylark', 'short_model_sl-class', 'short_model_sl2', 'short_model_sl500', 'short_model_sl55', 'short_model_sl550', 'short_model_slc', 'short_model_sle', 'short_model_slk', 'short_model_slk-class', 'short_model_slt', 'short_model_smart', 'short_model_solara', 'short_model_solstice', 'short_model_sonata', 'short_model_sonic', 'short_model_sonoma', 'short_model_sorento', 'short_model_sorrento', 'short_model_soul', 'short_model_soul+', 'short_model_spark', 'short_model_spectra', 'short_model_sport', 'short_model_sportage', 'short_model_sprinter', 'short_model_srx', 'short_model_srx-v6', 'short_model_srx4', 'short_model_srx~awesome', 'short_model_ss', 'short_model_ssr', 'short_model_starcraft', 'short_model_step-van', 'short_model_stinger', 'short_model_stratus', 'short_model_sts', 'short_model_studebaker', 'short_model_suburban', 'short_model_super', 'short_model_supra', 'short_model_suv', 'short_model_suzuki', 'short_model_svx', 'short_model_t', 'short_model_t-350', 'short_model_t-bucket', 'short_model_tacoma', 'short_model_tahoe', 'short_model_tarsus', 'short_model_taurus', 'short_model_tc5500', 'short_model_telluride', 'short_model_tercel', 'short_model_terrain', 'short_model_thing', 'short_model_thomas', 'short_model_thrift', 'short_model_thunderbird', 'short_model_tiguan', 'short_model_titan', 'short_model_tl', 'short_model_tlx', 'short_model_torrent', 'short_model_touareg', 'short_model_town', 'short_model_tracker', 'short_model_tractor', 'short_model_trailblazer', 'short_model_trans', 'short_model_transit', 'short_model_traverse', 'short_model_trax', 'short_model_tribeca', 'short_model_tribute', 'short_model_triumph', 'short_model_truck', 'short_model_tsx', 'short_model_tt', 'short_model_tucson', 'short_model_tudor', 'short_model_tundra', 'short_model_uplander', 'short_model_utility', 'short_model_ux', 'short_model_v50', 'short_model_v6', 'short_model_v60', 'short_model_v90', 'short_model_van', 'short_model_vanagon', 'short_model_vandura', 'short_model_velar', 'short_model_veloster', 'short_model_venture', 'short_model_venza', 'short_model_veracruz', 'short_model_verano', 'short_model_versa', 'short_model_vibe', 'short_model_villager', 'short_model_vnl', 'short_model_volt', 'short_model_voyager', 'short_model_vtx1300c', 'short_model_vue', 'short_model_w350', 'short_model_willys', 'short_model_windstar', 'short_model_wrangler', 'short_model_wrx', 'short_model_x-3', 'short_model_x-type', 'short_model_x1', 'short_model_x2', 'short_model_x3', 'short_model_x4', 'short_model_x5', 'short_model_x6', 'short_model_xc', 'short_model_xc40', 'short_model_xc60', 'short_model_xc70', 'short_model_xc90', 'short_model_xe', 'short_model_xf', 'short_model_xj', 'short_model_xj-series', 'short_model_xj8', 'short_model_xk8', 'short_model_xt4', 'short_model_xt5', 'short_model_xt6', 'short_model_xterra', 'short_model_xts', 'short_model_xv', 'short_model_yaris', 'short_model_yukon', 'short_model_z', 'short_model_z3', 'short_model_z4', 'short_model_zephyr', 'short_model_zx2', 'transmission_automatic', 'transmission_manual', 'transmission_other', 'region_SF bay area', 'region_abilene', 'region_akron / canton', 'region_albany', 'region_albuquerque', 'region_altoona-johnstown', 'region_amarillo', 'region_ames', 'region_anchorage / mat-su', 'region_ann arbor', 'region_annapolis', 'region_appleton-oshkosh-FDL', 'region_asheville', 'region_ashtabula', 'region_athens', 'region_atlanta', 'region_auburn', 'region_augusta', 'region_austin', 'region_bakersfield', 'region_baltimore', 'region_baton rouge', 'region_battle creek', 'region_beaumont / port arthur', 'region_bellingham', 'region_bemidji', 'region_bend', 'region_billings', 'region_binghamton', 'region_birmingham', 'region_bismarck', 'region_bloomington', 'region_bloomington-normal', 'region_boise', 'region_boone', 'region_boston', 'region_boulder', 'region_bowling green', 'region_bozeman', 'region_brainerd', 'region_brownsville', 'region_brunswick', 'region_buffalo', 'region_butte', 'region_cape cod / islands', 'region_catskills', 'region_cedar rapids', 'region_central NJ', 'region_central louisiana', 'region_central michigan', 'region_champaign urbana', 'region_charleston', 'region_charlotte', 'region_charlottesville', 'region_chattanooga', 'region_chautauqua', 'region_chicago', 'region_chico', 'region_chillicothe', 'region_cincinnati', 'region_clarksville', 'region_cleveland', 'region_clovis / portales', 'region_college station', 'region_colorado springs', 'region_columbia', 'region_columbia / jeff city', 'region_columbus', 'region_corpus christi', 'region_corvallis/albany', 'region_cumberland valley', 'region_dallas / fort worth', 'region_danville', 'region_dayton / springfield', 'region_daytona beach', 'region_decatur', 'region_del rio / eagle pass', 'region_delaware', 'region_denver', 'region_des moines', 'region_detroit metro', 'region_dothan', 'region_dubuque', 'region_duluth / superior', 'region_east idaho', 'region_east oregon', 'region_eastern CO', 'region_eastern CT', 'region_eastern NC', 'region_eastern kentucky', 'region_eastern montana', 'region_eastern panhandle', 'region_eastern shore', 'region_eau claire', 'region_el paso', 'region_elko', 'region_elmira-corning', 'region_erie', 'region_eugene', 'region_evansville', 'region_fairbanks', 'region_fargo / moorhead', 'region_farmington', 'region_fayetteville', 'region_finger lakes', 'region_flagstaff / sedona', 'region_flint', 'region_florence', 'region_florence / muscle shoals', 'region_florida keys', 'region_fort collins / north CO', 'region_fort dodge', 'region_fort smith', 'region_fort wayne', 'region_frederick', 'region_fredericksburg', 'region_fresno / madera', 'region_ft myers / SW florida', 'region_gadsden-anniston', 'region_gainesville', 'region_galveston', 'region_glens falls', 'region_gold country', 'region_grand forks', 'region_grand island', 'region_grand rapids', 'region_great falls', 'region_green bay', 'region_greensboro', 'region_greenville / upstate', 'region_gulfport / biloxi', 'region_hanford-corcoran', 'region_harrisburg', 'region_harrisonburg', 'region_hartford', 'region_hattiesburg', 'region_hawaii', 'region_heartland florida', 'region_helena', 'region_hickory / lenoir', 'region_high rockies', 'region_hilton head', 'region_holland', 'region_houma', 'region_houston', 'region_hudson valley', 'region_humboldt county', 'region_huntington-ashland', 'region_huntsville / decatur', 'region_imperial county', 'region_indianapolis', 'region_inland empire', 'region_iowa city', 'region_ithaca', 'region_jackson', 'region_jacksonville', 'region_janesville', 'region_jersey shore', 'region_jonesboro', 'region_joplin', 'region_kalamazoo', 'region_kalispell', 'region_kansas city, MO', 'region_kenai peninsula', 'region_kennewick-pasco-richland', 'region_kenosha-racine', 'region_killeen / temple / ft hood', 'region_kirksville', 'region_klamath falls', 'region_knoxville', 'region_kokomo', 'region_la crosse', 'region_la salle co', 'region_lafayette', 'region_lafayette / west lafayette', 'region_lake charles', 'region_lake of the ozarks', 'region_lakeland', 'region_lancaster', 'region_lansing', 'region_laredo', 'region_las cruces', 'region_las vegas', 'region_lawrence', 'region_lawton', 'region_lehigh valley', 'region_lewiston / clarkston', 'region_lexington', 'region_lima / findlay', 'region_lincoln', 'region_little rock', 'region_logan', 'region_long island', 'region_los angeles', 'region_louisville', 'region_lubbock', 'region_lynchburg', 'region_macon / warner robins', 'region_madison', 'region_maine', 'region_manhattan', 'region_mankato', 'region_mansfield', 'region_mason city', 'region_mattoon-charleston', 'region_mcallen / edinburg', 'region_meadville', 'region_medford-ashland', 'region_memphis', 'region_mendocino county', 'region_merced', 'region_milwaukee', 'region_minneapolis / st paul', 'region_missoula', 'region_mobile', 'region_modesto', 'region_mohave county', 'region_monroe', 'region_monterey bay', 'region_montgomery', 'region_morgantown', 'region_moses lake', 'region_muncie / anderson', 'region_muskegon', 'region_myrtle beach', 'region_nashville', 'region_new hampshire', 'region_new haven', 'region_new orleans', 'region_new river valley', 'region_new york city', 'region_norfolk / hampton roads', 'region_north central FL', 'region_north dakota', 'region_north jersey', 'region_north mississippi', 'region_north platte', 'region_northeast SD', 'region_northern WI', 'region_northern michigan', 'region_northern panhandle', 'region_northwest CT', 'region_northwest GA', 'region_northwest KS', 'region_northwest OK', 'region_ocala', 'region_odessa / midland', 'region_ogden-clearfield', 'region_okaloosa / walton', 'region_oklahoma city', 'region_olympic peninsula', 'region_omaha / council bluffs', 'region_oneonta', 'region_orange county', 'region_oregon coast', 'region_orlando', 'region_outer banks', 'region_owensboro', 'region_palm springs', 'region_panama city', 'region_parkersburg-marietta', 'region_pensacola', 'region_peoria', 'region_philadelphia', 'region_phoenix', 'region_pierre / central SD', 'region_pittsburgh', 'region_plattsburgh-adirondacks', 'region_poconos', 'region_port huron', 'region_portland', 'region_potsdam-canton-massena', 'region_prescott', 'region_pueblo', 'region_pullman / moscow', 'region_quad cities, IA/IL', 'region_raleigh / durham / CH', 'region_rapid city / west SD', 'region_reading', 'region_redding', 'region_reno / tahoe', 'region_rhode island', 'region_richmond', 'region_roanoke', 'region_rochester', 'region_rockford', 'region_roseburg', 'region_roswell / carlsbad', 'region_sacramento', 'region_saginaw-midland-baycity', 'region_salem', 'region_salina', 'region_salt lake city', 'region_san angelo', 'region_san antonio', 'region_san diego', 'region_san luis obispo', 'region_san marcos', 'region_sandusky', 'region_santa barbara', 'region_santa fe / taos', 'region_santa maria', 'region_sarasota-bradenton', 'region_savannah / hinesville', 'region_scottsbluff / panhandle', 'region_scranton / wilkes-barre', 'region_seattle-tacoma', 'region_sheboygan', 'region_show low', 'region_shreveport', 'region_sierra vista', 'region_sioux city', 'region_sioux falls / SE SD', 'region_siskiyou county', 'region_skagit / island / SJI', 'region_south bend / michiana', 'region_south coast', 'region_south dakota', 'region_south florida', 'region_south jersey', 'region_southeast IA', 'region_southeast alaska', 'region_southeast missouri', 'region_southern WV', 'region_southern illinois', 'region_southern maryland', 'region_southwest KS', 'region_southwest MN', 'region_southwest MS', 'region_southwest VA', 'region_southwest michigan', 'region_space coast', \"region_spokane / coeur d'alene\", 'region_springfield', 'region_st augustine', 'region_st cloud', 'region_st george', 'region_st joseph', 'region_st louis, MO', 'region_state college', 'region_statesboro', 'region_stillwater', 'region_stockton', 'region_susanville', 'region_syracuse', 'region_tallahassee', 'region_tampa bay area', 'region_terre haute', 'region_texarkana', 'region_texoma', 'region_the thumb', 'region_toledo', 'region_topeka', 'region_treasure coast', 'region_tri-cities', 'region_tucson', 'region_tulsa', 'region_tuscaloosa', 'region_tuscarawas co', 'region_twin falls', 'region_twin tiers NY/PA', 'region_tyler / east TX', 'region_upper peninsula', 'region_utica-rome-oneida', 'region_valdosta', 'region_ventura county', 'region_vermont', 'region_victoria', 'region_visalia-tulare', 'region_waco', 'region_washington, DC', 'region_waterloo / cedar falls', 'region_watertown', 'region_wausau', 'region_wenatchee', 'region_western KY', 'region_western maryland', 'region_western massachusetts', 'region_western slope', 'region_wichita', 'region_wichita falls', 'region_williamsport', 'region_wilmington', 'region_winchester', 'region_winston-salem', 'region_worcester / central MA', 'region_wyoming', 'region_yakima', 'region_york', 'region_youngstown', 'region_yuba-sutter', 'region_yuma', 'region_zanesville / cambridge', 'manufacturer_acura', 'manufacturer_alfa-romeo', 'manufacturer_audi', 'manufacturer_bmw', 'manufacturer_buick', 'manufacturer_cadillac', 'manufacturer_chevrolet', 'manufacturer_chrysler', 'manufacturer_datsun', 'manufacturer_dodge', 'manufacturer_ferrari', 'manufacturer_fiat', 'manufacturer_ford', 'manufacturer_gmc', 'manufacturer_harley-davidson', 'manufacturer_honda', 'manufacturer_hyundai', 'manufacturer_infiniti', 'manufacturer_jaguar', 'manufacturer_jeep', 'manufacturer_kia', 'manufacturer_lexus', 'manufacturer_lincoln', 'manufacturer_mazda', 'manufacturer_mercedes-benz', 'manufacturer_mercury', 'manufacturer_mini', 'manufacturer_mitsubishi', 'manufacturer_nissan', 'manufacturer_other', 'manufacturer_pontiac', 'manufacturer_porsche', 'manufacturer_ram', 'manufacturer_rover', 'manufacturer_saturn', 'manufacturer_subaru', 'manufacturer_tesla', 'manufacturer_toyota', 'manufacturer_volkswagen', 'manufacturer_volvo', 'state_ak', 'state_al', 'state_ar', 'state_az', 'state_ca', 'state_co', 'state_ct', 'state_dc', 'state_de', 'state_fl', 'state_ga', 'state_hi', 'state_ia', 'state_id', 'state_il', 'state_in', 'state_ks', 'state_ky', 'state_la', 'state_ma', 'state_md', 'state_me', 'state_mi', 'state_mn', 'state_mo', 'state_ms', 'state_mt', 'state_nc', 'state_nd', 'state_ne', 'state_nh', 'state_nj', 'state_nm', 'state_nv', 'state_ny', 'state_oh', 'state_ok', 'state_or', 'state_pa', 'state_ri', 'state_sc', 'state_sd', 'state_tn', 'state_tx', 'state_ut', 'state_va', 'state_vt', 'state_wa', 'state_wi', 'state_wv', 'state_wy', 'title_status_clean', 'title_status_lien', 'title_status_missing', 'title_status_parts only', 'title_status_rebuilt', 'title_status_salvage', 'age_category_average', 'age_category_new', 'age_category_old', 'lat_std', 'long_std', 'month_lambda', 'month_lambda_dt', 'month_dt', 'month_std', 'dayofweek_std', 'diff_years_std']\n",
      "\n",
      "Размерность DataFrame: (9619, 1463)\n"
     ]
    }
   ],
   "source": [
    "print(\"Оставшиеся колонки:\")\n",
    "print(df_prepared.columns.tolist())\n",
    "print(\"\\nРазмерность DataFrame:\", df_prepared.shape)"
   ]
  },
  {
   "cell_type": "markdown",
   "id": "b62690ff",
   "metadata": {
    "id": "b62690ff"
   },
   "source": [
    "3. Запишите преобразованный датафрейм в файл `data/vehicles_dataset_prepared.csv`, индекс не сохраняйте."
   ]
  },
  {
   "cell_type": "code",
   "execution_count": null,
   "id": "955e76dd",
   "metadata": {
    "ExecuteTime": {
     "end_time": "2022-03-15T22:41:08.021538Z",
     "start_time": "2022-03-15T22:41:08.016555Z"
    },
    "id": "955e76dd"
   },
   "outputs": [],
   "source": [
    "df_prepared.to_csv('data/vehicles_dataset_prepared.csv', index=False)"
   ]
  },
  {
   "cell_type": "markdown",
   "id": "6e4960b4",
   "metadata": {
    "id": "6e4960b4"
   },
   "source": [
    "## Описание преобразованного датасета:\n",
    "- `id`— идентификатор записи;\n",
    "- `is_manufacturer_name`— признак производителя автомобиля;\n",
    "\n",
    "- `region_*`— регион;\n",
    "- `x0_*`— тип топлива;\n",
    "- `manufacturer_*`— производитель;\n",
    "- `short_model_*`— сокращённая модель автомобиля;\n",
    "- `title_status_*`— статус;\n",
    "- `transmission_*`— коробка передач;\n",
    "- `state_*`— штат;\n",
    "- `age_category_*`— возрастная категория автомобиля;\n",
    "\n",
    "- `std_scaled_odometer`— количество пройденных миль (после стандартизации);\n",
    "- `year_std`— год выпуска (после стандартизации);\n",
    "- `lat_std`— широта (после стандартизации);\n",
    "- `long_std`— долгота (после стандартизации);\n",
    "- `odometer/price_std`— отношение стоимости к пробегу автомобиля (после стандартизации);\n",
    "- `desc_len_std`— количество символов в тексте объявления о продаже (после стандартизации);\n",
    "- `model_in_desc_std`— количество наименований модели автомобиля в тексте объявления о продаже (после стандартизации);\n",
    "- `model_len_std`— длина наименования автомобиля (после стандартизации);\n",
    "- `model_word_count_std`— количество слов в наименовании автомобиля (после стандартизации);\n",
    "- `month_std`— номер месяца размещения объявления о продаже автомобиля (после стандартизации);\n",
    "- `dayofweek_std`— день недели размещения объявления о продаже автомобиля (после стандартизации);\n",
    "- `diff_years_std`— количество лет между годом производства автомобиля и годом размещения объявления о продаже автомобиля (после стандартизации);\n",
    "\n",
    "- `price`— стоимость;\n",
    "- `price_category`– категория цены."
   ]
  }
 ],
 "metadata": {
  "colab": {
   "collapsed_sections": [],
   "provenance": []
  },
  "kernelspec": {
   "display_name": "Python 3 (ipykernel)",
   "language": "python",
   "name": "python3"
  },
  "language_info": {
   "codemirror_mode": {
    "name": "ipython",
    "version": 3
   },
   "file_extension": ".py",
   "mimetype": "text/x-python",
   "name": "python",
   "nbconvert_exporter": "python",
   "pygments_lexer": "ipython3",
   "version": "3.12.4"
  },
  "toc": {
   "base_numbering": 1,
   "nav_menu": {},
   "number_sections": true,
   "sideBar": true,
   "skip_h1_title": false,
   "title_cell": "Table of Contents",
   "title_sidebar": "Contents",
   "toc_cell": false,
   "toc_position": {},
   "toc_section_display": true,
   "toc_window_display": false
  }
 },
 "nbformat": 4,
 "nbformat_minor": 5
}
