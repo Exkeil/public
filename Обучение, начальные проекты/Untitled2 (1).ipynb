{
 "cells": [
  {
   "cell_type": "code",
   "execution_count": 33,
   "id": "0907831b-7d45-49fb-96ce-f58368c80902",
   "metadata": {},
   "outputs": [
    {
     "name": "stdout",
     "output_type": "stream",
     "text": [
      "           id                                                url  \\\n",
      "0  7308295377  https://chattanooga.craigslist.org/ctd/d/chatt...   \n",
      "1  7316380095  https://newjersey.craigslist.org/ctd/d/carlsta...   \n",
      "2  7313733749  https://reno.craigslist.org/ctd/d/atlanta-2017...   \n",
      "3  7308210929  https://fayetteville.craigslist.org/ctd/d/rale...   \n",
      "4  7316474668  https://newyork.craigslist.org/lgi/cto/d/baldw...   \n",
      "\n",
      "          region                           region_url  price    year  \\\n",
      "0    chattanooga   https://chattanooga.craigslist.org  54990  2020.0   \n",
      "1   north jersey     https://newjersey.craigslist.org  16942  2016.0   \n",
      "2   reno / tahoe          https://reno.craigslist.org  35590  2017.0   \n",
      "3   fayetteville  https://fayetteville.craigslist.org  14500  2013.0   \n",
      "4  new york city       https://newyork.craigslist.org  21800  2021.0   \n",
      "\n",
      "  manufacturer                   model    fuel  odometer title_status  \\\n",
      "0          ram  2500 crew cab big horn  diesel     27442        clean   \n",
      "1         ford    explorer 4wd 4dr xlt     NaN     60023        clean   \n",
      "2   volkswagen        golf r hatchback     gas     14048        clean   \n",
      "3       toyota                    rav4     gas    117291        clean   \n",
      "4       nissan                  altima     gas      8000        clean   \n",
      "\n",
      "  transmission                                          image_url  \\\n",
      "0        other  https://images.craigslist.org/00N0N_1xMPvfxRAI...   \n",
      "1    automatic  https://images.craigslist.org/00x0x_26jl9F0cnL...   \n",
      "2        other  https://images.craigslist.org/00y0y_eeZjWeiSfb...   \n",
      "3    automatic  https://images.craigslist.org/00606_iGe5iXidib...   \n",
      "4    automatic  https://images.craigslist.org/00V0V_3pSOiPZ3Sd...   \n",
      "\n",
      "                                         description state        lat  \\\n",
      "0  Carvana is the safer way to buy a car During t...    tn  35.060000   \n",
      "1  ***Call Us for more information at: 201-635-14...    nj  40.821805   \n",
      "2  Carvana is the safer way to buy a car During t...    ca  33.779214   \n",
      "3  2013 Toyota RAV4 XLE 4dr SUV     Offered by: R...    nc  35.715954   \n",
      "4  2021 Nissan Altima Sv with Only 8 K Miles Titl...    ny  40.654800   \n",
      "\n",
      "        long              posting_date price_category  \\\n",
      "0 -85.250000  2021-04-17T12:30:50-0400           high   \n",
      "1 -74.061962  2021-05-03T15:40:21-0400         medium   \n",
      "2 -84.411811  2021-04-28T03:52:20-0700           high   \n",
      "3 -78.655304  2021-04-17T10:08:57-0400         medium   \n",
      "4 -73.609700  2021-05-03T18:32:06-0400         medium   \n",
      "\n",
      "                        date  \n",
      "0  2021-04-17 16:30:50+00:00  \n",
      "1  2021-05-03 19:40:21+00:00  \n",
      "2  2021-04-28 10:52:20+00:00  \n",
      "3  2021-04-17 14:08:57+00:00  \n",
      "4  2021-05-03 22:32:06+00:00  \n"
     ]
    }
   ],
   "source": [
    "#загружаю датасет и вывожу первые пять записей\n",
    "import pandas as pd\n",
    "df = pd.read_csv(\"df_types.csv\")\n",
    "print(df.head()) "
   ]
  },
  {
   "cell_type": "code",
   "execution_count": 67,
   "id": "525919b6-2f7c-4cb8-a597-2c7c4892e7a3",
   "metadata": {},
   "outputs": [
    {
     "name": "stdout",
     "output_type": "stream",
     "text": [
      "<class 'pandas.core.frame.DataFrame'>\n",
      "RangeIndex: 10000 entries, 0 to 9999\n",
      "Data columns (total 20 columns):\n",
      " #   Column          Non-Null Count  Dtype              \n",
      "---  ------          --------------  -----              \n",
      " 0   id              10000 non-null  int64              \n",
      " 1   url             10000 non-null  object             \n",
      " 2   region          10000 non-null  category           \n",
      " 3   region_url      10000 non-null  object             \n",
      " 4   price           10000 non-null  int64              \n",
      " 5   year            10000 non-null  float64            \n",
      " 6   manufacturer    10000 non-null  category           \n",
      " 7   model           10000 non-null  category           \n",
      " 8   fuel            10000 non-null  category           \n",
      " 9   odometer        10000 non-null  int64              \n",
      " 10  title_status    10000 non-null  category           \n",
      " 11  transmission    9955 non-null   category           \n",
      " 12  image_url       9998 non-null   object             \n",
      " 13  description     9998 non-null   object             \n",
      " 14  state           10000 non-null  category           \n",
      " 15  lat             9902 non-null   float64            \n",
      " 16  long            9902 non-null   float64            \n",
      " 17  posting_date    9998 non-null   object             \n",
      " 18  price_category  10000 non-null  category           \n",
      " 19  date            9998 non-null   datetime64[ns, UTC]\n",
      "dtypes: category(8), datetime64[ns, UTC](1), float64(3), int64(3), object(5)\n",
      "memory usage: 1.2+ MB\n",
      "None\n",
      "\n",
      "Количество пропущенных значений в каждом столбце:\n",
      "id                 0\n",
      "url                0\n",
      "region             0\n",
      "region_url         0\n",
      "price              0\n",
      "year               0\n",
      "manufacturer       0\n",
      "model              0\n",
      "fuel               0\n",
      "odometer           0\n",
      "title_status       0\n",
      "transmission      45\n",
      "image_url          2\n",
      "description        2\n",
      "state              0\n",
      "lat               98\n",
      "long              98\n",
      "posting_date       2\n",
      "price_category     0\n",
      "date               2\n",
      "dtype: int64\n"
     ]
    }
   ],
   "source": [
    "print(df.info())\n",
    "print(\"\\nКоличество пропущенных значений в каждом столбце:\")\n",
    "print(df.isnull().sum())\n",
    "#вывожу информацию за незаполненные данные "
   ]
  },
  {
   "cell_type": "code",
   "execution_count": 39,
   "id": "594464c4-b56f-4f38-95eb-1bd8e8fa3da2",
   "metadata": {},
   "outputs": [
    {
     "name": "stdout",
     "output_type": "stream",
     "text": [
      "\n",
      "Количество пропущенных значений после заполнения медианой:\n",
      " 0\n"
     ]
    }
   ],
   "source": [
    "year_median = df[\"year\"].median()\n",
    "df.fillna({\"year\": year_median}, inplace=True)\n",
    "print(\"\\nКоличество пропущенных значений после заполнения медианой:\\n\", df[\"year\"].isnull().sum())"
   ]
  },
  {
   "cell_type": "code",
   "execution_count": 43,
   "id": "967ee786-4464-44fe-b0b2-e63c7e0efa52",
   "metadata": {},
   "outputs": [
    {
     "name": "stdout",
     "output_type": "stream",
     "text": [
      "Количество пропущенных значений в 'fuel' до обработки:\n",
      " 63\n",
      "\n",
      "Уникальные значения 'fuel' до обработки:\n",
      " ['diesel' nan 'gas' 'other' 'electric' 'hybrid']\n"
     ]
    }
   ],
   "source": [
    "print(\"Количество пропущенных значений в 'fuel' до обработки:\\n\", df[\"fuel\"].isnull().sum())\n",
    "print(\"\\nУникальные значения 'fuel' до обработки:\\n\", df['fuel'].unique())\n"
   ]
  },
  {
   "cell_type": "code",
   "execution_count": 45,
   "id": "22f38e51-02e7-4802-96b4-81ec31ef7112",
   "metadata": {},
   "outputs": [
    {
     "name": "stdout",
     "output_type": "stream",
     "text": [
      "\n",
      "Количество пропущенных значений в 'fuel' после заполнения модой:\n",
      " 0\n",
      "\n",
      "Уникальные значения в 'fuel' после заполнения модой:\n",
      " ['diesel' 'gas' 'other' 'electric' 'hybrid']\n"
     ]
    }
   ],
   "source": [
    "fuel_mode = df[\"fuel\"].mode()[0]  \n",
    "df.fillna({'fuel': fuel_mode}, inplace=True)\n",
    "print(\"\\nКоличество пропущенных значений в 'fuel' после заполнения модой:\\n\", df[\"fuel\"].isnull().sum())\n",
    "print(\"\\nУникальные значения в 'fuel' после заполнения модой:\\n\", df[\"fuel\"].unique())\n",
    "# Я не разбираюсь какие топлива в каких машинах, для этого требовалось бы больше времени, я бы изучил для этого, но было бы лучше изучить, прежде, чем все заменять модой, не спорю\n"
   ]
  },
  {
   "cell_type": "code",
   "execution_count": 47,
   "id": "98f6aee4-a898-4d18-b8ad-e5f374b56c60",
   "metadata": {},
   "outputs": [
    {
     "name": "stdout",
     "output_type": "stream",
     "text": [
      "\n",
      "Количество пропущенных значений в 'model' после заполнения:\n",
      " 0\n",
      "\n",
      "Уникальные значения в 'model' после заполнения:\n",
      " ['2500 crew cab big horn' 'explorer 4wd 4dr xlt' 'golf r hatchback' ...\n",
      " 'navigator reserve' '1988 Nisan' 'a3 2.0t premium plus pzev']\n"
     ]
    }
   ],
   "source": [
    "model_modes = df.groupby('manufacturer')['model'].apply(lambda x: x.mode()[0] if not x.mode().empty else None).to_dict()\n",
    "\n",
    "df['model'] = df['model'].fillna(df['manufacturer'].map(model_modes))\n",
    "print(\"\\nКоличество пропущенных значений в 'model' после заполнения:\\n\", df[\"model\"].isnull().sum())\n",
    "print(\"\\nУникальные значения в 'model' после заполнения:\\n\", df[\"model\"].unique()) # Я выбрал данный метод исходя из того, что можно узнать из названия модель "
   ]
  },
  {
   "cell_type": "code",
   "execution_count": 49,
   "id": "5d04ce71-a5c4-4800-a094-8454ea64d37d",
   "metadata": {},
   "outputs": [
    {
     "name": "stdout",
     "output_type": "stream",
     "text": [
      "\n",
      "Количество пропущенных значений в 'title_status' после заполнения модой:\n",
      " 0\n",
      "\n",
      "Уникальные значения в 'title_status' после заполнения модой:\n",
      " ['clean' 'rebuilt' 'salvage' 'lien' 'missing' 'parts only']\n"
     ]
    }
   ],
   "source": [
    "title_status_mode = df[\"title_status\"].mode()[0]\n",
    "df[\"title_status\"] = df[\"title_status\"].fillna(title_status_mode)\n",
    "print(\"\\nКоличество пропущенных значений в 'title_status' после заполнения модой:\\n\", df[\"title_status\"].isnull().sum())\n",
    "print(\"\\nУникальные значения в 'title_status' после заполнения модой:\\n\", df[\"title_status\"].unique())"
   ]
  },
  {
   "cell_type": "code",
   "execution_count": 51,
   "id": "1bd5bce5-9428-4677-af79-8e22d63591b8",
   "metadata": {},
   "outputs": [],
   "source": [
    "#Заменил просто модой, потому что на мой взгляд это самое простое решение\n"
   ]
  },
  {
   "cell_type": "code",
   "execution_count": 55,
   "id": "ddc90085-9ab6-4782-9fbd-98fea4d2a429",
   "metadata": {},
   "outputs": [
    {
     "name": "stdout",
     "output_type": "stream",
     "text": [
      "\n",
      "Тип данных в столбце 'date' после преобразования:\n",
      " datetime64[ns, UTC]\n",
      "\n",
      "Первые 5 строк дат после обработки:\n",
      "           id                                                url  \\\n",
      "0  7308295377  https://chattanooga.craigslist.org/ctd/d/chatt...   \n",
      "1  7316380095  https://newjersey.craigslist.org/ctd/d/carlsta...   \n",
      "2  7313733749  https://reno.craigslist.org/ctd/d/atlanta-2017...   \n",
      "3  7308210929  https://fayetteville.craigslist.org/ctd/d/rale...   \n",
      "4  7316474668  https://newyork.craigslist.org/lgi/cto/d/baldw...   \n",
      "\n",
      "          region                           region_url  price    year  \\\n",
      "0    chattanooga   https://chattanooga.craigslist.org  54990  2020.0   \n",
      "1   north jersey     https://newjersey.craigslist.org  16942  2016.0   \n",
      "2   reno / tahoe          https://reno.craigslist.org  35590  2017.0   \n",
      "3   fayetteville  https://fayetteville.craigslist.org  14500  2013.0   \n",
      "4  new york city       https://newyork.craigslist.org  21800  2021.0   \n",
      "\n",
      "  manufacturer                   model    fuel  odometer title_status  \\\n",
      "0          ram  2500 crew cab big horn  diesel     27442        clean   \n",
      "1         ford    explorer 4wd 4dr xlt     gas     60023        clean   \n",
      "2   volkswagen        golf r hatchback     gas     14048        clean   \n",
      "3       toyota                    rav4     gas    117291        clean   \n",
      "4       nissan                  altima     gas      8000        clean   \n",
      "\n",
      "  transmission                                          image_url  \\\n",
      "0        other  https://images.craigslist.org/00N0N_1xMPvfxRAI...   \n",
      "1    automatic  https://images.craigslist.org/00x0x_26jl9F0cnL...   \n",
      "2        other  https://images.craigslist.org/00y0y_eeZjWeiSfb...   \n",
      "3    automatic  https://images.craigslist.org/00606_iGe5iXidib...   \n",
      "4    automatic  https://images.craigslist.org/00V0V_3pSOiPZ3Sd...   \n",
      "\n",
      "                                         description state        lat  \\\n",
      "0  Carvana is the safer way to buy a car During t...    tn  35.060000   \n",
      "1  ***Call Us for more information at: 201-635-14...    nj  40.821805   \n",
      "2  Carvana is the safer way to buy a car During t...    ca  33.779214   \n",
      "3  2013 Toyota RAV4 XLE 4dr SUV     Offered by: R...    nc  35.715954   \n",
      "4  2021 Nissan Altima Sv with Only 8 K Miles Titl...    ny  40.654800   \n",
      "\n",
      "        long              posting_date price_category  \\\n",
      "0 -85.250000  2021-04-17T12:30:50-0400           high   \n",
      "1 -74.061962  2021-05-03T15:40:21-0400         medium   \n",
      "2 -84.411811  2021-04-28T03:52:20-0700           high   \n",
      "3 -78.655304  2021-04-17T10:08:57-0400         medium   \n",
      "4 -73.609700  2021-05-03T18:32:06-0400         medium   \n",
      "\n",
      "                       date  \n",
      "0 2021-04-17 16:30:50+00:00  \n",
      "1 2021-05-03 19:40:21+00:00  \n",
      "2 2021-04-28 10:52:20+00:00  \n",
      "3 2021-04-17 14:08:57+00:00  \n",
      "4 2021-05-03 22:32:06+00:00  \n"
     ]
    }
   ],
   "source": [
    "df['date'] = pd.to_datetime(df['date'])\n",
    "print(\"\\nТип данных в столбце 'date' после преобразования:\\n\", df[\"date\"].dtype)\n",
    "print(\"\\nПервые 5 строк дат после обработки:\")\n",
    "print(df.head())"
   ]
  },
  {
   "cell_type": "code",
   "execution_count": 57,
   "id": "9750e36e-acc3-4f08-8ce8-62fc66102801",
   "metadata": {},
   "outputs": [
    {
     "name": "stdout",
     "output_type": "stream",
     "text": [
      "id                              int64\n",
      "url                            object\n",
      "region                       category\n",
      "region_url                     object\n",
      "price                           int64\n",
      "year                          float64\n",
      "manufacturer                 category\n",
      "model                        category\n",
      "fuel                         category\n",
      "odometer                        int64\n",
      "title_status                 category\n",
      "transmission                 category\n",
      "image_url                      object\n",
      "description                    object\n",
      "state                        category\n",
      "lat                           float64\n",
      "long                          float64\n",
      "posting_date                   object\n",
      "price_category               category\n",
      "date              datetime64[ns, UTC]\n",
      "dtype: object\n"
     ]
    }
   ],
   "source": [
    "categorical_cols = [\n",
    "    'region', \n",
    "    'manufacturer', \n",
    "    'model', \n",
    "    'fuel', \n",
    "    'transmission', \n",
    "    'title_status', \n",
    "    'state', \n",
    "    'price_category'\n",
    "]\n",
    "for col in categorical_cols:\n",
    "    df[col] = df[col].astype('category')\n",
    "\n",
    "print(df.dtypes)"
   ]
  },
  {
   "cell_type": "code",
   "execution_count": 63,
   "id": "c58a63ab-8684-4911-a5a2-eab1fbdc305c",
   "metadata": {},
   "outputs": [
    {
     "name": "stdout",
     "output_type": "stream",
     "text": [
      "Нижняя граница выбросов: 1994.5\n",
      "Верхняя граница выбросов: 2030.5\n",
      "\n",
      "Выбросы в столбце 'year':\n",
      "13      1994.0\n",
      "21      1970.0\n",
      "57      1948.0\n",
      "66      1990.0\n",
      "106     1968.0\n",
      "         ...  \n",
      "9886    1974.0\n",
      "9921    1994.0\n",
      "9944    1984.0\n",
      "9972    1972.0\n",
      "9990    1988.0\n",
      "Name: year, Length: 394, dtype: float64\n"
     ]
    }
   ],
   "source": [
    "Q1 = df['year'].quantile(0.25)\n",
    "Q3 = df['year'].quantile(0.75)\n",
    "IQR = Q3 - Q1\n",
    "\n",
    "lower_bound = Q1 - 1.5 * IQR\n",
    "upper_bound = Q3 + 1.5 * IQR\n",
    "print(f\"Нижняя граница выбросов: {lower_bound}\")\n",
    "print(f\"Верхняя граница выбросов: {upper_bound}\")\n",
    "\n",
    "outliers = df[(df['year'] < lower_bound) | (df['year'] > upper_bound)]\n",
    "print(\"\\nВыбросы в столбце 'year':\")\n",
    "print(outliers['year'])"
   ]
  },
  {
   "cell_type": "code",
   "execution_count": 77,
   "id": "42d4c5f6-2fc8-4d74-a30e-3d964898e399",
   "metadata": {},
   "outputs": [
    {
     "name": "stdout",
     "output_type": "stream",
     "text": [
      "Количество полностью заполненных объектов: 98.59\n",
      "Процент полностью заполненных объектов из всей выборки: 98.59%\n"
     ]
    }
   ],
   "source": [
    "#вывожу полностью заполненные объекты из всей выборки, а также их процент \n",
    "complete_rows_count = df.dropna().shape[0]\n",
    "total = df.shape[0]\n",
    "complete = (complete_rows_count / total_rows_count) * 100\n",
    "\n",
    "print(f\"Количество полностью заполненных объектов: {complete}\")\n",
    "print(f\"Процент полностью заполненных объектов из всей выборки: {complete:.2f}%\")"
   ]
  },
  {
   "cell_type": "code",
   "execution_count": null,
   "id": "f1af04f6-6ffe-457b-a4be-6d5cc6c4c8b8",
   "metadata": {},
   "outputs": [],
   "source": []
  }
 ],
 "metadata": {
  "kernelspec": {
   "display_name": "Python 3 (ipykernel)",
   "language": "python",
   "name": "python3"
  },
  "language_info": {
   "codemirror_mode": {
    "name": "ipython",
    "version": 3
   },
   "file_extension": ".py",
   "mimetype": "text/x-python",
   "name": "python",
   "nbconvert_exporter": "python",
   "pygments_lexer": "ipython3",
   "version": "3.12.4"
  }
 },
 "nbformat": 4,
 "nbformat_minor": 5
}
