{
 "cells": [
  {
   "cell_type": "markdown",
   "id": "09a9af24",
   "metadata": {
    "id": "09a9af24"
   },
   "source": [
    "# Разведочный анализ данных: Data Cleaning. Практическая работа"
   ]
  },
  {
   "cell_type": "markdown",
   "id": "7d354813",
   "metadata": {
    "id": "7d354813"
   },
   "source": [
    "## Цели практической работы\n",
    "* Потренироваться выявлять и заполнять пропущенные значения в данных.\n",
    "* Потренироваться преобразовывать типы данных.\n",
    "* Потренироваться выявлять и обрабатывать аномальные значения в данных.\n",
    "* Подготовить датафрейм к этапу генерации признаков.\n",
    "\n"
   ]
  },
  {
   "cell_type": "markdown",
   "id": "fa433432",
   "metadata": {
    "id": "fa433432"
   },
   "source": [
    "## Задача\n",
    "\n",
    "В этой практической работе вы продолжите исследовать и готовить данные для этапа моделирования: заполнять пропущенные значения в некоторых переменных, изменять типы данных и обрабатывать выбросы.\n",
    "\n",
    "Напомним, что вы работаете с небольшой выборкой из коллекции подержанных автомобилей, выставленных на продажу в Соединённых Штатах. На этих данных вы построите первую модель классификации, определяющую категорию цены подержанного автомобиля в зависимости от характеристик транспортного средства.\n",
    "\n",
    "## Описание датасета:\n",
    "- `id`: идентификатор записи;\n",
    "- `url`: URL записи о продаже;\n",
    "- `region`: регион;\n",
    "- `region_url`: URL региона;\n",
    "- `price`: стоимость;\n",
    "- `year`: год выпуска;\n",
    "- `manufacturer`: производитель;\n",
    "- `model`: модель;\n",
    "- `condition`: состояние;\n",
    "- `cylinders`: количество цилиндров;\n",
    "- `fuel`: тип топлива;\n",
    "- `odometer`: количество пройденных миль;\n",
    "- `title_status`: статус;\n",
    "- `transmission`: коробка передач;\n",
    "- `VIN`: идентификационный номер;\n",
    "- `drive`: тип привода;\n",
    "- `size`: размер;\n",
    "- `type`: кузов;\n",
    "- `paint_color`: цвет;\n",
    "- `image_url`: URL изображения;\n",
    "- `description`: указанное описание;\n",
    "- `county`: страна;\n",
    "- `state`: штат;\n",
    "- `lat`: широта;\n",
    "- `long`: долгота;\n",
    "- `posting_date`: дата размещения объявления о продаже;\n",
    "- `price_category`: категория цены.\n"
   ]
  },
  {
   "cell_type": "markdown",
   "id": "a2bd5ce3",
   "metadata": {
    "id": "a2bd5ce3"
   },
   "source": [
    "## Что входит в практическую работу\n",
    "1. Загрузить датасет и ознакомиться с ним.\n",
    "2. Исследовать переменные датасета на наличие пропусков.\n",
    "3. Обработать пропуски в зависимости от типа переменной.\n",
    "4. Изменить типы данных.\n",
    "5. Исследовать данные на аномальные значения и скорректировать выбросы."
   ]
  },
  {
   "cell_type": "markdown",
   "id": "9320387e",
   "metadata": {
    "id": "9320387e"
   },
   "source": [
    "## Что оценивается\n",
    "- Программа выдаёт верный ответ на заданном наборе данных.\n",
    "- Описаны причины выбранного решения, если требуется.\n",
    "- Код читабелен: переменным даны осмысленные названия, отступы и правила расстановки пробелов соблюдены.\n",
    "- Репозиторий проекта содержит осмысленные коммиты с конкретными реализованными фичами, ветки названы согласно назначению, лишние файлы не хранятся в репозитории.\n",
    "- В репозитории проекта соблюдена иерархия директорий согласно списку модулей и содержащихся в них видеоматериалов.\n",
    "- Репозиторий проекта содержит файлы с данными, полученными в результате выполнения практической работы.\n",
    "\n",
    "\n"
   ]
  },
  {
   "cell_type": "markdown",
   "id": "fe2c1c43",
   "metadata": {
    "id": "fe2c1c43"
   },
   "source": [
    "## Как отправить работу на проверку\n",
    "Сдайте практическую работу этого модуля через систему контроля версий Git сервиса Skillbox GitLab. После загрузки работы на проверку напишите об этом в личном кабинете своему куратору."
   ]
  },
  {
   "cell_type": "markdown",
   "id": "e572b1e8",
   "metadata": {
    "id": "e572b1e8"
   },
   "source": [
    "## Обязательные задачи"
   ]
  },
  {
   "cell_type": "code",
   "execution_count": null,
   "id": "f8b7e7f2",
   "metadata": {
    "ExecuteTime": {
     "end_time": "2022-01-27T23:32:05.731039Z",
     "start_time": "2022-01-27T23:32:05.727108Z"
    },
    "id": "f8b7e7f2"
   },
   "outputs": [],
   "source": [
    "# Импортируйте необходимые библиотеки"
   ]
  },
  {
   "cell_type": "markdown",
   "id": "9e9007d5",
   "metadata": {
    "ExecuteTime": {
     "end_time": "2022-01-28T23:12:51.463454Z",
     "start_time": "2022-01-28T23:12:51.458075Z"
    },
    "id": "9e9007d5"
   },
   "source": [
    "### Задача 1. Загрузка датасета и ознакомление с количеством пропущенных значений\n",
    "\n",
    "1. Загрузите датасет из `data/df_out.csv` и выведите первые пять записей.\n",
    "\n"
   ]
  },
  {
   "cell_type": "code",
   "execution_count": 3,
   "id": "13da54e4",
   "metadata": {
    "ExecuteTime": {
     "end_time": "2022-01-28T23:13:27.330926Z",
     "start_time": "2022-01-28T23:13:27.327741Z"
    },
    "id": "13da54e4"
   },
   "outputs": [
    {
     "name": "stdout",
     "output_type": "stream",
     "text": [
      "           id                                                url  \\\n",
      "0  7308295377  https://chattanooga.craigslist.org/ctd/d/chatt...   \n",
      "1  7316380095  https://newjersey.craigslist.org/ctd/d/carlsta...   \n",
      "2  7313733749  https://reno.craigslist.org/ctd/d/atlanta-2017...   \n",
      "3  7308210929  https://fayetteville.craigslist.org/ctd/d/rale...   \n",
      "4  7316474668  https://newyork.craigslist.org/lgi/cto/d/baldw...   \n",
      "\n",
      "          region                           region_url  price    year  \\\n",
      "0    chattanooga   https://chattanooga.craigslist.org  54990  2020.0   \n",
      "1   north jersey     https://newjersey.craigslist.org  16942  2016.0   \n",
      "2   reno / tahoe          https://reno.craigslist.org  35590  2017.0   \n",
      "3   fayetteville  https://fayetteville.craigslist.org  14500  2013.0   \n",
      "4  new york city       https://newyork.craigslist.org  21800  2021.0   \n",
      "\n",
      "  manufacturer                   model    fuel  odometer title_status  \\\n",
      "0          ram  2500 crew cab big horn  diesel     27442        clean   \n",
      "1         ford    explorer 4wd 4dr xlt     NaN     60023        clean   \n",
      "2   volkswagen        golf r hatchback     gas     14048        clean   \n",
      "3       toyota                    rav4     gas    117291        clean   \n",
      "4       nissan                  altima     gas      8000        clean   \n",
      "\n",
      "  transmission                                          image_url  \\\n",
      "0        other  https://images.craigslist.org/00N0N_1xMPvfxRAI...   \n",
      "1    automatic  https://images.craigslist.org/00x0x_26jl9F0cnL...   \n",
      "2        other  https://images.craigslist.org/00y0y_eeZjWeiSfb...   \n",
      "3    automatic  https://images.craigslist.org/00606_iGe5iXidib...   \n",
      "4    automatic  https://images.craigslist.org/00V0V_3pSOiPZ3Sd...   \n",
      "\n",
      "                                         description state        lat  \\\n",
      "0  Carvana is the safer way to buy a car During t...    tn  35.060000   \n",
      "1  ***Call Us for more information at: 201-635-14...    nj  40.821805   \n",
      "2  Carvana is the safer way to buy a car During t...    ca  33.779214   \n",
      "3  2013 Toyota RAV4 XLE 4dr SUV     Offered by: R...    nc  35.715954   \n",
      "4  2021 Nissan Altima Sv with Only 8 K Miles Titl...    ny  40.654800   \n",
      "\n",
      "        long              posting_date price_category  \\\n",
      "0 -85.250000  2021-04-17T12:30:50-0400           high   \n",
      "1 -74.061962  2021-05-03T15:40:21-0400         medium   \n",
      "2 -84.411811  2021-04-28T03:52:20-0700           high   \n",
      "3 -78.655304  2021-04-17T10:08:57-0400         medium   \n",
      "4 -73.609700  2021-05-03T18:32:06-0400         medium   \n",
      "\n",
      "                        date  \n",
      "0  2021-04-17 16:30:50+00:00  \n",
      "1  2021-05-03 19:40:21+00:00  \n",
      "2  2021-04-28 10:52:20+00:00  \n",
      "3  2021-04-17 14:08:57+00:00  \n",
      "4  2021-05-03 22:32:06+00:00  \n"
     ]
    }
   ],
   "source": [
    "import pandas as pd\n",
    "df = pd.read_csv('data/df_out.csv')\n",
    "print(df.head())"
   ]
  },
  {
   "cell_type": "markdown",
   "id": "d629aed5",
   "metadata": {
    "ExecuteTime": {
     "end_time": "2022-01-29T23:13:02.420132Z",
     "start_time": "2022-01-29T23:13:02.380497Z"
    },
    "id": "d629aed5"
   },
   "source": [
    "2. Выведите информацию о датафрейме и обратите внимание на оставшиеся незаполненные значения.\n"
   ]
  },
  {
   "cell_type": "code",
   "execution_count": 7,
   "id": "4e2fe561",
   "metadata": {
    "ExecuteTime": {
     "end_time": "2022-01-29T23:18:30.950823Z",
     "start_time": "2022-01-29T23:18:30.945640Z"
    },
    "id": "4e2fe561"
   },
   "outputs": [
    {
     "name": "stdout",
     "output_type": "stream",
     "text": [
      "<class 'pandas.core.frame.DataFrame'>\n",
      "RangeIndex: 9902 entries, 0 to 9901\n",
      "Data columns (total 20 columns):\n",
      " #   Column          Non-Null Count  Dtype  \n",
      "---  ------          --------------  -----  \n",
      " 0   id              9902 non-null   int64  \n",
      " 1   url             9902 non-null   object \n",
      " 2   region          9902 non-null   object \n",
      " 3   region_url      9902 non-null   object \n",
      " 4   price           9902 non-null   int64  \n",
      " 5   year            9868 non-null   float64\n",
      " 6   manufacturer    9902 non-null   object \n",
      " 7   model           9776 non-null   object \n",
      " 8   fuel            9841 non-null   object \n",
      " 9   odometer        9902 non-null   int64  \n",
      " 10  title_status    9738 non-null   object \n",
      " 11  transmission    9902 non-null   object \n",
      " 12  image_url       9902 non-null   object \n",
      " 13  description     9902 non-null   object \n",
      " 14  state           9902 non-null   object \n",
      " 15  lat             9902 non-null   float64\n",
      " 16  long            9902 non-null   float64\n",
      " 17  posting_date    9902 non-null   object \n",
      " 18  price_category  9902 non-null   object \n",
      " 19  date            9902 non-null   object \n",
      "dtypes: float64(3), int64(3), object(14)\n",
      "memory usage: 1.5+ MB\n",
      "None\n",
      "\n",
      "Количество пропущенных значений по столбцам:\n",
      "id                  0\n",
      "url                 0\n",
      "region              0\n",
      "region_url          0\n",
      "price               0\n",
      "year               34\n",
      "manufacturer        0\n",
      "model             126\n",
      "fuel               61\n",
      "odometer            0\n",
      "title_status      164\n",
      "transmission        0\n",
      "image_url           0\n",
      "description         0\n",
      "state               0\n",
      "lat                 0\n",
      "long                0\n",
      "posting_date        0\n",
      "price_category      0\n",
      "date                0\n",
      "dtype: int64\n",
      "\n",
      "Процент пропущенных значений по столбцам:\n",
      "id                0.000000\n",
      "url               0.000000\n",
      "region            0.000000\n",
      "region_url        0.000000\n",
      "price             0.000000\n",
      "year              0.343365\n",
      "manufacturer      0.000000\n",
      "model             1.272470\n",
      "fuel              0.616037\n",
      "odometer          0.000000\n",
      "title_status      1.656231\n",
      "transmission      0.000000\n",
      "image_url         0.000000\n",
      "description       0.000000\n",
      "state             0.000000\n",
      "lat               0.000000\n",
      "long              0.000000\n",
      "posting_date      0.000000\n",
      "price_category    0.000000\n",
      "date              0.000000\n",
      "dtype: float64\n"
     ]
    }
   ],
   "source": [
    "print(df.info())\n",
    "print(\"\\nКоличество пропущенных значений по столбцам:\")\n",
    "print(df.isnull().sum())\n",
    "print(\"\\nПроцент пропущенных значений по столбцам:\")\n",
    "print(df.isnull().mean() * 100)\n"
   ]
  },
  {
   "cell_type": "markdown",
   "id": "cda8be60",
   "metadata": {
    "id": "cda8be60"
   },
   "source": [
    "3. Выведите количество полностью заполненных объектов и их процент из всей выборки. Воспользуйтесь материалами из видео.\n"
   ]
  },
  {
   "cell_type": "code",
   "execution_count": 11,
   "id": "c891d00d",
   "metadata": {
    "ExecuteTime": {
     "end_time": "2022-01-29T23:18:38.209381Z",
     "start_time": "2022-01-29T23:18:38.206248Z"
    },
    "id": "c891d00d"
   },
   "outputs": [
    {
     "name": "stdout",
     "output_type": "stream",
     "text": [
      "Количество полностью заполненных объектов: 9543\n",
      "Процент полностью заполненных объектов: 96.37%\n"
     ]
    }
   ],
   "source": [
    "fully_filled_count = df.dropna().shape[0]\n",
    "total_count = df.shape[0]\n",
    "fully_filled_percentage = (fully_filled_count / total_count) * 100\n",
    "print(f\"Количество полностью заполненных объектов: {fully_filled_count}\")\n",
    "print(f\"Процент полностью заполненных объектов: {fully_filled_percentage:.2f}%\")"
   ]
  },
  {
   "cell_type": "markdown",
   "id": "c86d53f3",
   "metadata": {
    "id": "c86d53f3"
   },
   "source": [
    "4. Сохраните в переменную и выведите процент пропущенных значений для каждого признака, отсортируйте признаки по убыванию процента пропущенных значений. Воспользуйтесь материалами из видео и не забудьте передать верный параметр сортировки.\n"
   ]
  },
  {
   "cell_type": "code",
   "execution_count": 13,
   "id": "28407af8",
   "metadata": {
    "id": "28407af8"
   },
   "outputs": [
    {
     "name": "stdout",
     "output_type": "stream",
     "text": [
      "title_status      1.656231\n",
      "model             1.272470\n",
      "fuel              0.616037\n",
      "year              0.343365\n",
      "image_url         0.000000\n",
      "price_category    0.000000\n",
      "posting_date      0.000000\n",
      "long              0.000000\n",
      "lat               0.000000\n",
      "state             0.000000\n",
      "description       0.000000\n",
      "id                0.000000\n",
      "transmission      0.000000\n",
      "url               0.000000\n",
      "odometer          0.000000\n",
      "manufacturer      0.000000\n",
      "price             0.000000\n",
      "region_url        0.000000\n",
      "region            0.000000\n",
      "date              0.000000\n",
      "dtype: float64\n"
     ]
    }
   ],
   "source": [
    "missing_percentage = df.isnull().mean() * 100\n",
    "missing_percentage_sorted = missing_percentage.sort_values(ascending=False)\n",
    "print(missing_percentage_sorted)"
   ]
  },
  {
   "cell_type": "markdown",
   "id": "4ccc59b6",
   "metadata": {
    "id": "4ccc59b6"
   },
   "source": [
    "5. Выведите список всех признаков, в которых имеются пропущенные значения. Воспользуйтесь результатом вывода предыдущего задания, чтобы отсортировать признаки, подходящие под условие."
   ]
  },
  {
   "cell_type": "code",
   "execution_count": 15,
   "id": "129e697e",
   "metadata": {
    "ExecuteTime": {
     "end_time": "2022-01-29T23:20:06.563386Z",
     "start_time": "2022-01-29T23:20:06.559721Z"
    },
    "id": "129e697e"
   },
   "outputs": [
    {
     "name": "stdout",
     "output_type": "stream",
     "text": [
      "Список признаков с пропущенными значениями (отсортированный):\n",
      "title_status    1.656231\n",
      "model           1.272470\n",
      "fuel            0.616037\n",
      "year            0.343365\n",
      "dtype: float64\n",
      "\n",
      "Список названий признаков с пропущенными значениями (отсортированный):\n",
      "['title_status', 'model', 'fuel', 'year']\n"
     ]
    }
   ],
   "source": [
    "missing_features = missing_percentage_sorted[missing_percentage_sorted > 0]\n",
    "\n",
    "\n",
    "print(\"Список признаков с пропущенными значениями (отсортированный):\")\n",
    "print(missing_features)\n",
    "\n",
    "\n",
    "print(\"\\nСписок названий признаков с пропущенными значениями (отсортированный):\")\n",
    "print(missing_features.index.tolist())"
   ]
  },
  {
   "cell_type": "markdown",
   "id": "d36a4f67",
   "metadata": {
    "id": "d36a4f67"
   },
   "source": [
    "### Задача 2. Обработка пропусков в годе выпуска автомобиля\n",
    "\n",
    "1. Выведите количество значений для года выпуска автомобиля, включая пропущенные значения.\n"
   ]
  },
  {
   "cell_type": "code",
   "execution_count": 17,
   "id": "60f89e21",
   "metadata": {
    "ExecuteTime": {
     "end_time": "2022-01-29T00:04:53.648430Z",
     "start_time": "2022-01-29T00:04:53.630774Z"
    },
    "id": "60f89e21"
   },
   "outputs": [
    {
     "name": "stdout",
     "output_type": "stream",
     "text": [
      "year\n",
      "2017.0    808\n",
      "2018.0    799\n",
      "2016.0    733\n",
      "2013.0    685\n",
      "2015.0    664\n",
      "         ... \n",
      "1927.0      1\n",
      "1958.0      1\n",
      "1941.0      1\n",
      "1935.0      1\n",
      "1954.0      1\n",
      "Name: count, Length: 90, dtype: int64\n",
      "\n",
      "Количество уникальных значений для года выпуска автомобиля:\n",
      "90\n"
     ]
    }
   ],
   "source": [
    "\n",
    "print(df['year'].value_counts(dropna=False))\n",
    "\n",
    "\n",
    "print(\"\\nКоличество уникальных значений для года выпуска автомобиля:\")\n",
    "print(df['year'].nunique(dropna=False))"
   ]
  },
  {
   "cell_type": "markdown",
   "id": "6e474f07",
   "metadata": {
    "id": "6e474f07"
   },
   "source": [
    "2. Выведите количество пропущенных значений в годе выпуска автомобиля.\n",
    "\n"
   ]
  },
  {
   "cell_type": "code",
   "execution_count": 19,
   "id": "f16d4a12",
   "metadata": {
    "id": "f16d4a12"
   },
   "outputs": [
    {
     "name": "stdout",
     "output_type": "stream",
     "text": [
      "Количество пропущенных значений в годе выпуска автомобиля:\n",
      "34\n"
     ]
    }
   ],
   "source": [
    "print(\"Количество пропущенных значений в годе выпуска автомобиля:\")\n",
    "print(df['year'].isnull().sum())"
   ]
  },
  {
   "cell_type": "markdown",
   "id": "9a02ee9b",
   "metadata": {
    "id": "9a02ee9b"
   },
   "source": [
    "3. Выведите описательные статистики для года выпуска автомобиля.\n"
   ]
  },
  {
   "cell_type": "code",
   "execution_count": 21,
   "id": "f9977f8d",
   "metadata": {
    "ExecuteTime": {
     "end_time": "2022-01-29T00:04:54.784838Z",
     "start_time": "2022-01-29T00:04:54.779823Z"
    },
    "id": "f9977f8d"
   },
   "outputs": [
    {
     "name": "stdout",
     "output_type": "stream",
     "text": [
      "Описательные статистики для года выпуска автомобиля:\n",
      "count    9868.000000\n",
      "mean     2010.909708\n",
      "std         9.705988\n",
      "min      1915.000000\n",
      "25%      2008.000000\n",
      "50%      2013.000000\n",
      "75%      2017.000000\n",
      "max      2022.000000\n",
      "Name: year, dtype: float64\n"
     ]
    }
   ],
   "source": [
    "print(\"Описательные статистики для года выпуска автомобиля:\")\n",
    "print(df['year'].describe())"
   ]
  },
  {
   "cell_type": "markdown",
   "id": "c95c1002",
   "metadata": {
    "id": "c95c1002"
   },
   "source": [
    "4. Выведите записи, в которых год выпуска автомобиля не заполнен. Посмотрите на данные и подумайте, какую стратегию обработки значений можно применить.\n"
   ]
  },
  {
   "cell_type": "code",
   "execution_count": 23,
   "id": "98c9ea05",
   "metadata": {
    "id": "98c9ea05"
   },
   "outputs": [
    {
     "name": "stdout",
     "output_type": "stream",
     "text": [
      "Записи, в которых год выпуска автомобиля не заполнен:\n",
      "              id                                                url  \\\n",
      "342   7304102133  https://wenatchee.craigslist.org/ctd/d/wenatch...   \n",
      "418   7316337069  https://lasvegas.craigslist.org/ctd/d/scottsda...   \n",
      "423   7315662117  https://westslope.craigslist.org/ctd/d/denver-...   \n",
      "697   7316199009  https://nashville.craigslist.org/ctd/d/nashvil...   \n",
      "887   7316840794  https://denver.craigslist.org/ctd/d/american-f...   \n",
      "900   7311915616  https://westslope.craigslist.org/ctd/d/denver-...   \n",
      "998   7306735187  https://westslope.craigslist.org/ctd/d/denver-...   \n",
      "1208  7309954650  https://gainesville.craigslist.org/ctd/d/gaine...   \n",
      "1308  7313865045  https://westslope.craigslist.org/ctd/d/denver-...   \n",
      "1828  7303344554  https://daytona.craigslist.org/ctd/d/new-smyrn...   \n",
      "2270  7311762820  https://huntsville.craigslist.org/ctd/d/new-ca...   \n",
      "2481  7315662074  https://santafe.craigslist.org/ctd/d/denver-20...   \n",
      "2603  7314588156  https://inlandempire.craigslist.org/ctd/d/hesp...   \n",
      "2792  7310250813  https://omaha.craigslist.org/ctd/d/council-blu...   \n",
      "2931  7306678710  https://gainesville.craigslist.org/ctd/d/gaine...   \n",
      "3263  7316562384  https://honolulu.craigslist.org/oah/ctd/d/hono...   \n",
      "3476  7307209305  https://northmiss.craigslist.org/ctd/d/vicksbu...   \n",
      "3488  7304711487  https://westslope.craigslist.org/ctd/d/denver-...   \n",
      "3634  7309869204  https://scottsbluff.craigslist.org/ctd/d/denve...   \n",
      "4178  7304693422  https://shreveport.craigslist.org/ctd/d/vicksb...   \n",
      "6055  7310371320  https://westslope.craigslist.org/ctd/d/denver-...   \n",
      "6130  7309904568  https://omaha.craigslist.org/ctd/d/omaha-2020-...   \n",
      "6254  7315207437  https://huntsville.craigslist.org/ctd/d/new-ca...   \n",
      "7122  7310924082  https://omaha.craigslist.org/ctd/d/omaha-2018-...   \n",
      "7567  7316247218  https://lasvegas.craigslist.org/ctd/d/scottsda...   \n",
      "7730  7314898718  https://gainesville.craigslist.org/ctd/d/gaine...   \n",
      "7734  7314454466  https://billings.craigslist.org/ctd/d/denver-2...   \n",
      "8437  7310829676  https://tucson.craigslist.org/ctd/d/tempe-2020...   \n",
      "8714  7316852999  https://memphis.craigslist.org/ctd/d/memphis-2...   \n",
      "9237  7316270709  https://denver.craigslist.org/ctd/d/denver-201...   \n",
      "9454  7312938642  https://lasvegas.craigslist.org/ctd/d/scottsda...   \n",
      "9626  7309216259  https://omaha.craigslist.org/ctd/d/omaha-2019-...   \n",
      "9752  7316246632  https://sanantonio.craigslist.org/ctd/d/scotts...   \n",
      "9855  7314033574  https://inlandempire.craigslist.org/ctd/d/scot...   \n",
      "\n",
      "                       region                           region_url  price  \\\n",
      "342                 wenatchee     https://wenatchee.craigslist.org  35880   \n",
      "418                 las vegas      https://lasvegas.craigslist.org  84995   \n",
      "423             western slope     https://westslope.craigslist.org  43900   \n",
      "697                 nashville     https://nashville.craigslist.org  28498   \n",
      "887                    denver        https://denver.craigslist.org  60900   \n",
      "900             western slope     https://westslope.craigslist.org  67900   \n",
      "998             western slope     https://westslope.craigslist.org  38900   \n",
      "1208              gainesville   https://gainesville.craigslist.org  24975   \n",
      "1308            western slope     https://westslope.craigslist.org  47900   \n",
      "1828            daytona beach       https://daytona.craigslist.org  35850   \n",
      "2270     huntsville / decatur    https://huntsville.craigslist.org  29875   \n",
      "2481          santa fe / taos       https://santafe.craigslist.org  43900   \n",
      "2603            inland empire  https://inlandempire.craigslist.org   2599   \n",
      "2792   omaha / council bluffs         https://omaha.craigslist.org  28995   \n",
      "2931              gainesville   https://gainesville.craigslist.org  26975   \n",
      "3263                   hawaii      https://honolulu.craigslist.org  37500   \n",
      "3476        north mississippi     https://northmiss.craigslist.org  64900   \n",
      "3488            western slope     https://westslope.craigslist.org  67900   \n",
      "3634  scottsbluff / panhandle   https://scottsbluff.craigslist.org  48900   \n",
      "4178               shreveport    https://shreveport.craigslist.org  53700   \n",
      "6055            western slope     https://westslope.craigslist.org  49900   \n",
      "6130   omaha / council bluffs         https://omaha.craigslist.org  25399   \n",
      "6254     huntsville / decatur    https://huntsville.craigslist.org  35495   \n",
      "7122   omaha / council bluffs         https://omaha.craigslist.org  12995   \n",
      "7567                las vegas      https://lasvegas.craigslist.org  69995   \n",
      "7730              gainesville   https://gainesville.craigslist.org  38975   \n",
      "7734                 billings      https://billings.craigslist.org  49900   \n",
      "8437                   tucson        https://tucson.craigslist.org  83877   \n",
      "8714                  memphis       https://memphis.craigslist.org  19979   \n",
      "9237                   denver        https://denver.craigslist.org  49900   \n",
      "9454                las vegas      https://lasvegas.craigslist.org  67995   \n",
      "9626   omaha / council bluffs         https://omaha.craigslist.org  29995   \n",
      "9752              san antonio    https://sanantonio.craigslist.org  49995   \n",
      "9855            inland empire  https://inlandempire.craigslist.org  54995   \n",
      "\n",
      "      year manufacturer                 model    fuel  odometer title_status  \\\n",
      "342    NaN        other                   500     gas     13508        clean   \n",
      "418    NaN        other  Super Duty F-350 SRW  diesel      1268        clean   \n",
      "423    NaN        other         Grand Caravan     NaN        21        clean   \n",
      "697    NaN        other   olet Silverado 1500     NaN     59246          NaN   \n",
      "887    NaN        other                 F-150     gas      6110        clean   \n",
      "900    NaN        other               Odyssey     gas        21        clean   \n",
      "998    NaN        other         Grand Caravan     NaN        21        clean   \n",
      "1208   NaN        other                  CR-V     gas     44128        clean   \n",
      "1308   NaN        other              a Sienna     gas     43701        clean   \n",
      "1828   NaN        other     Transit Cargo Van     gas       567        clean   \n",
      "2270   NaN        other               a Camry     gas     46947        clean   \n",
      "2481   NaN        other         Grand Caravan     NaN        21        clean   \n",
      "2603   NaN        other           olet Impala   other         1        clean   \n",
      "2792   NaN        other                 cadia     gas      3851          NaN   \n",
      "2931   NaN        other              n Maxima     gas     28367        clean   \n",
      "3263   NaN        other        Grand Cherokee     NaN     26608        clean   \n",
      "3476   NaN        other                   500  diesel     12338          NaN   \n",
      "3488   NaN        other               Odyssey     gas        21        clean   \n",
      "3634   NaN        other         Grand Caravan     NaN        19        clean   \n",
      "4178   NaN        other            ierra 1500     gas     35676          NaN   \n",
      "6055   NaN        other               Enclave     gas     10345        clean   \n",
      "6130   NaN        other              Envision     NaN      8492      rebuilt   \n",
      "6254   NaN        other                Series     gas     14000        clean   \n",
      "7122   NaN        other             u Impreza     gas     16740      rebuilt   \n",
      "7567   NaN        other                 F-150     gas       412        clean   \n",
      "7730   NaN        other                   500     gas     28689        clean   \n",
      "7734   NaN        other              a Sienna     gas     34294        clean   \n",
      "8437   NaN        other          ierra 2500HD  diesel     25363          NaN   \n",
      "8714   NaN        other                  CX-5     gas     17183        clean   \n",
      "9237   NaN        other              a Sienna     gas     34294        clean   \n",
      "9454   NaN        other   olet Silverado 1500     gas      7511        clean   \n",
      "9626   NaN        other               Enclave     gas      1036      rebuilt   \n",
      "9752   NaN        other                   500     gas     19078        clean   \n",
      "9855   NaN        other                 F-150     gas       180        clean   \n",
      "\n",
      "     transmission                                          image_url  \\\n",
      "342     automatic  https://images.craigslist.org/00J0J_6IMoEUzIIM...   \n",
      "418     automatic  https://images.craigslist.org/00x0x_iQCC0Ef28S...   \n",
      "423     automatic  https://images.craigslist.org/00f0f_7AwipNocNH...   \n",
      "697     automatic  https://images.craigslist.org/00T0T_dZ7nOXskCS...   \n",
      "887     automatic  https://images.craigslist.org/01616_bpzSdSRTbx...   \n",
      "900     automatic  https://images.craigslist.org/00404_erlbeKWEkn...   \n",
      "998     automatic  https://images.craigslist.org/00F0F_3T6FM0XMZW...   \n",
      "1208    automatic  https://images.craigslist.org/00000_2TUtAgLlCR...   \n",
      "1308    automatic  https://images.craigslist.org/00o0o_8XYp4Zygdj...   \n",
      "1828    automatic  https://images.craigslist.org/00a0a_d4XVrHnlxl...   \n",
      "2270    automatic  https://images.craigslist.org/01313_9nQ5n8dbnZ...   \n",
      "2481    automatic  https://images.craigslist.org/00f0f_7AwipNocNH...   \n",
      "2603        other  https://images.craigslist.org/00P0P_dKsEWbujM0...   \n",
      "2792    automatic  https://images.craigslist.org/00j0j_6hfE9qI1CV...   \n",
      "2931    automatic  https://images.craigslist.org/01010_4uw9b06xiS...   \n",
      "3263    automatic  https://images.craigslist.org/01111_h3zrI9JPSH...   \n",
      "3476    automatic  https://images.craigslist.org/00E0E_hZTYK06AGo...   \n",
      "3488    automatic  https://images.craigslist.org/00404_erlbeKWEkn...   \n",
      "3634    automatic  https://images.craigslist.org/00V0V_72KAx8GRuN...   \n",
      "4178    automatic  https://images.craigslist.org/00O0O_cpIkn2jwHN...   \n",
      "6055    automatic  https://images.craigslist.org/00M0M_sPt1lwAVRY...   \n",
      "6130    automatic  https://images.craigslist.org/01515_geiPTG1MZG...   \n",
      "6254    automatic  https://images.craigslist.org/01212_85QVVsEWjT...   \n",
      "7122    automatic  https://images.craigslist.org/01212_dEfENLNXWW...   \n",
      "7567    automatic  https://images.craigslist.org/00n0n_kNzqmJoY2a...   \n",
      "7730    automatic  https://images.craigslist.org/00e0e_3SqmUoLwUf...   \n",
      "7734    automatic  https://images.craigslist.org/00707_lMMxHyLoAR...   \n",
      "8437    automatic  https://images.craigslist.org/00A0A_nd5C1ILCvJ...   \n",
      "8714    automatic  https://images.craigslist.org/00x0x_1sp7mb28W4...   \n",
      "9237    automatic  https://images.craigslist.org/00707_lMMxHyLoAR...   \n",
      "9454    automatic  https://images.craigslist.org/00M0M_74pDndl5gQ...   \n",
      "9626    automatic  https://images.craigslist.org/01010_1PAwiL9HwM...   \n",
      "9752    automatic  https://images.craigslist.org/00p0p_lva0tqTnF1...   \n",
      "9855    automatic  https://images.craigslist.org/00d0d_92wTNhRT7B...   \n",
      "\n",
      "                                            description state        lat  \\\n",
      "342   2019 *Ram* *1500* Big Horn/Lone Star 4x2 Quad ...    wa  47.434493   \n",
      "418   2020 *Ford* *Super Duty F-350 SRW* 1K MILES. B...    nv  33.458277   \n",
      "423   2019 *Dodge* *Grand Caravan* SE - $43,900Call ...    co  39.674406   \n",
      "697   2019 *Chevrolet* *Silverado 1500* 2019 CHEVROL...    tn  36.138022   \n",
      "887   2020 *Ford* *F-150* PLATINUM FX4 Truck - $60,9...    co  40.362248   \n",
      "900   2020 *Honda* *Odyssey* EX-L w/Navi/RES Automat...    co  39.674406   \n",
      "998   2019 *Dodge* *Grand Caravan* SE - $38,900Call ...    co  39.674406   \n",
      "1208  2019 *Honda* *CR-V* EX 2WD SUV - $24,975Call o...    fl  29.676827   \n",
      "1308  2018 *Toyota* *Sienna* LE Automatic Access Sea...    co  39.674406   \n",
      "1828  2020 *Ford* *Transit Cargo Van* T-250 148\" WB*...    fl  29.046240   \n",
      "2270  2019 *Toyota* *Camry* XSE Automatic Sedan - $2...    al  33.669601   \n",
      "2481  2019 *Dodge* *Grand Caravan* SE - $43,900Call ...    nm  39.674406   \n",
      "2603  Chevrolet Impala  * AUCTION PRICES TO THE PUBL...    ca  34.451930   \n",
      "2792  2019 *GMC* *Acadia* AWD 4dr SLT w/SLT-1 SUV - ...    ia  41.229172   \n",
      "2931  2018 *Nissan* *Maxima* SR 3.5L Midnight Editio...    fl  29.676827   \n",
      "3263  2018 *Jeep* *Grand Cherokee* High Altitude 4x2...    hi  21.318059   \n",
      "3476  2020 *Ram* *3500* RAM 3500 DUALLY 4X4 CUMMINS ...    ms  32.332046   \n",
      "3488  2020 *Honda* *Odyssey* EX-L w/Navi/RES Automat...    co  39.674406   \n",
      "3634  2019 *Dodge* *Grand Caravan* SE Plus Wagon - $...    ne  39.674406   \n",
      "4178  2020 *GMC* *Sierra 1500* SIERRA 1500 AT4 4X4 5...    la  32.332046   \n",
      "6055  2018 *Buick* *Enclave* FWD 4dr Essence SUV - $...    co  39.674406   \n",
      "6130  2020 *Buick* *Envision* AWD 4dr Essence SUV - ...    ia  41.207382   \n",
      "6254  2020 *BMW* *3 Series* 330i Sedan - $35,495Call...    al  33.669601   \n",
      "7122  2018 *Subaru* *Impreza* 2.0i 4-door CVT Sedan ...    ia  41.207382   \n",
      "7567  2021 *Ford* *F-150* NEW 2021 FORD F150 SUPERCR...    nv  33.458277   \n",
      "7730  2019 *Ram* *2500* Tradesman 4x2 Crew Cab 8' Bo...    fl  29.676827   \n",
      "7734  2019 *Toyota* *Sienna* LE Automatic Access Sea...    mt  39.674406   \n",
      "8437  2020 *GMC* *Sierra 2500HD* LIFTED - AT4 Editio...    az  33.437098   \n",
      "8714  2019 *Mazda* *CX-5* Sport FWD SUV - $19,979Cal...    tn  35.191437   \n",
      "9237  2019 *Toyota* *Sienna* LE Automatic Access Sea...    co  39.674406   \n",
      "9454  2020 *Chevrolet* *Silverado 1500* 6.2L HIGH CO...    nv  33.458277   \n",
      "9626  2019 *Buick* *Enclave* AWD 4dr Essence SUV - $...    ia  41.207382   \n",
      "9752  2019 *Ram* *1500* LIFTED 2019 RAM 1500 WITH BU...    tx  33.458277   \n",
      "9855  2020 *Ford* *F-150* 180 MILES. LIFTED FORD F15...    ca  33.458277   \n",
      "\n",
      "            long              posting_date price_category  \\\n",
      "342  -120.320759  2021-04-09T06:31:03-0700           high   \n",
      "418  -111.925970  2021-05-03T11:31:39-0700           high   \n",
      "423  -104.998604  2021-05-02T01:11:33-0600           high   \n",
      "697   -86.732261  2021-05-03T10:00:40-0500           high   \n",
      "887  -111.785947  2021-05-04T12:11:22-0600           high   \n",
      "900  -104.998604  2021-04-24T10:41:06-0600           high   \n",
      "998  -104.998604  2021-04-14T10:51:36-0600           high   \n",
      "1208  -82.319202  2021-04-20T14:46:55-0400           high   \n",
      "1308 -104.998604  2021-04-28T10:12:14-0600           high   \n",
      "1828  -80.934561  2021-04-07T17:10:06-0400           high   \n",
      "2270  -86.817617  2021-04-24T04:50:56-0500           high   \n",
      "2481 -104.998604  2021-05-02T01:10:47-0600           high   \n",
      "2603 -117.287060  2021-04-29T16:19:54-0700            low   \n",
      "2792  -95.852118  2021-04-21T07:21:00-0500           high   \n",
      "2931  -82.319202  2021-04-14T11:25:14-0400           high   \n",
      "3263 -157.865187  2021-05-03T16:10:46-1000           high   \n",
      "3476  -90.857163  2021-04-15T10:45:56-0500           high   \n",
      "3488 -104.998604  2021-04-10T10:12:15-0600           high   \n",
      "3634 -104.998604  2021-04-20T10:41:16-0600           high   \n",
      "4178  -90.857163  2021-04-10T10:44:02-0500           high   \n",
      "6055 -104.998604  2021-04-21T10:12:30-0600           high   \n",
      "6130  -96.023096  2021-04-20T12:31:36-0500           high   \n",
      "6254  -86.817617  2021-05-01T04:50:32-0500           high   \n",
      "7122  -96.023096  2021-04-22T12:20:37-0500         medium   \n",
      "7567 -111.925970  2021-05-03T09:15:32-0700           high   \n",
      "7730  -82.319202  2021-04-30T13:32:48-0400           high   \n",
      "7734 -104.998604  2021-04-29T13:00:48-0600           high   \n",
      "8437 -111.925724  2021-04-22T07:50:52-0700           high   \n",
      "8714  -89.894973  2021-05-04T13:30:34-0500         medium   \n",
      "9237 -104.998604  2021-05-03T10:50:33-0600           high   \n",
      "9454 -111.925970  2021-04-26T11:30:40-0700           high   \n",
      "9626  -96.023096  2021-04-19T09:30:41-0500           high   \n",
      "9752 -111.925970  2021-05-03T11:14:44-0500           high   \n",
      "9855 -111.925970  2021-04-28T13:51:27-0700           high   \n",
      "\n",
      "                           date  \n",
      "342   2021-04-09 13:31:03+00:00  \n",
      "418   2021-05-03 18:31:39+00:00  \n",
      "423   2021-05-02 07:11:33+00:00  \n",
      "697   2021-05-03 15:00:40+00:00  \n",
      "887   2021-05-04 18:11:22+00:00  \n",
      "900   2021-04-24 16:41:06+00:00  \n",
      "998   2021-04-14 16:51:36+00:00  \n",
      "1208  2021-04-20 18:46:55+00:00  \n",
      "1308  2021-04-28 16:12:14+00:00  \n",
      "1828  2021-04-07 21:10:06+00:00  \n",
      "2270  2021-04-24 09:50:56+00:00  \n",
      "2481  2021-05-02 07:10:47+00:00  \n",
      "2603  2021-04-29 23:19:54+00:00  \n",
      "2792  2021-04-21 12:21:00+00:00  \n",
      "2931  2021-04-14 15:25:14+00:00  \n",
      "3263  2021-05-04 02:10:46+00:00  \n",
      "3476  2021-04-15 15:45:56+00:00  \n",
      "3488  2021-04-10 16:12:15+00:00  \n",
      "3634  2021-04-20 16:41:16+00:00  \n",
      "4178  2021-04-10 15:44:02+00:00  \n",
      "6055  2021-04-21 16:12:30+00:00  \n",
      "6130  2021-04-20 17:31:36+00:00  \n",
      "6254  2021-05-01 09:50:32+00:00  \n",
      "7122  2021-04-22 17:20:37+00:00  \n",
      "7567  2021-05-03 16:15:32+00:00  \n",
      "7730  2021-04-30 17:32:48+00:00  \n",
      "7734  2021-04-29 19:00:48+00:00  \n",
      "8437  2021-04-22 14:50:52+00:00  \n",
      "8714  2021-05-04 18:30:34+00:00  \n",
      "9237  2021-05-03 16:50:33+00:00  \n",
      "9454  2021-04-26 18:30:40+00:00  \n",
      "9626  2021-04-19 14:30:41+00:00  \n",
      "9752  2021-05-03 16:14:44+00:00  \n",
      "9855  2021-04-28 20:51:27+00:00  \n"
     ]
    }
   ],
   "source": [
    "print(\"Записи, в которых год выпуска автомобиля не заполнен:\")\n",
    "print(df[df['year'].isnull()])"
   ]
  },
  {
   "cell_type": "markdown",
   "id": "5f4826d1",
   "metadata": {
    "id": "5f4826d1"
   },
   "source": [
    "5. Обработайте пропуски, удалив записи, в которых год выпуска автомобиля не заполнен, и сохраните обновлённый датафрейм, а затем выведите его размерность.\n"
   ]
  },
  {
   "cell_type": "code",
   "execution_count": 25,
   "id": "ec1eab4f",
   "metadata": {
    "ExecuteTime": {
     "end_time": "2022-01-29T00:18:02.409949Z",
     "start_time": "2022-01-29T00:18:02.404640Z"
    },
    "id": "ec1eab4f"
   },
   "outputs": [
    {
     "name": "stdout",
     "output_type": "stream",
     "text": [
      "Размерность очищенного датафрейма:\n",
      "(9868, 20)\n"
     ]
    }
   ],
   "source": [
    "df_cleaned = df.dropna(subset=['year'])\n",
    "print(\"Размерность очищенного датафрейма:\")\n",
    "print(df_cleaned.shape)\n"
   ]
  },
  {
   "cell_type": "markdown",
   "id": "96242d8b",
   "metadata": {
    "id": "96242d8b"
   },
   "source": [
    "6. Выведите количество пропущенных значений в годе выпуска автомобиля для обновлённого датафрейма."
   ]
  },
  {
   "cell_type": "code",
   "execution_count": 29,
   "id": "b7105ead",
   "metadata": {
    "id": "b7105ead"
   },
   "outputs": [
    {
     "name": "stdout",
     "output_type": "stream",
     "text": [
      "Количество пропущенных значений в year: 0\n"
     ]
    }
   ],
   "source": [
    "print(\"Количество пропущенных значений в year: \", end=\"\") \n",
    "print(df_cleaned['year'].isnull().sum())"
   ]
  },
  {
   "cell_type": "markdown",
   "id": "8f2f4996",
   "metadata": {
    "id": "8f2f4996"
   },
   "source": [
    "### Задача 3. Обработка пропусков в типе топлива\n",
    "\n",
    "1. Выведите количество значений для типа топлива, включая пропущенные значения. Обратите внимание на количество пропущенных значений.\n",
    "\n",
    "\n"
   ]
  },
  {
   "cell_type": "code",
   "execution_count": 35,
   "id": "33a21fd9",
   "metadata": {
    "id": "33a21fd9"
   },
   "outputs": [
    {
     "name": "stdout",
     "output_type": "stream",
     "text": [
      "Количество значений для типа топлива (включая пропущенные):\n",
      "fuel\n",
      "gas         8298\n",
      "other        725\n",
      "diesel       643\n",
      "hybrid       104\n",
      "NaN           54\n",
      "electric      44\n",
      "Name: count, dtype: int64\n",
      "\n",
      "Количество пропущенных значений для типа топлива:\n",
      "54\n"
     ]
    }
   ],
   "source": [
    "print(\"Количество значений для типа топлива (включая пропущенные):\")\n",
    "print(df_cleaned['fuel'].value_counts(dropna=False))\n",
    "\n",
    "print(\"\\nКоличество пропущенных значений для типа топлива:\")\n",
    "print(df_cleaned['fuel'].isnull().sum())"
   ]
  },
  {
   "cell_type": "markdown",
   "id": "b996ea4e",
   "metadata": {
    "id": "b996ea4e"
   },
   "source": [
    "2. Выведите описательные статистики для типа топлива.\n"
   ]
  },
  {
   "cell_type": "code",
   "execution_count": 47,
   "id": "4d5f188c",
   "metadata": {
    "ExecuteTime": {
     "end_time": "2022-01-29T00:29:32.254957Z",
     "start_time": "2022-01-29T00:29:32.251802Z"
    },
    "id": "4d5f188c"
   },
   "outputs": [
    {
     "name": "stdout",
     "output_type": "stream",
     "text": [
      "Описательные статистики для года выпуска автомобиля:\n",
      "count     9841\n",
      "unique       5\n",
      "top        gas\n",
      "freq      8321\n",
      "Name: fuel, dtype: object\n"
     ]
    }
   ],
   "source": [
    "print(\"Описательные статистики для года выпуска автомобиля:\")\n",
    "print(df['fuel'].describe())"
   ]
  },
  {
   "cell_type": "markdown",
   "id": "b2aab1bc",
   "metadata": {
    "id": "b2aab1bc"
   },
   "source": [
    "3. Выведите записи, в которых тип топлива не заполнен. Посмотрите на данные и подумайте, какую стратегию обработки значений можно применить.\n"
   ]
  },
  {
   "cell_type": "code",
   "execution_count": 49,
   "id": "67f0feee",
   "metadata": {
    "ExecuteTime": {
     "end_time": "2022-01-29T23:37:31.879221Z",
     "start_time": "2022-01-29T23:37:31.875360Z"
    },
    "id": "67f0feee"
   },
   "outputs": [
    {
     "name": "stdout",
     "output_type": "stream",
     "text": [
      "Записи, в которых год выпуска автомобиля не заполнен:\n",
      "              id                                                url  \\\n",
      "1     7316380095  https://newjersey.craigslist.org/ctd/d/carlsta...   \n",
      "32    7309910590  https://eugene.craigslist.org/ctd/d/eugene-200...   \n",
      "78    7314559074  https://eugene.craigslist.org/ctd/d/eugene-200...   \n",
      "273   7315141987  https://honolulu.craigslist.org/oah/ctd/d/fort...   \n",
      "423   7315662117  https://westslope.craigslist.org/ctd/d/denver-...   \n",
      "...          ...                                                ...   \n",
      "8682  7313576130  https://cnj.craigslist.org/ctd/d/parlin-2012-j...   \n",
      "9351  7309365699  https://fortmyers.craigslist.org/chl/ctd/d/bra...   \n",
      "9541  7313475467  https://eugene.craigslist.org/ctd/d/eugene-201...   \n",
      "9708  7313949726  https://harrisburg.craigslist.org/ctd/d/brockp...   \n",
      "9718  7314349617  https://eugene.craigslist.org/ctd/d/eugene-200...   \n",
      "\n",
      "                     region                         region_url  price    year  \\\n",
      "1              north jersey   https://newjersey.craigslist.org  16942  2016.0   \n",
      "32                   eugene      https://eugene.craigslist.org   4977  2001.0   \n",
      "78                   eugene      https://eugene.craigslist.org  27977  2009.0   \n",
      "273                  hawaii    https://honolulu.craigslist.org  29888  2019.0   \n",
      "423           western slope   https://westslope.craigslist.org  43900     NaN   \n",
      "...                     ...                                ...    ...     ...   \n",
      "8682             central NJ         https://cnj.craigslist.org  23500  2012.0   \n",
      "9351  ft myers / SW florida   https://fortmyers.craigslist.org  14997  2010.0   \n",
      "9541                 eugene      https://eugene.craigslist.org   9979  2012.0   \n",
      "9708             harrisburg  https://harrisburg.craigslist.org   8900  2012.0   \n",
      "9718                 eugene      https://eugene.craigslist.org  11976  2008.0   \n",
      "\n",
      "     manufacturer                                   model fuel  odometer  \\\n",
      "1            ford                    explorer 4wd 4dr xlt  NaN     60023   \n",
      "32         toyota  camry solara 2dr cpe se v6 auto (natl)  NaN    193242   \n",
      "78           ford       f-150 4wd supercrew 145\" platinum  NaN     79522   \n",
      "273        nissan           frontier crew cab 4x2 sv auto  NaN     10679   \n",
      "423         other                           Grand Caravan  NaN        21   \n",
      "...           ...                                     ...  ...       ...   \n",
      "8682         jeep       wrangler unlimited 4wd 4dr sahara  NaN    105927   \n",
      "9351         ford                                   e-350  NaN    153120   \n",
      "9541    chevrolet                equinox awd 4dr lt w/1lt  NaN    165554   \n",
      "9708        honda                                  accord  NaN     95674   \n",
      "9718        acura                             mdx 4wd 4dr  NaN    156801   \n",
      "\n",
      "     title_status transmission  \\\n",
      "1           clean    automatic   \n",
      "32          clean    automatic   \n",
      "78          clean    automatic   \n",
      "273         clean    automatic   \n",
      "423         clean    automatic   \n",
      "...           ...          ...   \n",
      "8682        clean    automatic   \n",
      "9351        clean       manual   \n",
      "9541        clean    automatic   \n",
      "9708          NaN        other   \n",
      "9718        clean    automatic   \n",
      "\n",
      "                                              image_url  \\\n",
      "1     https://images.craigslist.org/00x0x_26jl9F0cnL...   \n",
      "32    https://images.craigslist.org/00F0F_ebtJlxCQjv...   \n",
      "78    https://images.craigslist.org/00L0L_khoMmqXaSJ...   \n",
      "273   https://images.craigslist.org/00F0F_d9wEXQuSyu...   \n",
      "423   https://images.craigslist.org/00f0f_7AwipNocNH...   \n",
      "...                                                 ...   \n",
      "8682  https://images.craigslist.org/00u0u_erwAahcIeQ...   \n",
      "9351  https://images.craigslist.org/00606_hQvq6K6D4p...   \n",
      "9541  https://images.craigslist.org/00q0q_haS6HKqYq4...   \n",
      "9708  https://images.craigslist.org/01212_dsfYRNhxfd...   \n",
      "9718  https://images.craigslist.org/00K0K_8iyrQ1sWEh...   \n",
      "\n",
      "                                            description state        lat  \\\n",
      "1     ***Call Us for more information at: 201-635-14...    nj  40.821805   \n",
      "32    ***Call Us for more information at: 541-228-94...    or  44.076513   \n",
      "78    ***Call Us for more information at: 541-228-94...    or  44.076513   \n",
      "273   ***Call Us for more information at: 877-262-34...    hi  21.344376   \n",
      "423   2019 *Dodge* *Grand Caravan* SE - $43,900Call ...    co  39.674406   \n",
      "...                                                 ...   ...        ...   \n",
      "8682  ***Call Us for more information at: 732-316-55...    nj  40.468650   \n",
      "9351  2010 *Ford* *E-350* 12 Passenger Van - $14,997...    fl  27.479823   \n",
      "9541  ***Call Us for more information at: 541-228-94...    or  44.076513   \n",
      "9708  Car Starz Call Sales at 717-401-4221 2012 Hond...    pa  41.261540   \n",
      "9718  ***Call Us for more information at: 541-228-94...    or  44.076513   \n",
      "\n",
      "            long              posting_date price_category  \\\n",
      "1     -74.061962  2021-05-03T15:40:21-0400         medium   \n",
      "32   -123.150156  2021-04-20T10:40:15-0700            low   \n",
      "78   -123.150156  2021-04-29T15:15:30-0700           high   \n",
      "273  -157.896975  2021-04-30T15:50:19-1000           high   \n",
      "423  -104.998604  2021-05-02T01:11:33-0600           high   \n",
      "...          ...                       ...            ...   \n",
      "8682  -74.296990  2021-04-27T18:15:18-0400           high   \n",
      "9351  -82.571497  2021-04-19T14:01:14-0400         medium   \n",
      "9541 -123.150156  2021-04-27T12:10:24-0700         medium   \n",
      "9708  -78.704520  2021-04-28T14:25:32-0400            low   \n",
      "9718 -123.150156  2021-04-29T09:05:16-0700         medium   \n",
      "\n",
      "                           date  \n",
      "1     2021-05-03 19:40:21+00:00  \n",
      "32    2021-04-20 17:40:15+00:00  \n",
      "78    2021-04-29 22:15:30+00:00  \n",
      "273   2021-05-01 01:50:19+00:00  \n",
      "423   2021-05-02 07:11:33+00:00  \n",
      "...                         ...  \n",
      "8682  2021-04-27 22:15:18+00:00  \n",
      "9351  2021-04-19 18:01:14+00:00  \n",
      "9541  2021-04-27 19:10:24+00:00  \n",
      "9708  2021-04-28 18:25:32+00:00  \n",
      "9718  2021-04-29 16:05:16+00:00  \n",
      "\n",
      "[61 rows x 20 columns]\n"
     ]
    }
   ],
   "source": [
    "print(\"Записи, в которых год выпуска автомобиля не заполнен:\")\n",
    "print(df[df['fuel'].isnull()])"
   ]
  },
  {
   "cell_type": "markdown",
   "id": "7b69102c",
   "metadata": {
    "id": "7b69102c"
   },
   "source": [
    "4. Обработайте пропуски, заполнив незаполненные значения типа топлива значением `other`, и сохраните изменения. Обратите внимание, что мы заполняем пропуски не самым популярным значением в выборке.\n"
   ]
  },
  {
   "cell_type": "code",
   "execution_count": 51,
   "id": "c3bd2437",
   "metadata": {
    "id": "c3bd2437"
   },
   "outputs": [
    {
     "name": "stdout",
     "output_type": "stream",
     "text": [
      "Количество пропусков в 'fuel': 0\n"
     ]
    }
   ],
   "source": [
    " df['fuel'] = df['fuel'].fillna('other')\n",
    " print(\"Количество пропусков в 'fuel':\", df['fuel'].isnull().sum())"
   ]
  },
  {
   "cell_type": "markdown",
   "id": "3cb6701f",
   "metadata": {
    "id": "3cb6701f"
   },
   "source": [
    "5. Выведите для обновлённого датафрейма количество пропущенных значений для типа топлива."
   ]
  },
  {
   "cell_type": "code",
   "execution_count": 59,
   "id": "94a068c8",
   "metadata": {
    "ExecuteTime": {
     "end_time": "2022-01-29T23:41:38.917684Z",
     "start_time": "2022-01-29T23:41:38.912363Z"
    },
    "id": "94a068c8",
    "outputId": "1749a195-25a2-4e4b-f75b-dff9ffb22334"
   },
   "outputs": [
    {
     "name": "stdout",
     "output_type": "stream",
     "text": [
      "Количество пропущенных значений в fuel: 0\n"
     ]
    }
   ],
   "source": [
    "print(\"Количество пропущенных значений в fuel: \", end=\"\") \n",
    "print(df['fuel'].isnull().sum())"
   ]
  },
  {
   "cell_type": "markdown",
   "id": "3a5a3b5a",
   "metadata": {
    "ExecuteTime": {
     "end_time": "2022-01-29T00:21:16.896209Z",
     "start_time": "2022-01-29T00:21:16.888894Z"
    },
    "id": "3a5a3b5a"
   },
   "source": [
    "### Задача 4. Обработка пропусков в модели автомобиля\n",
    "\n",
    "1. Выведите количество значений для модели автомобиля, включая пропущенные значения. Обратите внимание на количество пропущенных значений.\n",
    "\n"
   ]
  },
  {
   "cell_type": "code",
   "execution_count": 65,
   "id": "08a6f7d6",
   "metadata": {
    "ExecuteTime": {
     "end_time": "2022-01-29T15:57:41.691082Z",
     "start_time": "2022-01-29T15:57:41.675965Z"
    },
    "id": "08a6f7d6"
   },
   "outputs": [
    {
     "name": "stdout",
     "output_type": "stream",
     "text": [
      "Количество значений для каждой модели (включая пропущенные):\n",
      "model\n",
      "f-150                        148\n",
      "NaN                          126\n",
      "silverado 1500               106\n",
      "1500                         100\n",
      "camry                         76\n",
      "                            ... \n",
      "grand caravan sport            1\n",
      "Nascar                         1\n",
      "titan le                       1\n",
      "sorrento lx v6                 1\n",
      "a3 2.0t premium plus pzev      1\n",
      "Name: count, Length: 3458, dtype: int64\n",
      "\n",
      "Общее количество пропущенных значений в столбце 'model': 126\n"
     ]
    }
   ],
   "source": [
    "print(\"Количество значений для каждой модели (включая пропущенные):\")\n",
    "print(df['model'].value_counts(dropna=False))\n",
    "missing_count = df['model'].isnull().sum()\n",
    "print(f\"\\nОбщее количество пропущенных значений в столбце 'model': {missing_count}\")"
   ]
  },
  {
   "cell_type": "markdown",
   "id": "e2b04990",
   "metadata": {
    "id": "e2b04990"
   },
   "source": [
    "2. Выведите описательные статистики для модели автомобиля.\n"
   ]
  },
  {
   "cell_type": "code",
   "execution_count": 67,
   "id": "cce6d25a",
   "metadata": {
    "id": "cce6d25a"
   },
   "outputs": [
    {
     "name": "stdout",
     "output_type": "stream",
     "text": [
      "Описательные статистики для года выпуска автомобиля:\n",
      "count      9776\n",
      "unique     3457\n",
      "top       f-150\n",
      "freq        148\n",
      "Name: model, dtype: object\n"
     ]
    }
   ],
   "source": [
    "print(\"Описательные статистики для года выпуска автомобиля:\")\n",
    "print(df['model'].describe())"
   ]
  },
  {
   "cell_type": "markdown",
   "id": "960533a8",
   "metadata": {
    "id": "960533a8"
   },
   "source": [
    "3. Выведите записи, в которых модель автомобиля не заполнена. Посмотрите на данные и подумайте, какую стратегию обработки значений можно применить.\n"
   ]
  },
  {
   "cell_type": "code",
   "execution_count": 71,
   "id": "b7bb7387",
   "metadata": {
    "id": "b7bb7387"
   },
   "outputs": [
    {
     "name": "stdout",
     "output_type": "stream",
     "text": [
      "Количество записей с пропущенной моделью: 126\n",
      "\n",
      "Записи с пропущенной моделью:\n",
      "              id                                                url  \\\n",
      "67    7316913641  https://ventura.craigslist.org/cto/d/camarillo...   \n",
      "140   7316550853  https://chicago.craigslist.org/chc/cto/d/midlo...   \n",
      "149   7303575863  https://worcester.craigslist.org/ctd/d/fitchbu...   \n",
      "198   7315267860  https://gainesville.craigslist.org/ctd/d/kissi...   \n",
      "249   7316024407  https://reading.craigslist.org/ctd/d/paterson-...   \n",
      "...          ...                                                ...   \n",
      "9469  7314341390  https://desmoines.craigslist.org/cto/d/urbanda...   \n",
      "9521  7304358131  https://vermont.craigslist.org/ctd/d/salem-201...   \n",
      "9573  7309686008  https://louisville.craigslist.org/cto/d/radcli...   \n",
      "9828  7316447901  https://tulsa.craigslist.org/cto/d/tulsa-2017-...   \n",
      "9874  7316458200  https://portland.craigslist.org/mlt/cto/d/port...   \n",
      "\n",
      "                      region                          region_url  price  \\\n",
      "67            ventura county      https://ventura.craigslist.org   3000   \n",
      "140                  chicago      https://chicago.craigslist.org   3000   \n",
      "149   worcester / central MA    https://worcester.craigslist.org   7800   \n",
      "198              gainesville  https://gainesville.craigslist.org  19200   \n",
      "249                  reading      https://reading.craigslist.org  18695   \n",
      "...                      ...                                 ...    ...   \n",
      "9469              des moines    https://desmoines.craigslist.org   8000   \n",
      "9521                 vermont      https://vermont.craigslist.org  19944   \n",
      "9573              louisville   https://louisville.craigslist.org   1600   \n",
      "9828                   tulsa        https://tulsa.craigslist.org  65000   \n",
      "9874                portland     https://portland.craigslist.org  18500   \n",
      "\n",
      "        year manufacturer model    fuel  odometer title_status transmission  \\\n",
      "67    2005.0        rover   NaN     gas    165206        clean    automatic   \n",
      "140   2006.0         jeep   NaN     gas    132000        clean    automatic   \n",
      "149   2007.0          gmc   NaN     gas    190000        clean    automatic   \n",
      "198   2012.0          ram   NaN     gas    121371        clean    automatic   \n",
      "249   2007.0          ram   NaN  diesel    220019        clean    automatic   \n",
      "...      ...          ...   ...     ...       ...          ...          ...   \n",
      "9469  2007.0       toyota   NaN     gas     85285        clean    automatic   \n",
      "9521  2012.0          ram   NaN     gas     73082        clean    automatic   \n",
      "9573  2005.0          gmc   NaN     gas     52536        clean    automatic   \n",
      "9828  2017.0        rover   NaN     gas     47000        clean    automatic   \n",
      "9874  1972.0    chevrolet   NaN     gas     75000        clean    automatic   \n",
      "\n",
      "                                              image_url  \\\n",
      "67    https://images.craigslist.org/00S0S_b3yx6L4N2S...   \n",
      "140   https://images.craigslist.org/01111_kNv3EKjH4H...   \n",
      "149   https://images.craigslist.org/00f0f_iWjiToqea2...   \n",
      "198   https://images.craigslist.org/00W0W_hHV4D0Po0G...   \n",
      "249   https://images.craigslist.org/00n0n_jgq4eOvH7I...   \n",
      "...                                                 ...   \n",
      "9469  https://images.craigslist.org/00K0K_aMoJgOIueB...   \n",
      "9521  https://images.craigslist.org/00A0A_bfCaGJ20IX...   \n",
      "9573  https://images.craigslist.org/01111_99unV6cYER...   \n",
      "9828  https://images.craigslist.org/00s0s_iGpmplDL99...   \n",
      "9874  https://images.craigslist.org/00x0x_7FqS8iHJst...   \n",
      "\n",
      "                                            description state        lat  \\\n",
      "67    2005 Range Rover HSE  Changed Oil and now engi...    ca  34.219565   \n",
      "140   SUPER CLEAN 2006 JEEP LIBEERY RANAGADE  4X4  O...    il  41.618957   \n",
      "149   2007 gmc with plow leather loaded nice truck r...    ma  42.579600   \n",
      "198   2012 RAM 1500 Laramie Crew Cab 2WD     Offered...    fl  28.329026   \n",
      "249   2007 Dodge Ram 2500 SLT 4x4 Quad Cab Cummins D...    pa  40.894535   \n",
      "...                                                 ...   ...        ...   \n",
      "9469  Toyota has been owned by non smoker with no pe...    ia  41.629500   \n",
      "9521  2012 RAM 1500 4WD REGULAR CAB SHORT BED 5.7 HE...    vt  42.788204   \n",
      "9573  GMC Savana PRO AWD cargo van has been driven l...    ky  37.858900   \n",
      "9828  2017 Range Rover HSE, supercharged V8, silver ...    ok  36.126200   \n",
      "9874  1972 classic Chevrolet pick up custom  deluxe ...    or  45.494960   \n",
      "\n",
      "            long              posting_date price_category  \\\n",
      "67   -119.001986  2021-05-04T13:11:15-0700            low   \n",
      "140   -87.726334  2021-05-03T20:33:40-0500            low   \n",
      "149   -71.803100  2021-04-08T09:10:07-0400            low   \n",
      "198   -81.404237  2021-05-01T10:05:17-0400         medium   \n",
      "249   -74.152367  2021-05-02T21:06:09-0400         medium   \n",
      "...          ...                       ...            ...   \n",
      "9469  -93.723000  2021-04-29T10:50:54-0500            low   \n",
      "9521  -71.233728  2021-04-09T16:24:23-0400         medium   \n",
      "9573  -86.006900  2021-04-20T04:48:30-0400            low   \n",
      "9828  -95.940800  2021-05-03T16:37:36-0500           high   \n",
      "9874 -122.666988  2021-05-03T14:58:34-0700         medium   \n",
      "\n",
      "                           date  \n",
      "67    2021-05-04 20:11:15+00:00  \n",
      "140   2021-05-04 01:33:40+00:00  \n",
      "149   2021-04-08 13:10:07+00:00  \n",
      "198   2021-05-01 14:05:17+00:00  \n",
      "249   2021-05-03 01:06:09+00:00  \n",
      "...                         ...  \n",
      "9469  2021-04-29 15:50:54+00:00  \n",
      "9521  2021-04-09 20:24:23+00:00  \n",
      "9573  2021-04-20 08:48:30+00:00  \n",
      "9828  2021-05-03 21:37:36+00:00  \n",
      "9874  2021-05-03 21:58:34+00:00  \n",
      "\n",
      "[126 rows x 20 columns]\n"
     ]
    }
   ],
   "source": [
    "missing_model = df[df['model'].isnull()]\n",
    "\n",
    "print(\"Количество записей с пропущенной моделью:\", len(missing_model))\n",
    "print(\"\\nЗаписи с пропущенной моделью:\")\n",
    "print(missing_model)"
   ]
  },
  {
   "cell_type": "markdown",
   "id": "c74dbec2",
   "metadata": {
    "id": "c74dbec2"
   },
   "source": [
    "4. Если подробнее изучить значения описания автомобиля, то, возможно, модель автомобиля получится восстановить из описания. Сейчас обработайте пропуски, заполнив незаполненные значения модели автомобиля значением `other`, и сохраните изменения. Обратите внимание, что мы в очередной раз заполняем пропуски не самым популярным значением в выборке.\n"
   ]
  },
  {
   "cell_type": "code",
   "execution_count": 79,
   "id": "4f910cd1",
   "metadata": {
    "id": "4f910cd1"
   },
   "outputs": [
    {
     "name": "stdout",
     "output_type": "stream",
     "text": [
      "Количество пропусков в 'model': 0\n"
     ]
    }
   ],
   "source": [
    "df['model'].fillna('other', inplace=True)\n",
    "print(\"Количество пропусков в 'model':\", df['model'].isnull().sum())"
   ]
  },
  {
   "cell_type": "markdown",
   "id": "ca268e24",
   "metadata": {
    "id": "ca268e24"
   },
   "source": [
    "5. Выведите для обновлённого датафрейма количество пропущенных значений для модели автомобиля."
   ]
  },
  {
   "cell_type": "code",
   "execution_count": 81,
   "id": "2ca76c69",
   "metadata": {
    "id": "2ca76c69"
   },
   "outputs": [
    {
     "name": "stdout",
     "output_type": "stream",
     "text": [
      "Количество пропущенных значений в model: 0\n"
     ]
    }
   ],
   "source": [
    "print(\"Количество пропущенных значений в model: \", end=\"\") \n",
    "print(df['model'].isnull().sum())"
   ]
  },
  {
   "cell_type": "markdown",
   "id": "7b18d51a",
   "metadata": {
    "ExecuteTime": {
     "end_time": "2022-01-29T23:59:37.851299Z",
     "start_time": "2022-01-29T23:59:37.835225Z"
    },
    "id": "7b18d51a"
   },
   "source": [
    "### Задача 5. Обработка пропусков в статусе автомобиля\n",
    "\n",
    "1. Выведите количество значений для статуса автомобиля, включая пропущенные значения. Обратите внимание на количество пропущенных значений.\n"
   ]
  },
  {
   "cell_type": "code",
   "execution_count": 83,
   "id": "0e35ec5d",
   "metadata": {
    "id": "0e35ec5d"
   },
   "outputs": [
    {
     "name": "stdout",
     "output_type": "stream",
     "text": [
      "Количество значений для каждого статуса (включая пропущенные):\n",
      "title_status\n",
      "clean         9423\n",
      "rebuilt        171\n",
      "NaN            164\n",
      "salvage         91\n",
      "lien            35\n",
      "missing         16\n",
      "parts only       2\n",
      "Name: count, dtype: int64\n",
      "\n",
      "Количество пропущенных значений в столбце 'title_status': 164\n"
     ]
    }
   ],
   "source": [
    "print(\"Количество значений для каждого статуса (включая пропущенные):\")\n",
    "print(df['title_status'].value_counts(dropna=False))\n",
    "\n",
    "missing_count = df['title_status'].isnull().sum()\n",
    "print(f\"\\nКоличество пропущенных значений в столбце 'title_status': {missing_count}\")"
   ]
  },
  {
   "cell_type": "markdown",
   "id": "cb04e35d",
   "metadata": {
    "id": "cb04e35d"
   },
   "source": [
    "2. Выведите описательные статистики для модели автомобиля.\n",
    "\n"
   ]
  },
  {
   "cell_type": "code",
   "execution_count": 87,
   "id": "f1b5bdaf",
   "metadata": {
    "id": "f1b5bdaf"
   },
   "outputs": [
    {
     "name": "stdout",
     "output_type": "stream",
     "text": [
      "Описательные статистики для года выпуска автомобиля:\n",
      "count      9738\n",
      "unique        6\n",
      "top       clean\n",
      "freq       9423\n",
      "Name: title_status, dtype: object\n"
     ]
    }
   ],
   "source": [
    "print(\"Описательные статистики для года выпуска автомобиля:\")\n",
    "print(df['title_status'].describe())"
   ]
  },
  {
   "cell_type": "markdown",
   "id": "ae924298",
   "metadata": {
    "id": "ae924298"
   },
   "source": [
    "3. Выведите записи, в которых статус автомобиля не заполнен. Посмотрите на данные и подумайте, какую стратегию обработки значений можно применить.\n"
   ]
  },
  {
   "cell_type": "code",
   "execution_count": 85,
   "id": "45d70a32",
   "metadata": {
    "ExecuteTime": {
     "end_time": "2022-01-30T00:01:43.737968Z",
     "start_time": "2022-01-30T00:01:43.735051Z"
    },
    "id": "45d70a32"
   },
   "outputs": [
    {
     "name": "stdout",
     "output_type": "stream",
     "text": [
      "Количество записей с пропущенной моделью: 126\n",
      "\n",
      "Записи с пропущенной моделью:\n",
      "              id                                                url  \\\n",
      "11    7316540706  https://cincinnati.craigslist.org/ctd/d/fairfi...   \n",
      "185   7313570594  https://orangecounty.craigslist.org/ctd/d/coro...   \n",
      "243   7315211652  https://ocala.craigslist.org/ctd/d/riverview-2...   \n",
      "284   7306702976  https://toledo.craigslist.org/ctd/d/chelsea-73...   \n",
      "310   7307609203  https://roseburg.craigslist.org/ctd/d/eugene-2...   \n",
      "...          ...                                                ...   \n",
      "9643  7301707830  https://tricities.craigslist.org/ctd/d/bristol...   \n",
      "9708  7313949726  https://harrisburg.craigslist.org/ctd/d/brockp...   \n",
      "9743  7314987181  https://nashville.craigslist.org/ctd/d/nashvil...   \n",
      "9759  7309717260  https://savannah.craigslist.org/ctd/d/jacksonv...   \n",
      "9883  7315557731  https://minneapolis.craigslist.org/csw/ctd/d/d...   \n",
      "\n",
      "                     region                           region_url  price  \\\n",
      "11               cincinnati    https://cincinnati.craigslist.org   4995   \n",
      "185           orange county  https://orangecounty.craigslist.org  17900   \n",
      "243                   ocala         https://ocala.craigslist.org  40990   \n",
      "284                  toledo        https://toledo.craigslist.org   4592   \n",
      "310                roseburg      https://roseburg.craigslist.org  18450   \n",
      "...                     ...                                  ...    ...   \n",
      "9643             tri-cities     https://tricities.craigslist.org   8995   \n",
      "9708             harrisburg    https://harrisburg.craigslist.org   8900   \n",
      "9743              nashville     https://nashville.craigslist.org  20900   \n",
      "9759  savannah / hinesville      https://savannah.craigslist.org  11495   \n",
      "9883  minneapolis / st paul   https://minneapolis.craigslist.org  38943   \n",
      "\n",
      "        year manufacturer                    model    fuel  odometer  \\\n",
      "11    2012.0         fiat                  500 pop     gas     59242   \n",
      "185   2013.0          ram  1500 tradesman quad cab     gas    145499   \n",
      "243   2019.0       toyota               sienna xle     gas      3700   \n",
      "284   2003.0    chevrolet           avalanche 1500     gas    268691   \n",
      "310   2017.0         ford                  mustang     gas     66049   \n",
      "...      ...          ...                      ...     ...       ...   \n",
      "9643  2013.0        honda                  odyssey     gas    203112   \n",
      "9708  2012.0        honda                   accord   other     95674   \n",
      "9743  2014.0        lexus                   rx 350     gas     70800   \n",
      "9759  2006.0        lexus                   gx 470     gas    242000   \n",
      "9883  2008.0         ford   f750 super duty - 55ft  diesel     81214   \n",
      "\n",
      "     title_status transmission  \\\n",
      "11            NaN       manual   \n",
      "185           NaN    automatic   \n",
      "243           NaN    automatic   \n",
      "284           NaN    automatic   \n",
      "310           NaN    automatic   \n",
      "...           ...          ...   \n",
      "9643          NaN    automatic   \n",
      "9708          NaN        other   \n",
      "9743          NaN    automatic   \n",
      "9759          NaN    automatic   \n",
      "9883          NaN    automatic   \n",
      "\n",
      "                                              image_url  \\\n",
      "11    https://images.craigslist.org/00Z0Z_jbUmVcYlwR...   \n",
      "185   https://images.craigslist.org/00H0H_1JFMPCYyW8...   \n",
      "243   https://images.craigslist.org/01111_grKNF8GrXz...   \n",
      "284   https://images.craigslist.org/00808_1IOMJuA4GL...   \n",
      "310   https://images.craigslist.org/00505_4apF36sLbP...   \n",
      "...                                                 ...   \n",
      "9643  https://images.craigslist.org/00u0u_bawW7HN8xW...   \n",
      "9708  https://images.craigslist.org/01212_dsfYRNhxfd...   \n",
      "9743  https://images.craigslist.org/00Q0Q_cGablAkoYV...   \n",
      "9759  https://images.craigslist.org/00s0s_8xg4gw6aAg...   \n",
      "9883  https://images.craigslist.org/00y0y_5jr8fQlu7e...   \n",
      "\n",
      "                                            description state        lat  \\\n",
      "11    2012 Fiat 500 Pop FOR ONLY $102/mo!59,242 mi. ...    oh  39.297045   \n",
      "185   2013 Ram 1500 Tradesman Quad Cab PRICED TO SEL...    ca  33.873436   \n",
      "243   2019 Toyota Sienna - Wheelchair Accessible Han...    fl  27.849760   \n",
      "284   $73/mo - 2003 Chevrolet Avalanche 1500 BaseCre...    oh  42.300673   \n",
      "310   2017 Ford MUSTANG - $18,450 \\tMayberry Motors ...    or  44.058499   \n",
      "...                                                 ...   ...        ...   \n",
      "9643  2013 *Honda* *Odyssey* 5dr EX Van FWD - $8,995...    tn  36.541821   \n",
      "9708  Car Starz Call Sales at 717-401-4221 2012 Hond...    pa  41.261540   \n",
      "9743  2014 *Lexus* *RX 350* 2014 LEXUS RX 350 SUV 1-...    tn  36.138022   \n",
      "9759  2006 *Lexus* *GX 470* 4dr SUV 4WD - $11,495By ...    ga  30.513566   \n",
      "9883  2008 Ford F750 F 750 F-750 Super Duty 55ft 55 ...    mn  45.082884   \n",
      "\n",
      "            long              posting_date price_category  \\\n",
      "11    -84.563243  2021-05-03T21:03:32-0400            low   \n",
      "185  -117.542806  2021-04-27T15:03:47-0700         medium   \n",
      "243   -82.364950  2021-05-01T06:35:56-0400           high   \n",
      "284   -84.024108  2021-04-14T12:03:01-0400            low   \n",
      "310  -123.106176  2021-04-16T04:06:29-0700         medium   \n",
      "...          ...                       ...            ...   \n",
      "9643  -82.234645  2021-04-04T13:12:27-0400            low   \n",
      "9708  -78.704520  2021-04-28T14:25:32-0400            low   \n",
      "9743  -86.732261  2021-04-30T15:00:48-0500         medium   \n",
      "9759  -81.621875  2021-04-20T08:01:49-0400         medium   \n",
      "9883  -94.334760  2021-05-01T18:03:06-0500           high   \n",
      "\n",
      "                           date  \n",
      "11    2021-05-04 01:03:32+00:00  \n",
      "185   2021-04-27 22:03:47+00:00  \n",
      "243   2021-05-01 10:35:56+00:00  \n",
      "284   2021-04-14 16:03:01+00:00  \n",
      "310   2021-04-16 11:06:29+00:00  \n",
      "...                         ...  \n",
      "9643  2021-04-04 17:12:27+00:00  \n",
      "9708  2021-04-28 18:25:32+00:00  \n",
      "9743  2021-04-30 20:00:48+00:00  \n",
      "9759  2021-04-20 12:01:49+00:00  \n",
      "9883  2021-05-01 23:03:06+00:00  \n",
      "\n",
      "[164 rows x 20 columns]\n"
     ]
    }
   ],
   "source": [
    "missing_mode2 = df[df['title_status'].isnull()]\n",
    "\n",
    "print(\"Количество записей с пропущенной моделью:\", len(missing_model))\n",
    "print(\"\\nЗаписи с пропущенной моделью:\")\n",
    "print(missing_mode2)"
   ]
  },
  {
   "cell_type": "markdown",
   "id": "d36289b1",
   "metadata": {
    "id": "d36289b1"
   },
   "source": [
    "4. Обработайте пропуски, заполнив незаполненные значения статуса автомобиля самым популярным значением, и сохраните изменения. Самое популярное значение передайте не в виде строки, а получите моду.\n"
   ]
  },
  {
   "cell_type": "code",
   "execution_count": 93,
   "id": "10883943",
   "metadata": {
    "id": "10883943"
   },
   "outputs": [
    {
     "name": "stdout",
     "output_type": "stream",
     "text": [
      "Пропущенные значения в столбце 'title_status' заполнены значением 'clean'.\n"
     ]
    }
   ],
   "source": [
    "most_frequent_status = df['title_status'].mode()[0]\n",
    "df['title_status'].fillna(most_frequent_status, inplace=True)\n",
    "print(f\"Пропущенные значения в столбце 'title_status' заполнены значением '{most_frequent_status}'.\")"
   ]
  },
  {
   "cell_type": "markdown",
   "id": "939969e6",
   "metadata": {
    "id": "939969e6"
   },
   "source": [
    "5. Выведите для обновлённого датафрейма количество пропущенных значений для статуса автомобиля.\n"
   ]
  },
  {
   "cell_type": "code",
   "execution_count": 99,
   "id": "c3139354",
   "metadata": {
    "id": "c3139354"
   },
   "outputs": [
    {
     "name": "stdout",
     "output_type": "stream",
     "text": [
      "Количество пропущенных значений в title_status:\n",
      "0\n"
     ]
    }
   ],
   "source": [
    "print(\"Количество пропущенных значений в title_status:\") \n",
    "print(df['title_status'].isnull().sum())"
   ]
  },
  {
   "cell_type": "markdown",
   "id": "b9ed8462",
   "metadata": {
    "id": "b9ed8462"
   },
   "source": [
    "6. Ещё раз выведите количество полностью заполненных объектов и их процент из всей выборки. После обработки всех пропусков можно переходить к следующему этапу."
   ]
  },
  {
   "cell_type": "code",
   "execution_count": 121,
   "id": "6fedeb3c",
   "metadata": {
    "id": "6fedeb3c"
   },
   "outputs": [
    {
     "name": "stdout",
     "output_type": "stream",
     "text": [
      "Общее количество строк в DataFrame: 9902\n",
      "Количество полностью заполненных строк: 9868\n",
      "Процент полностью заполненных строк: 99.65663502322764%\n"
     ]
    }
   ],
   "source": [
    "total_rows = len(df)\n",
    "complete_rows = df.dropna().shape[0]\n",
    "percentage = (complete_rows / total_rows * 100)\n",
    "print(f\"Общее количество строк в DataFrame: {total_rows}\")\n",
    "print(f\"Количество полностью заполненных строк: {complete_rows}\")\n",
    "print(f\"Процент полностью заполненных строк: {percentage}%\")\n"
   ]
  },
  {
   "cell_type": "markdown",
   "id": "407df76a",
   "metadata": {
    "ExecuteTime": {
     "end_time": "2022-01-30T00:13:50.405251Z",
     "start_time": "2022-01-30T00:13:50.398978Z"
    },
    "id": "407df76a"
   },
   "source": [
    "### Задача 6. Преобразование типа данных в годе выпуска автомобиля\n",
    "1.  Выведите информацию о датафрейме и обратите внимание на типы данных.\n"
   ]
  },
  {
   "cell_type": "code",
   "execution_count": 123,
   "id": "f3d4d751",
   "metadata": {
    "id": "f3d4d751"
   },
   "outputs": [
    {
     "name": "stdout",
     "output_type": "stream",
     "text": [
      "<class 'pandas.core.frame.DataFrame'>\n",
      "RangeIndex: 9902 entries, 0 to 9901\n",
      "Data columns (total 20 columns):\n",
      " #   Column          Non-Null Count  Dtype  \n",
      "---  ------          --------------  -----  \n",
      " 0   id              9902 non-null   int64  \n",
      " 1   url             9902 non-null   object \n",
      " 2   region          9902 non-null   object \n",
      " 3   region_url      9902 non-null   object \n",
      " 4   price           9902 non-null   int64  \n",
      " 5   year            9868 non-null   float64\n",
      " 6   manufacturer    9902 non-null   object \n",
      " 7   model           9902 non-null   object \n",
      " 8   fuel            9902 non-null   object \n",
      " 9   odometer        9902 non-null   int64  \n",
      " 10  title_status    9902 non-null   object \n",
      " 11  transmission    9902 non-null   object \n",
      " 12  image_url       9902 non-null   object \n",
      " 13  description     9902 non-null   object \n",
      " 14  state           9902 non-null   object \n",
      " 15  lat             9902 non-null   float64\n",
      " 16  long            9902 non-null   float64\n",
      " 17  posting_date    9902 non-null   object \n",
      " 18  price_category  9902 non-null   object \n",
      " 19  date            9902 non-null   object \n",
      "dtypes: float64(3), int64(3), object(14)\n",
      "memory usage: 1.5+ MB\n",
      "None\n",
      "\n",
      "Количество пропущенных значений по столбцам:\n",
      "id                 0\n",
      "url                0\n",
      "region             0\n",
      "region_url         0\n",
      "price              0\n",
      "year              34\n",
      "manufacturer       0\n",
      "model              0\n",
      "fuel               0\n",
      "odometer           0\n",
      "title_status       0\n",
      "transmission       0\n",
      "image_url          0\n",
      "description        0\n",
      "state              0\n",
      "lat                0\n",
      "long               0\n",
      "posting_date       0\n",
      "price_category     0\n",
      "date               0\n",
      "dtype: int64\n",
      "\n",
      "Процент пропущенных значений по столбцам:\n",
      "id                0.000000\n",
      "url               0.000000\n",
      "region            0.000000\n",
      "region_url        0.000000\n",
      "price             0.000000\n",
      "year              0.343365\n",
      "manufacturer      0.000000\n",
      "model             0.000000\n",
      "fuel              0.000000\n",
      "odometer          0.000000\n",
      "title_status      0.000000\n",
      "transmission      0.000000\n",
      "image_url         0.000000\n",
      "description       0.000000\n",
      "state             0.000000\n",
      "lat               0.000000\n",
      "long              0.000000\n",
      "posting_date      0.000000\n",
      "price_category    0.000000\n",
      "date              0.000000\n",
      "dtype: float64\n"
     ]
    }
   ],
   "source": [
    "print(df.info())\n",
    "print(\"\\nКоличество пропущенных значений по столбцам:\")\n",
    "print(df.isnull().sum())\n",
    "print(\"\\nПроцент пропущенных значений по столбцам:\")\n",
    "print(df.isnull().mean() * 100)"
   ]
  },
  {
   "cell_type": "markdown",
   "id": "71561e8d",
   "metadata": {
    "id": "71561e8d"
   },
   "source": [
    "2. Выведите описательные статистики для года выпуска автомобиля. Обратите внимание на тип данных.\n",
    "\n"
   ]
  },
  {
   "cell_type": "code",
   "execution_count": 125,
   "id": "29919539",
   "metadata": {
    "id": "29919539"
   },
   "outputs": [
    {
     "name": "stdout",
     "output_type": "stream",
     "text": [
      "Описательные статистики для года выпуска автомобиля:\n",
      "count      9902\n",
      "unique        6\n",
      "top       clean\n",
      "freq       9587\n",
      "Name: title_status, dtype: object\n"
     ]
    }
   ],
   "source": [
    "print(\"Описательные статистики для года выпуска автомобиля:\")\n",
    "print(df['title_status'].describe())"
   ]
  },
  {
   "cell_type": "markdown",
   "id": "1efd4a88",
   "metadata": {
    "id": "1efd4a88"
   },
   "source": [
    "3. Измените тип данных для года выпуска на более подходящий целочисленный тип и выведите получившийся тип данных только для года выпуска."
   ]
  },
  {
   "cell_type": "code",
   "execution_count": 133,
   "id": "edf757e9",
   "metadata": {
    "id": "edf757e9"
   },
   "outputs": [
    {
     "name": "stdout",
     "output_type": "stream",
     "text": [
      "Тип данных для столбца 'year' после преобразования: int32\n"
     ]
    }
   ],
   "source": [
    "df['year'] = df['year'].fillna(0)\n",
    "df['year'] = df['year'].astype('int')\n",
    "print(f\"Тип данных для столбца 'year' после преобразования: {df['year'].dtype}\")"
   ]
  },
  {
   "cell_type": "markdown",
   "id": "7c27a6d1",
   "metadata": {
    "id": "7c27a6d1"
   },
   "source": [
    "### Задача 7. Преобразование типа данных в категориальных переменных\n",
    "\n",
    "1. Выведите тип данных для типа топлива автомобиля.\n"
   ]
  },
  {
   "cell_type": "code",
   "execution_count": 135,
   "id": "1eb44d15",
   "metadata": {
    "id": "1eb44d15"
   },
   "outputs": [
    {
     "name": "stdout",
     "output_type": "stream",
     "text": [
      "Тип данных для столбца 'fuel': object\n"
     ]
    }
   ],
   "source": [
    " print(f\"Тип данных для столбца 'fuel': {df['fuel'].dtype}\")"
   ]
  },
  {
   "cell_type": "markdown",
   "id": "a6b63b6b",
   "metadata": {
    "id": "a6b63b6b"
   },
   "source": [
    "2. Категориальным переменным можно задавать специальный тип данных `category`. Подробнее об этом можно прочитать в [документации](https://pandas.pydata.org/pandas-docs/stable/user_guide/categorical.html). Укажите для типа топлива тип данных `category`, сохраните изменения в переменную `series` и выведите её.\n"
   ]
  },
  {
   "cell_type": "code",
   "execution_count": 143,
   "id": "c5d4ba82",
   "metadata": {
    "id": "c5d4ba82"
   },
   "outputs": [
    {
     "name": "stdout",
     "output_type": "stream",
     "text": [
      "Тип данных для столбца 'fuel' после преобразования: category\n",
      "\n",
      "Series с типом данных category:\n",
      "0       diesel\n",
      "1        other\n",
      "2          gas\n",
      "3          gas\n",
      "4          gas\n",
      "         ...  \n",
      "9897       gas\n",
      "9898       gas\n",
      "9899       gas\n",
      "9900    hybrid\n",
      "9901       gas\n",
      "Name: fuel, Length: 9902, dtype: category\n",
      "Categories (5, object): ['diesel', 'electric', 'gas', 'hybrid', 'other']\n"
     ]
    }
   ],
   "source": [
    "series = df['fuel'].astype('category')\n",
    "print(f\"Тип данных для столбца 'fuel' после преобразования: {series.dtype}\")\n",
    "print(\"\\nSeries с типом данных category:\")\n",
    "print(series)"
   ]
  },
  {
   "cell_type": "markdown",
   "id": "18649b60",
   "metadata": {
    "id": "18649b60"
   },
   "source": [
    "3. Выведите тип данных для серии. Обратите внимание на структуру вывода."
   ]
  },
  {
   "cell_type": "code",
   "execution_count": 147,
   "id": "2c6ccc89",
   "metadata": {
    "id": "2c6ccc89"
   },
   "outputs": [
    {
     "name": "stdout",
     "output_type": "stream",
     "text": [
      "Тип данных для столбца 'fuel' после преобразования: category\n",
      "\n",
      "Series с типом данных category:\n",
      "0       diesel\n",
      "1        other\n",
      "2          gas\n",
      "3          gas\n",
      "4          gas\n",
      "         ...  \n",
      "9897       gas\n",
      "9898       gas\n",
      "9899       gas\n",
      "9900    hybrid\n",
      "9901       gas\n",
      "Name: fuel, Length: 9902, dtype: category\n",
      "Categories (5, object): ['diesel', 'electric', 'gas', 'hybrid', 'other']\n"
     ]
    }
   ],
   "source": [
    "print(f\"Тип данных для столбца 'fuel' после преобразования: {series.dtype}\")\n",
    "print(\"\\nSeries с типом данных category:\")\n",
    "print(series)"
   ]
  },
  {
   "cell_type": "markdown",
   "id": "7785ab5a",
   "metadata": {
    "id": "7785ab5a"
   },
   "source": [
    "4. Выведите первые две категории, используя вывод типа данных выше."
   ]
  },
  {
   "cell_type": "code",
   "execution_count": 149,
   "id": "1dbe47fa",
   "metadata": {
    "ExecuteTime": {
     "end_time": "2022-01-30T00:38:20.120004Z",
     "start_time": "2022-01-30T00:38:20.116934Z"
    },
    "id": "1dbe47fa"
   },
   "outputs": [
    {
     "name": "stdout",
     "output_type": "stream",
     "text": [
      "Тип данных для серии fuel_series: category\n",
      "\n",
      "Первые две категории в series:\n",
      "Index(['diesel', 'electric'], dtype='object')\n"
     ]
    }
   ],
   "source": [
    "print(f\"Тип данных для серии fuel_series: {series.dtype}\")\n",
    "print(\"\\nПервые две категории в series:\")\n",
    "print(series.cat.categories[:2])"
   ]
  },
  {
   "cell_type": "markdown",
   "id": "7ca0b6ac",
   "metadata": {
    "ExecuteTime": {
     "end_time": "2022-01-30T00:39:15.501238Z",
     "start_time": "2022-01-30T00:39:15.492712Z"
    },
    "id": "7ca0b6ac"
   },
   "source": [
    "### Задача 8. Выбросы в годе выпуска\n",
    "\n",
    "1. Выведите описательные статистики для года выпуска автомобиля. Обратите внимание на пограничные значения, на квартили.\n",
    "\n"
   ]
  },
  {
   "cell_type": "code",
   "execution_count": 151,
   "id": "4eb87cc4",
   "metadata": {
    "id": "4eb87cc4"
   },
   "outputs": [
    {
     "name": "stdout",
     "output_type": "stream",
     "text": [
      "Описательные статистики для года выпуска автомобиля:\n",
      "count    9902.000000\n",
      "mean     2004.004948\n",
      "std       118.035811\n",
      "min         0.000000\n",
      "25%      2008.000000\n",
      "50%      2013.000000\n",
      "75%      2017.000000\n",
      "max      2022.000000\n",
      "Name: year, dtype: float64\n",
      "\n",
      "Квартили:\n",
      "0.25    2008.0\n",
      "0.50    2013.0\n",
      "0.75    2017.0\n",
      "Name: year, dtype: float64\n"
     ]
    }
   ],
   "source": [
    "print(\"Описательные статистики для года выпуска автомобиля:\")\n",
    "print(df['year'].describe())\n",
    "print(\"\\nКвартили:\")\n",
    "print(df['year'].quantile([0.25, 0.5, 0.75]))"
   ]
  },
  {
   "cell_type": "markdown",
   "id": "ea7d4621",
   "metadata": {
    "id": "ea7d4621"
   },
   "source": [
    "2. Выведите границы для нормальных значений года выпуска, используя интерквартильный размах. Воспользуйтесь материалами из видео. Посмотрите, входят ли минимальное и максимальное значения в интервал между полученными границами.\n"
   ]
  },
  {
   "cell_type": "code",
   "execution_count": 153,
   "id": "5332e1b7",
   "metadata": {
    "ExecuteTime": {
     "end_time": "2022-01-30T19:40:37.156318Z",
     "start_time": "2022-01-30T19:40:37.148044Z"
    },
    "id": "5332e1b7"
   },
   "outputs": [
    {
     "name": "stdout",
     "output_type": "stream",
     "text": [
      "Описательные статистики для года выпуска автомобиля:\n",
      "count    9902.000000\n",
      "mean     2004.004948\n",
      "std       118.035811\n",
      "min         0.000000\n",
      "25%      2008.000000\n",
      "50%      2013.000000\n",
      "75%      2017.000000\n",
      "max      2022.000000\n",
      "Name: year, dtype: float64\n",
      "\n",
      "Квартили:\n",
      "0.25    2008.0\n",
      "0.50    2013.0\n",
      "0.75    2017.0\n",
      "Name: year, dtype: float64\n"
     ]
    }
   ],
   "source": [
    "print(\"Описательные статистики для года выпуска автомобиля:\")\n",
    "print(df['year'].describe())\n",
    "print(\"\\nКвартили:\")\n",
    "print(df['year'].quantile([0.25, 0.5, 0.75]))"
   ]
  },
  {
   "cell_type": "markdown",
   "id": "35061225",
   "metadata": {
    "id": "35061225"
   },
   "source": [
    "3. Посчитайте и выведите количество выбросов в годе выпуска автомобиля.\n"
   ]
  },
  {
   "cell_type": "code",
   "execution_count": 155,
   "id": "0e994229",
   "metadata": {
    "ExecuteTime": {
     "end_time": "2022-01-30T19:49:50.433110Z",
     "start_time": "2022-01-30T19:49:50.429087Z"
    },
    "id": "0e994229"
   },
   "outputs": [
    {
     "name": "stdout",
     "output_type": "stream",
     "text": [
      "Количество выбросов в годе выпуска: 428\n"
     ]
    }
   ],
   "source": [
    "Q1 = df['year'].quantile(0.25)\n",
    "Q3 = df['year'].quantile(0.75)\n",
    "IQR = Q3 - Q1\n",
    "lower_bound = Q1 - 1.5 * IQR\n",
    "upper_bound = Q3 + 1.5 * IQR\n",
    "outliers = df[(df['year'] < lower_bound) | (df['year'] > upper_bound)]\n",
    "num_outliers = len(outliers)\n",
    "\n",
    "print(f\"Количество выбросов в годе выпуска: {num_outliers}\")"
   ]
  },
  {
   "cell_type": "markdown",
   "id": "bdd795fd",
   "metadata": {
    "id": "bdd795fd"
   },
   "source": [
    "4. Посчитайте и выведите долю выбросов в годе выпуска автомобиля.\n"
   ]
  },
  {
   "cell_type": "code",
   "execution_count": 173,
   "id": "88ed9939",
   "metadata": {
    "ExecuteTime": {
     "end_time": "2022-01-30T19:53:31.931143Z",
     "start_time": "2022-01-30T19:53:31.919541Z"
    },
    "id": "88ed9939"
   },
   "outputs": [
    {
     "name": "stdout",
     "output_type": "stream",
     "text": [
      "Доля выбросов в годе выпуска: 0.00%\n"
     ]
    }
   ],
   "source": [
    "outliers = df[(df['year'] < lower_bound) | (df['year'] > upper_bound)]\n",
    "num_outliers = len(outliers)\n",
    "total_count = len(df)\n",
    "outliers_percentage = (num_outliers / total_count) * 100\n",
    "\n",
    "print(f\"Доля выбросов в годе выпуска: {outliers_percentage:.2f}%\")\n"
   ]
  },
  {
   "cell_type": "markdown",
   "id": "766d5606",
   "metadata": {
    "id": "766d5606"
   },
   "source": [
    "5. Выведите записи, в которых год выпуска попадает в выбросы. Посмотрите на данные и подумайте, могут ли эти выбросы описывать особые значения категории цены или других признаков или действительно являются выбросами.\n"
   ]
  },
  {
   "cell_type": "code",
   "execution_count": 195,
   "id": "f4c0956d",
   "metadata": {
    "ExecuteTime": {
     "end_time": "2022-01-30T20:02:12.952212Z",
     "start_time": "2022-01-30T20:02:12.947496Z"
    },
    "id": "f4c0956d"
   },
   "outputs": [
    {
     "name": "stdout",
     "output_type": "stream",
     "text": [
      "Записи с годом выпуска, являющимся выбросом:\n",
      "Empty DataFrame\n",
      "Columns: [id, url, region, region_url, price, year, manufacturer, model, fuel, odometer, title_status, transmission, image_url, description, state, lat, long, posting_date, price_category, date]\n",
      "Index: []\n"
     ]
    }
   ],
   "source": [
    "Q1 = df['year'].quantile(0.25)\n",
    "Q3 = df['year'].quantile(0.75)\n",
    "IQR = Q3 - Q1\n",
    "lower_bound = Q1 - 1.5 * IQR\n",
    "upper_bound = Q3 + 1.5 * IQR\n",
    "outliers_df = df[(df['year'] < lower_bound) | (df['year'] > upper_bound)]\n",
    "\n",
    "print(\"Записи с годом выпуска, являющимся выбросом:\")\n",
    "print(outliers_df)\n"
   ]
  },
  {
   "cell_type": "markdown",
   "id": "0ba3cb06",
   "metadata": {
    "id": "0ba3cb06"
   },
   "source": [
    "6. Выведите количество значений для категории цены для записей, в которых год выпуска автомобиля является выбросом. Описывают ли аномальные значения года выпуска какое-либо из значений цены автомобиля лучше, чем остальные?\n"
   ]
  },
  {
   "cell_type": "code",
   "execution_count": 185,
   "id": "b08f5fbf",
   "metadata": {
    "id": "b08f5fbf"
   },
   "outputs": [
    {
     "name": "stdout",
     "output_type": "stream",
     "text": [
      "Распределение категорий цен среди выбросов года выпуска:\n",
      "Series([], Name: count, dtype: int64)\n"
     ]
    }
   ],
   "source": [
    "outliers_df = df[(df['year'] < lower_bound) | (df['year'] > upper_bound)]\n",
    "price_category_counts = outliers_df['price_category'].value_counts()\n",
    "print(\"Распределение категорий цен среди выбросов года выпуска:\")\n",
    "print(price_category_counts)"
   ]
  },
  {
   "cell_type": "markdown",
   "id": "d8ff39fb",
   "metadata": {
    "id": "d8ff39fb"
   },
   "source": [
    "7. Так как выбросы в годе выпуска находятся среди минимальных значений, заполните те значения, которые являются выбросами, значением нижней границы. Не забудьте учесть, что год должен быть целочисленным значением, входящим в границы нормальных значений.\n"
   ]
  },
  {
   "cell_type": "code",
   "execution_count": 187,
   "id": "ee5b1f54",
   "metadata": {
    "id": "ee5b1f54"
   },
   "outputs": [
    {
     "name": "stdout",
     "output_type": "stream",
     "text": [
      "Записи после обработки:\n",
      "              id                                                url  \\\n",
      "0     7308295377  https://chattanooga.craigslist.org/ctd/d/chatt...   \n",
      "1     7316380095  https://newjersey.craigslist.org/ctd/d/carlsta...   \n",
      "2     7313733749  https://reno.craigslist.org/ctd/d/atlanta-2017...   \n",
      "3     7308210929  https://fayetteville.craigslist.org/ctd/d/rale...   \n",
      "4     7316474668  https://newyork.craigslist.org/lgi/cto/d/baldw...   \n",
      "...          ...                                                ...   \n",
      "9897  7304876387  https://chautauqua.craigslist.org/ctd/d/falcon...   \n",
      "9898  7316152972  https://binghamton.craigslist.org/ctd/d/roches...   \n",
      "9899  7310993818  https://salem.craigslist.org/ctd/d/salem-2011-...   \n",
      "9900  7306637427  https://madison.craigslist.org/ctd/d/madison-2...   \n",
      "9901  7311960763  https://norfolk.craigslist.org/ctd/d/chesapeak...   \n",
      "\n",
      "                       region                           region_url  price  \\\n",
      "0                 chattanooga   https://chattanooga.craigslist.org  54990   \n",
      "1                north jersey     https://newjersey.craigslist.org  16942   \n",
      "2                reno / tahoe          https://reno.craigslist.org  35590   \n",
      "3                fayetteville  https://fayetteville.craigslist.org  14500   \n",
      "4               new york city       https://newyork.craigslist.org  21800   \n",
      "...                       ...                                  ...    ...   \n",
      "9897               chautauqua    https://chautauqua.craigslist.org   4495   \n",
      "9898               binghamton    https://binghamton.craigslist.org  14495   \n",
      "9899                    salem         https://salem.craigslist.org   8995   \n",
      "9900                  madison       https://madison.craigslist.org  31900   \n",
      "9901  norfolk / hampton roads       https://norfolk.craigslist.org  31990   \n",
      "\n",
      "      year manufacturer                      model    fuel  odometer  \\\n",
      "0     2020          ram     2500 crew cab big horn  diesel     27442   \n",
      "1     2016         ford       explorer 4wd 4dr xlt   other     60023   \n",
      "2     2017   volkswagen           golf r hatchback     gas     14048   \n",
      "3     2013       toyota                       rav4     gas    117291   \n",
      "4     2021       nissan                     altima     gas      8000   \n",
      "...    ...          ...                        ...     ...       ...   \n",
      "9897  2002       toyota                       rav4     gas    150000   \n",
      "9898  2008         jeep                   wrangler     gas    113573   \n",
      "9899  2011         audi  a3 2.0t premium plus pzev     gas    150184   \n",
      "9900  2015      porsche                    cayenne  hybrid     61943   \n",
      "9901  2017          ram     1500 crew cab big horn     gas     35921   \n",
      "\n",
      "     title_status transmission  \\\n",
      "0           clean        other   \n",
      "1           clean    automatic   \n",
      "2           clean        other   \n",
      "3           clean    automatic   \n",
      "4           clean    automatic   \n",
      "...           ...          ...   \n",
      "9897        clean    automatic   \n",
      "9898        clean        other   \n",
      "9899        clean    automatic   \n",
      "9900        clean    automatic   \n",
      "9901        clean        other   \n",
      "\n",
      "                                              image_url  \\\n",
      "0     https://images.craigslist.org/00N0N_1xMPvfxRAI...   \n",
      "1     https://images.craigslist.org/00x0x_26jl9F0cnL...   \n",
      "2     https://images.craigslist.org/00y0y_eeZjWeiSfb...   \n",
      "3     https://images.craigslist.org/00606_iGe5iXidib...   \n",
      "4     https://images.craigslist.org/00V0V_3pSOiPZ3Sd...   \n",
      "...                                                 ...   \n",
      "9897  https://images.craigslist.org/00n0n_aaEBqmzz5Z...   \n",
      "9898  https://images.craigslist.org/00000_9ZNVdXaiei...   \n",
      "9899  https://images.craigslist.org/00X0X_k5JiZDDyqM...   \n",
      "9900  https://images.craigslist.org/00O0O_gBihGEQxYT...   \n",
      "9901  https://images.craigslist.org/00c0c_4rTlvLXy36...   \n",
      "\n",
      "                                            description state        lat  \\\n",
      "0     Carvana is the safer way to buy a car During t...    tn  35.060000   \n",
      "1     ***Call Us for more information at: 201-635-14...    nj  40.821805   \n",
      "2     Carvana is the safer way to buy a car During t...    ca  33.779214   \n",
      "3     2013 Toyota RAV4 XLE 4dr SUV     Offered by: R...    nc  35.715954   \n",
      "4     2021 Nissan Altima Sv with Only 8 K Miles Titl...    ny  40.654800   \n",
      "...                                                 ...   ...        ...   \n",
      "9897  Transmission:Automatic Exterior Color:WHITE In...    ny  42.123900   \n",
      "9898  2008 Jeep Wrangler X  Offered by: R&L Auto -- ...    ny  43.216990   \n",
      "9899  2011 Audi A3 2.0T Premium Plus PZEV Wagon2011 ...    or  44.925908   \n",
      "9900  2015 Porsche Cayenne AWD 4dr S E-Hybrid - $31,...    wi  43.029559   \n",
      "9901  Carvana is the safer way to buy a car During t...    va  36.670000   \n",
      "\n",
      "            long              posting_date price_category  \\\n",
      "0     -85.250000  2021-04-17T12:30:50-0400           high   \n",
      "1     -74.061962  2021-05-03T15:40:21-0400         medium   \n",
      "2     -84.411811  2021-04-28T03:52:20-0700           high   \n",
      "3     -78.655304  2021-04-17T10:08:57-0400         medium   \n",
      "4     -73.609700  2021-05-03T18:32:06-0400         medium   \n",
      "...          ...                       ...            ...   \n",
      "9897  -79.189500  2021-04-10T16:33:57-0400            low   \n",
      "9898  -77.755610  2021-05-03T09:36:30-0400         medium   \n",
      "9899 -122.982753  2021-04-22T12:14:01-0700            low   \n",
      "9900  -89.397796  2021-04-14T09:14:42-0500           high   \n",
      "9901  -76.300000  2021-04-24T13:50:49-0400           high   \n",
      "\n",
      "                           date  \n",
      "0     2021-04-17 16:30:50+00:00  \n",
      "1     2021-05-03 19:40:21+00:00  \n",
      "2     2021-04-28 10:52:20+00:00  \n",
      "3     2021-04-17 14:08:57+00:00  \n",
      "4     2021-05-03 22:32:06+00:00  \n",
      "...                         ...  \n",
      "9897  2021-04-10 20:33:57+00:00  \n",
      "9898  2021-05-03 13:36:30+00:00  \n",
      "9899  2021-04-22 19:14:01+00:00  \n",
      "9900  2021-04-14 14:14:42+00:00  \n",
      "9901  2021-04-24 17:50:49+00:00  \n",
      "\n",
      "[9902 rows x 20 columns]\n",
      "Нижняя граница: 1995\n"
     ]
    }
   ],
   "source": [
    "import numpy as np\n",
    "lower_bound = int(np.ceil(lower_bound))\n",
    "df['year'] = df['year'].apply(lambda year: lower_bound if year < lower_bound else year)\n",
    "print(\"Записи после обработки:\")\n",
    "print(df)\n",
    "print(f\"Нижняя граница: {lower_bound}\")"
   ]
  },
  {
   "cell_type": "markdown",
   "id": "37f3e174",
   "metadata": {
    "id": "37f3e174"
   },
   "source": [
    "8. Выведите ещё раз описательные статистики для года выпуска автомобиля, чтобы проверить, что теперь все значения года входят в границы нормальных значений."
   ]
  },
  {
   "cell_type": "code",
   "execution_count": 193,
   "id": "8298942d",
   "metadata": {
    "id": "8298942d"
   },
   "outputs": [
    {
     "name": "stdout",
     "output_type": "stream",
     "text": [
      "Описательные статистики для года выпуска автомобиля после обработки:\n",
      "count    9902.000000\n",
      "mean     2011.640982\n",
      "std         6.488020\n",
      "min      1995.000000\n",
      "25%      2008.000000\n",
      "50%      2013.000000\n",
      "75%      2017.000000\n",
      "max      2022.000000\n",
      "Name: year, dtype: float64\n"
     ]
    }
   ],
   "source": [
    "print(\"Описательные статистики для года выпуска автомобиля после обработки:\")\n",
    "print(df['year'].describe())\n"
   ]
  },
  {
   "cell_type": "markdown",
   "id": "bc20060a",
   "metadata": {
    "id": "bc20060a"
   },
   "source": [
    "## Дополнительные задачи"
   ]
  },
  {
   "cell_type": "markdown",
   "id": "c487f4c6",
   "metadata": {
    "id": "c487f4c6"
   },
   "source": [
    "### Задача 9. Загрузка датафрейма с параметрами преобразования\n",
    "\n",
    "Некоторые преобразования признаков можно сделать ещё в момент загрузки датафрейма из файла.\n",
    "\n",
    "1. Прочитайте в новый датафрейм файл `data/vehicles_dataset.csv`, выбрав только нужные колонки и применив приведение типов данных. Обратитесь к [документации](https://pandas.pydata.org/docs/reference/api/pandas.read_csv.html), чтобы узнать, за что отвечают параметры `usecols`,  `parse_dates` и `dtype`.\n",
    "\n",
    "\n",
    "Датафрейм должен содержать:\n",
    "- колонки `price`, `year`, `posting_date`;\n",
    "- `posting_date` в datatime-формате;\n",
    "- `price` в вещественном формате;\n",
    "- `year` в целочисленном формате.\n",
    "\n",
    "Возможно, вы столкнётесь с ошибкой при считывании года в виде целого числа. Подробнее о том, как бороться с этой ошибкой, можно узнать в документации по `обнуляемому целочисленному типу данных`:\n",
    "- https://pandas.pydata.org/pandas-docs/stable/user_guide/integer_na.html\n",
    "\n",
    "*Подсказка:* Pandas может представлять целочисленные данные с возможными отсутствующими значениями, используя [arrays.IntegerArray](https://pandas.pydata.org/pandas-docs/stable/reference/api/pandas.arrays.IntegerArray.html#pandas.arrays.IntegerArray) или его псевдонимы, которые вы сможете найти в документации."
   ]
  },
  {
   "cell_type": "code",
   "execution_count": null,
   "id": "82f71c41",
   "metadata": {
    "id": "82f71c41"
   },
   "outputs": [],
   "source": [
    "# Ваш код здесь"
   ]
  },
  {
   "cell_type": "markdown",
   "id": "505694a3",
   "metadata": {
    "ExecuteTime": {
     "end_time": "2022-01-30T21:11:12.586710Z",
     "start_time": "2022-01-30T21:11:12.579544Z"
    },
    "id": "505694a3"
   },
   "source": [
    "2. Выведите информацию о датафрейме, чтобы убедиться, что признаки при загрузке преобразовались верно.\n"
   ]
  },
  {
   "cell_type": "code",
   "execution_count": null,
   "id": "e7c59b87",
   "metadata": {
    "id": "e7c59b87"
   },
   "outputs": [],
   "source": [
    "# Ваш код здесь"
   ]
  },
  {
   "cell_type": "markdown",
   "id": "2e41b4f8",
   "metadata": {
    "id": "2e41b4f8"
   },
   "source": [
    "3. Для первой записи в датафрейме извлеките из `posting_date` и выведите номер месяца.\n"
   ]
  },
  {
   "cell_type": "code",
   "execution_count": null,
   "id": "17ea2615",
   "metadata": {
    "id": "17ea2615"
   },
   "outputs": [],
   "source": [
    "# Ваш код здесь"
   ]
  }
 ],
 "metadata": {
  "colab": {
   "collapsed_sections": [],
   "provenance": []
  },
  "kernelspec": {
   "display_name": "Python 3 (ipykernel)",
   "language": "python",
   "name": "python3"
  },
  "language_info": {
   "codemirror_mode": {
    "name": "ipython",
    "version": 3
   },
   "file_extension": ".py",
   "mimetype": "text/x-python",
   "name": "python",
   "nbconvert_exporter": "python",
   "pygments_lexer": "ipython3",
   "version": "3.12.7"
  },
  "toc": {
   "base_numbering": 1,
   "nav_menu": {},
   "number_sections": true,
   "sideBar": true,
   "skip_h1_title": false,
   "title_cell": "Table of Contents",
   "title_sidebar": "Contents",
   "toc_cell": false,
   "toc_position": {},
   "toc_section_display": true,
   "toc_window_display": false
  }
 },
 "nbformat": 4,
 "nbformat_minor": 5
}
